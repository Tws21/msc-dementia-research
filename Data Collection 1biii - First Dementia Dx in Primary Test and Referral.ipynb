{
 "cells": [
  {
   "cell_type": "code",
   "execution_count": 1,
   "metadata": {},
   "outputs": [],
   "source": [
    "# imports\n",
    "import sys\n",
    "import os\n",
    "import socket\n",
    "import pandas as pd\n",
    "import glob\n",
    "from datetime import datetime"
   ]
  },
  {
   "cell_type": "code",
   "execution_count": 2,
   "metadata": {},
   "outputs": [
    {
     "data": {
      "text/html": [
       "<div>\n",
       "<style scoped>\n",
       "    .dataframe tbody tr th:only-of-type {\n",
       "        vertical-align: middle;\n",
       "    }\n",
       "\n",
       "    .dataframe tbody tr th {\n",
       "        vertical-align: top;\n",
       "    }\n",
       "\n",
       "    .dataframe thead th {\n",
       "        text-align: right;\n",
       "    }\n",
       "</style>\n",
       "<table border=\"1\" class=\"dataframe\">\n",
       "  <thead>\n",
       "    <tr style=\"text-align: right;\">\n",
       "      <th></th>\n",
       "      <th>e_patid</th>\n",
       "      <th>eventdate</th>\n",
       "      <th>sysdate</th>\n",
       "      <th>constype</th>\n",
       "      <th>consid</th>\n",
       "      <th>medcode</th>\n",
       "      <th>enttype</th>\n",
       "      <th>data1</th>\n",
       "      <th>data2</th>\n",
       "      <th>data3</th>\n",
       "      <th>data4</th>\n",
       "      <th>data5</th>\n",
       "      <th>data6</th>\n",
       "      <th>data7</th>\n",
       "      <th>data8</th>\n",
       "    </tr>\n",
       "  </thead>\n",
       "  <tbody>\n",
       "    <tr>\n",
       "      <th>506109</th>\n",
       "      <td>157719246</td>\n",
       "      <td>2001-07-19</td>\n",
       "      <td>2002-02-07</td>\n",
       "      <td>2</td>\n",
       "      <td>1115667</td>\n",
       "      <td>1350</td>\n",
       "      <td>288</td>\n",
       "      <td>0.0</td>\n",
       "      <td>NaN</td>\n",
       "      <td>0.0</td>\n",
       "      <td>0</td>\n",
       "      <td>NaN</td>\n",
       "      <td>NaN</td>\n",
       "      <td>0.0</td>\n",
       "      <td>None</td>\n",
       "    </tr>\n",
       "    <tr>\n",
       "      <th>506110</th>\n",
       "      <td>157719246</td>\n",
       "      <td>2001-07-19</td>\n",
       "      <td>2002-02-07</td>\n",
       "      <td>2</td>\n",
       "      <td>1115667</td>\n",
       "      <td>1350</td>\n",
       "      <td>288</td>\n",
       "      <td>0.0</td>\n",
       "      <td>NaN</td>\n",
       "      <td>0.0</td>\n",
       "      <td>0</td>\n",
       "      <td>NaN</td>\n",
       "      <td>NaN</td>\n",
       "      <td>0.0</td>\n",
       "      <td>None</td>\n",
       "    </tr>\n",
       "    <tr>\n",
       "      <th>506115</th>\n",
       "      <td>157719246</td>\n",
       "      <td>2001-07-19</td>\n",
       "      <td>2002-02-07</td>\n",
       "      <td>2</td>\n",
       "      <td>1115667</td>\n",
       "      <td>1350</td>\n",
       "      <td>288</td>\n",
       "      <td>0.0</td>\n",
       "      <td>NaN</td>\n",
       "      <td>0.0</td>\n",
       "      <td>0</td>\n",
       "      <td>NaN</td>\n",
       "      <td>NaN</td>\n",
       "      <td>0.0</td>\n",
       "      <td>None</td>\n",
       "    </tr>\n",
       "    <tr>\n",
       "      <th>506116</th>\n",
       "      <td>157719246</td>\n",
       "      <td>2001-07-19</td>\n",
       "      <td>2002-02-07</td>\n",
       "      <td>2</td>\n",
       "      <td>1115667</td>\n",
       "      <td>1350</td>\n",
       "      <td>288</td>\n",
       "      <td>0.0</td>\n",
       "      <td>NaN</td>\n",
       "      <td>0.0</td>\n",
       "      <td>0</td>\n",
       "      <td>NaN</td>\n",
       "      <td>NaN</td>\n",
       "      <td>0.0</td>\n",
       "      <td>None</td>\n",
       "    </tr>\n",
       "    <tr>\n",
       "      <th>506118</th>\n",
       "      <td>157719246</td>\n",
       "      <td>2001-07-19</td>\n",
       "      <td>2002-02-07</td>\n",
       "      <td>2</td>\n",
       "      <td>1115667</td>\n",
       "      <td>1350</td>\n",
       "      <td>288</td>\n",
       "      <td>0.0</td>\n",
       "      <td>NaN</td>\n",
       "      <td>0.0</td>\n",
       "      <td>0</td>\n",
       "      <td>NaN</td>\n",
       "      <td>NaN</td>\n",
       "      <td>0.0</td>\n",
       "      <td>None</td>\n",
       "    </tr>\n",
       "  </tbody>\n",
       "</table>\n",
       "</div>"
      ],
      "text/plain": [
       "          e_patid  eventdate    sysdate  constype   consid  medcode  enttype  \\\n",
       "506109  157719246 2001-07-19 2002-02-07         2  1115667     1350      288   \n",
       "506110  157719246 2001-07-19 2002-02-07         2  1115667     1350      288   \n",
       "506115  157719246 2001-07-19 2002-02-07         2  1115667     1350      288   \n",
       "506116  157719246 2001-07-19 2002-02-07         2  1115667     1350      288   \n",
       "506118  157719246 2001-07-19 2002-02-07         2  1115667     1350      288   \n",
       "\n",
       "        data1  data2  data3  data4  data5  data6  data7 data8  \n",
       "506109    0.0    NaN    0.0      0    NaN    NaN    0.0  None  \n",
       "506110    0.0    NaN    0.0      0    NaN    NaN    0.0  None  \n",
       "506115    0.0    NaN    0.0      0    NaN    NaN    0.0  None  \n",
       "506116    0.0    NaN    0.0      0    NaN    NaN    0.0  None  \n",
       "506118    0.0    NaN    0.0      0    NaN    NaN    0.0  None  "
      ]
     },
     "execution_count": 2,
     "metadata": {},
     "output_type": "execute_result"
    }
   ],
   "source": [
    "# read in test diagnosis file\n",
    "dementia_dx_test = pd.read_parquet(os.getcwd() + '/dementia_patients_test_data.parquet')\n",
    "dementia_dx_test.head()"
   ]
  },
  {
   "cell_type": "code",
   "execution_count": 3,
   "metadata": {},
   "outputs": [
    {
     "data": {
      "text/html": [
       "<div>\n",
       "<style scoped>\n",
       "    .dataframe tbody tr th:only-of-type {\n",
       "        vertical-align: middle;\n",
       "    }\n",
       "\n",
       "    .dataframe tbody tr th {\n",
       "        vertical-align: top;\n",
       "    }\n",
       "\n",
       "    .dataframe thead th {\n",
       "        text-align: right;\n",
       "    }\n",
       "</style>\n",
       "<table border=\"1\" class=\"dataframe\">\n",
       "  <thead>\n",
       "    <tr style=\"text-align: right;\">\n",
       "      <th></th>\n",
       "      <th>e_patid</th>\n",
       "      <th>eventdate</th>\n",
       "      <th>sysdate</th>\n",
       "      <th>constype</th>\n",
       "      <th>consid</th>\n",
       "      <th>medcode</th>\n",
       "      <th>nhsspec</th>\n",
       "      <th>attendance</th>\n",
       "      <th>urgency</th>\n",
       "    </tr>\n",
       "  </thead>\n",
       "  <tbody>\n",
       "    <tr>\n",
       "      <th>3074</th>\n",
       "      <td>10525191</td>\n",
       "      <td>2003-05-02</td>\n",
       "      <td>2003-05-02</td>\n",
       "      <td>4</td>\n",
       "      <td>1227502</td>\n",
       "      <td>6578</td>\n",
       "      <td>54</td>\n",
       "      <td>1</td>\n",
       "      <td>2</td>\n",
       "    </tr>\n",
       "    <tr>\n",
       "      <th>3079</th>\n",
       "      <td>10525191</td>\n",
       "      <td>2003-07-01</td>\n",
       "      <td>2003-07-01</td>\n",
       "      <td>4</td>\n",
       "      <td>1227532</td>\n",
       "      <td>6578</td>\n",
       "      <td>0</td>\n",
       "      <td>0</td>\n",
       "      <td>2</td>\n",
       "    </tr>\n",
       "    <tr>\n",
       "      <th>6221</th>\n",
       "      <td>11155213</td>\n",
       "      <td>2009-10-01</td>\n",
       "      <td>2009-10-02</td>\n",
       "      <td>4</td>\n",
       "      <td>805469</td>\n",
       "      <td>1916</td>\n",
       "      <td>70</td>\n",
       "      <td>0</td>\n",
       "      <td>2</td>\n",
       "    </tr>\n",
       "    <tr>\n",
       "      <th>6738</th>\n",
       "      <td>112629220</td>\n",
       "      <td>2006-05-03</td>\n",
       "      <td>2006-05-04</td>\n",
       "      <td>4</td>\n",
       "      <td>1845552</td>\n",
       "      <td>1350</td>\n",
       "      <td>54</td>\n",
       "      <td>1</td>\n",
       "      <td>4</td>\n",
       "    </tr>\n",
       "    <tr>\n",
       "      <th>9910</th>\n",
       "      <td>117980213</td>\n",
       "      <td>2014-03-07</td>\n",
       "      <td>2014-03-10</td>\n",
       "      <td>4</td>\n",
       "      <td>2482894</td>\n",
       "      <td>1350</td>\n",
       "      <td>41</td>\n",
       "      <td>0</td>\n",
       "      <td>2</td>\n",
       "    </tr>\n",
       "  </tbody>\n",
       "</table>\n",
       "</div>"
      ],
      "text/plain": [
       "        e_patid  eventdate    sysdate  constype   consid  medcode  nhsspec  \\\n",
       "3074   10525191 2003-05-02 2003-05-02         4  1227502     6578       54   \n",
       "3079   10525191 2003-07-01 2003-07-01         4  1227532     6578        0   \n",
       "6221   11155213 2009-10-01 2009-10-02         4   805469     1916       70   \n",
       "6738  112629220 2006-05-03 2006-05-04         4  1845552     1350       54   \n",
       "9910  117980213 2014-03-07 2014-03-10         4  2482894     1350       41   \n",
       "\n",
       "      attendance  urgency  \n",
       "3074           1        2  \n",
       "3079           0        2  \n",
       "6221           0        2  \n",
       "6738           1        4  \n",
       "9910           0        2  "
      ]
     },
     "execution_count": 3,
     "metadata": {},
     "output_type": "execute_result"
    }
   ],
   "source": [
    "# read in referral diagnosis file\n",
    "dementia_dx_ref = pd.read_parquet(os.getcwd() + '/dementia_patients_referral_data.parquet')\n",
    "dementia_dx_ref.head()"
   ]
  },
  {
   "cell_type": "code",
   "execution_count": 4,
   "metadata": {},
   "outputs": [],
   "source": [
    "# get unique e_patids from both\n",
    "e_patids_test = dementia_dx_test['e_patid'].unique()\n",
    "e_patids_ref = dementia_dx_ref['e_patid'].unique()"
   ]
  },
  {
   "cell_type": "code",
   "execution_count": 5,
   "metadata": {},
   "outputs": [],
   "source": [
    "# Replace nan eventdates with sysdates and make date object\n",
    "dementia_dx_test['eventdate'].fillna(dementia_dx_test['sysdate'], inplace = True)\n",
    "dementia_dx_ref['eventdate'].fillna(dementia_dx_ref['sysdate'], inplace = True)"
   ]
  },
  {
   "cell_type": "code",
   "execution_count": 6,
   "metadata": {},
   "outputs": [],
   "source": [
    "# format event date\n",
    "dementia_dx_test['eventdate'] = pd.to_datetime(\n",
    "    dementia_dx_test['eventdate'], format = \"%d/%m/%Y\")\n",
    "dementia_dx_ref['eventdate'] = pd.to_datetime(\n",
    "    dementia_dx_ref['eventdate'], format = \"%d/%m/%Y\")"
   ]
  },
  {
   "cell_type": "code",
   "execution_count": 7,
   "metadata": {},
   "outputs": [],
   "source": [
    "# get first dx date in test for each e_patid\n",
    "first_dementia_code_dates_test = []\n",
    "for i in e_patids_test:\n",
    "    first_dementia_code_dates_test += [min(\n",
    "        dementia_dx_test[dementia_dx_test['e_patid'] == i]['eventdate'])]"
   ]
  },
  {
   "cell_type": "code",
   "execution_count": 8,
   "metadata": {},
   "outputs": [],
   "source": [
    "# make df of dates\n",
    "df_first_dates_test = pd.DataFrame({\"e_patid\": e_patids_test, \"eventdate\": first_dementia_code_dates_test})"
   ]
  },
  {
   "cell_type": "code",
   "execution_count": 9,
   "metadata": {},
   "outputs": [
    {
     "data": {
      "text/html": [
       "<div>\n",
       "<style scoped>\n",
       "    .dataframe tbody tr th:only-of-type {\n",
       "        vertical-align: middle;\n",
       "    }\n",
       "\n",
       "    .dataframe tbody tr th {\n",
       "        vertical-align: top;\n",
       "    }\n",
       "\n",
       "    .dataframe thead th {\n",
       "        text-align: right;\n",
       "    }\n",
       "</style>\n",
       "<table border=\"1\" class=\"dataframe\">\n",
       "  <thead>\n",
       "    <tr style=\"text-align: right;\">\n",
       "      <th></th>\n",
       "      <th>e_patid</th>\n",
       "      <th>eventdate</th>\n",
       "    </tr>\n",
       "  </thead>\n",
       "  <tbody>\n",
       "    <tr>\n",
       "      <th>0</th>\n",
       "      <td>157719246</td>\n",
       "      <td>2001-07-19</td>\n",
       "    </tr>\n",
       "    <tr>\n",
       "      <th>1</th>\n",
       "      <td>636522123</td>\n",
       "      <td>2017-07-31</td>\n",
       "    </tr>\n",
       "  </tbody>\n",
       "</table>\n",
       "</div>"
      ],
      "text/plain": [
       "     e_patid  eventdate\n",
       "0  157719246 2001-07-19\n",
       "1  636522123 2017-07-31"
      ]
     },
     "execution_count": 9,
     "metadata": {},
     "output_type": "execute_result"
    }
   ],
   "source": [
    "df_first_dates_test.head()"
   ]
  },
  {
   "cell_type": "code",
   "execution_count": 10,
   "metadata": {},
   "outputs": [],
   "source": [
    "# merge with dx test df to get first dx row in test\n",
    "first_dementia_dx_test = df_first_dates_test.merge(\n",
    "    right = dementia_dx_test, on = ['e_patid', 'eventdate'], how = 'inner')"
   ]
  },
  {
   "cell_type": "code",
   "execution_count": 11,
   "metadata": {},
   "outputs": [
    {
     "data": {
      "text/plain": [
       "6"
      ]
     },
     "execution_count": 11,
     "metadata": {},
     "output_type": "execute_result"
    }
   ],
   "source": [
    "first_dementia_dx_test.shape[0]"
   ]
  },
  {
   "cell_type": "code",
   "execution_count": 12,
   "metadata": {},
   "outputs": [
    {
     "data": {
      "text/plain": [
       "6"
      ]
     },
     "execution_count": 12,
     "metadata": {},
     "output_type": "execute_result"
    }
   ],
   "source": [
    "dementia_dx_test.shape[0]"
   ]
  },
  {
   "cell_type": "code",
   "execution_count": 13,
   "metadata": {},
   "outputs": [],
   "source": [
    "# save as parquet\n",
    "first_dementia_dx_test.to_parquet(os.getcwd() + '/first_dementia_dx_in_primary_test.parquet')"
   ]
  },
  {
   "cell_type": "code",
   "execution_count": 14,
   "metadata": {},
   "outputs": [],
   "source": [
    "# get first dx date in referral for each e_patid\n",
    "first_dementia_code_dates_ref = []\n",
    "for i in e_patids_ref:\n",
    "    first_dementia_code_dates_ref += [min(\n",
    "        dementia_dx_ref[dementia_dx_ref['e_patid'] == i]['eventdate'])]"
   ]
  },
  {
   "cell_type": "code",
   "execution_count": 15,
   "metadata": {},
   "outputs": [],
   "source": [
    "# make df\n",
    "df_first_dates_ref = pd.DataFrame({\"e_patid\": e_patids_ref, \"eventdate\": first_dementia_code_dates_ref})"
   ]
  },
  {
   "cell_type": "code",
   "execution_count": 16,
   "metadata": {},
   "outputs": [
    {
     "data": {
      "text/html": [
       "<div>\n",
       "<style scoped>\n",
       "    .dataframe tbody tr th:only-of-type {\n",
       "        vertical-align: middle;\n",
       "    }\n",
       "\n",
       "    .dataframe tbody tr th {\n",
       "        vertical-align: top;\n",
       "    }\n",
       "\n",
       "    .dataframe thead th {\n",
       "        text-align: right;\n",
       "    }\n",
       "</style>\n",
       "<table border=\"1\" class=\"dataframe\">\n",
       "  <thead>\n",
       "    <tr style=\"text-align: right;\">\n",
       "      <th></th>\n",
       "      <th>e_patid</th>\n",
       "      <th>eventdate</th>\n",
       "    </tr>\n",
       "  </thead>\n",
       "  <tbody>\n",
       "    <tr>\n",
       "      <th>0</th>\n",
       "      <td>10525191</td>\n",
       "      <td>2003-05-02</td>\n",
       "    </tr>\n",
       "    <tr>\n",
       "      <th>1</th>\n",
       "      <td>11155213</td>\n",
       "      <td>2009-10-01</td>\n",
       "    </tr>\n",
       "    <tr>\n",
       "      <th>2</th>\n",
       "      <td>112629220</td>\n",
       "      <td>2006-05-03</td>\n",
       "    </tr>\n",
       "    <tr>\n",
       "      <th>3</th>\n",
       "      <td>117980213</td>\n",
       "      <td>2014-03-07</td>\n",
       "    </tr>\n",
       "    <tr>\n",
       "      <th>4</th>\n",
       "      <td>123982213</td>\n",
       "      <td>1998-08-05</td>\n",
       "    </tr>\n",
       "  </tbody>\n",
       "</table>\n",
       "</div>"
      ],
      "text/plain": [
       "     e_patid  eventdate\n",
       "0   10525191 2003-05-02\n",
       "1   11155213 2009-10-01\n",
       "2  112629220 2006-05-03\n",
       "3  117980213 2014-03-07\n",
       "4  123982213 1998-08-05"
      ]
     },
     "execution_count": 16,
     "metadata": {},
     "output_type": "execute_result"
    }
   ],
   "source": [
    "df_first_dates_ref.head()"
   ]
  },
  {
   "cell_type": "code",
   "execution_count": 17,
   "metadata": {},
   "outputs": [],
   "source": [
    "# merge with dx file to get first dx file for each e_patid\n",
    "first_dementia_dx_ref = df_first_dates_ref.merge(\n",
    "    right = dementia_dx_ref, on = ['e_patid', 'eventdate'], how = 'inner')"
   ]
  },
  {
   "cell_type": "code",
   "execution_count": 18,
   "metadata": {},
   "outputs": [
    {
     "data": {
      "text/plain": [
       "4549"
      ]
     },
     "execution_count": 18,
     "metadata": {},
     "output_type": "execute_result"
    }
   ],
   "source": [
    "first_dementia_dx_ref.shape[0]"
   ]
  },
  {
   "cell_type": "code",
   "execution_count": 19,
   "metadata": {},
   "outputs": [
    {
     "data": {
      "text/plain": [
       "5243"
      ]
     },
     "execution_count": 19,
     "metadata": {},
     "output_type": "execute_result"
    }
   ],
   "source": [
    "dementia_dx_ref.shape[0]"
   ]
  },
  {
   "cell_type": "code",
   "execution_count": 20,
   "metadata": {},
   "outputs": [],
   "source": [
    "# save as parquet\n",
    "first_dementia_dx_ref.to_parquet(os.getcwd() + '/first_dementia_dx_in_primary_referral.parquet')"
   ]
  },
  {
   "cell_type": "code",
   "execution_count": null,
   "metadata": {},
   "outputs": [],
   "source": []
  }
 ],
 "metadata": {
  "kernelspec": {
   "display_name": "Python 3",
   "language": "python",
   "name": "python3"
  },
  "language_info": {
   "codemirror_mode": {
    "name": "ipython",
    "version": 3
   },
   "file_extension": ".py",
   "mimetype": "text/x-python",
   "name": "python",
   "nbconvert_exporter": "python",
   "pygments_lexer": "ipython3",
   "version": "3.7.6"
  }
 },
 "nbformat": 4,
 "nbformat_minor": 4
}
