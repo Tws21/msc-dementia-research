{
 "cells": [
  {
   "cell_type": "code",
   "execution_count": 13,
   "metadata": {},
   "outputs": [],
   "source": [
    "# imports\n",
    "import sys\n",
    "import os\n",
    "import socket\n",
    "import pandas as pd\n",
    "import glob\n",
    "from datetime import datetime"
   ]
  },
  {
   "cell_type": "code",
   "execution_count": 14,
   "metadata": {},
   "outputs": [],
   "source": [
    "# read in all dementia diagnosis rows from clinical files\n",
    "dementia_patients_primary_care = pd.read_parquet(os.getcwd() + '/dementia_patients_data.parquet')"
   ]
  },
  {
   "cell_type": "code",
   "execution_count": 15,
   "metadata": {},
   "outputs": [
    {
     "data": {
      "text/html": [
       "<div>\n",
       "<style scoped>\n",
       "    .dataframe tbody tr th:only-of-type {\n",
       "        vertical-align: middle;\n",
       "    }\n",
       "\n",
       "    .dataframe tbody tr th {\n",
       "        vertical-align: top;\n",
       "    }\n",
       "\n",
       "    .dataframe thead th {\n",
       "        text-align: right;\n",
       "    }\n",
       "</style>\n",
       "<table border=\"1\" class=\"dataframe\">\n",
       "  <thead>\n",
       "    <tr style=\"text-align: right;\">\n",
       "      <th></th>\n",
       "      <th>e_patid</th>\n",
       "      <th>eventdate</th>\n",
       "      <th>sysdate</th>\n",
       "      <th>constype</th>\n",
       "      <th>consid</th>\n",
       "      <th>medcode</th>\n",
       "      <th>episode</th>\n",
       "      <th>enttype</th>\n",
       "      <th>adid</th>\n",
       "    </tr>\n",
       "  </thead>\n",
       "  <tbody>\n",
       "    <tr>\n",
       "      <th>408</th>\n",
       "      <td>10010191</td>\n",
       "      <td>2000-01-24</td>\n",
       "      <td>2004-02-10</td>\n",
       "      <td>3</td>\n",
       "      <td>136438</td>\n",
       "      <td>4500</td>\n",
       "      <td>4</td>\n",
       "      <td>2</td>\n",
       "      <td>0</td>\n",
       "    </tr>\n",
       "    <tr>\n",
       "      <th>423</th>\n",
       "      <td>10010191</td>\n",
       "      <td>2001-09-03</td>\n",
       "      <td>2001-10-04</td>\n",
       "      <td>3</td>\n",
       "      <td>136455</td>\n",
       "      <td>1917</td>\n",
       "      <td>4</td>\n",
       "      <td>2</td>\n",
       "      <td>0</td>\n",
       "    </tr>\n",
       "    <tr>\n",
       "      <th>5893</th>\n",
       "      <td>100349220</td>\n",
       "      <td>1995-11-28</td>\n",
       "      <td>2016-04-04</td>\n",
       "      <td>3</td>\n",
       "      <td>1483382</td>\n",
       "      <td>1916</td>\n",
       "      <td>4</td>\n",
       "      <td>2</td>\n",
       "      <td>0</td>\n",
       "    </tr>\n",
       "    <tr>\n",
       "      <th>5908</th>\n",
       "      <td>100349220</td>\n",
       "      <td>2001-02-27</td>\n",
       "      <td>2016-04-04</td>\n",
       "      <td>3</td>\n",
       "      <td>1483418</td>\n",
       "      <td>8634</td>\n",
       "      <td>1</td>\n",
       "      <td>2</td>\n",
       "      <td>0</td>\n",
       "    </tr>\n",
       "    <tr>\n",
       "      <th>5911</th>\n",
       "      <td>100349220</td>\n",
       "      <td>1998-07-10</td>\n",
       "      <td>2016-04-04</td>\n",
       "      <td>3</td>\n",
       "      <td>1483382</td>\n",
       "      <td>8634</td>\n",
       "      <td>4</td>\n",
       "      <td>2</td>\n",
       "      <td>0</td>\n",
       "    </tr>\n",
       "  </tbody>\n",
       "</table>\n",
       "</div>"
      ],
      "text/plain": [
       "        e_patid  eventdate    sysdate  constype   consid  medcode  episode  \\\n",
       "408    10010191 2000-01-24 2004-02-10         3   136438     4500        4   \n",
       "423    10010191 2001-09-03 2001-10-04         3   136455     1917        4   \n",
       "5893  100349220 1995-11-28 2016-04-04         3  1483382     1916        4   \n",
       "5908  100349220 2001-02-27 2016-04-04         3  1483418     8634        1   \n",
       "5911  100349220 1998-07-10 2016-04-04         3  1483382     8634        4   \n",
       "\n",
       "      enttype  adid  \n",
       "408         2     0  \n",
       "423         2     0  \n",
       "5893        2     0  \n",
       "5908        2     0  \n",
       "5911        2     0  "
      ]
     },
     "execution_count": 15,
     "metadata": {},
     "output_type": "execute_result"
    }
   ],
   "source": [
    "dementia_patients_primary_care.head()"
   ]
  },
  {
   "cell_type": "code",
   "execution_count": 16,
   "metadata": {},
   "outputs": [],
   "source": [
    "# get unique e_patids\n",
    "e_patids = dementia_patients_primary_care['e_patid'].unique()"
   ]
  },
  {
   "cell_type": "code",
   "execution_count": 17,
   "metadata": {},
   "outputs": [],
   "source": [
    "# get date of first diagnosis for each unique e_patid\n",
    "first_dementia_code_dates = []\n",
    "for i in e_patids:\n",
    "    first_dementia_code_dates += [min(\n",
    "        dementia_patients_primary_care[dementia_patients_primary_care['e_patid'] == i]['eventdate'])]"
   ]
  },
  {
   "cell_type": "code",
   "execution_count": 18,
   "metadata": {},
   "outputs": [],
   "source": [
    "# save as dataframe\n",
    "df_first_dates = pd.DataFrame({\"e_patid\": e_patids, \"eventdate\": first_dementia_code_dates})"
   ]
  },
  {
   "cell_type": "code",
   "execution_count": 19,
   "metadata": {},
   "outputs": [
    {
     "data": {
      "text/html": [
       "<div>\n",
       "<style scoped>\n",
       "    .dataframe tbody tr th:only-of-type {\n",
       "        vertical-align: middle;\n",
       "    }\n",
       "\n",
       "    .dataframe tbody tr th {\n",
       "        vertical-align: top;\n",
       "    }\n",
       "\n",
       "    .dataframe thead th {\n",
       "        text-align: right;\n",
       "    }\n",
       "</style>\n",
       "<table border=\"1\" class=\"dataframe\">\n",
       "  <thead>\n",
       "    <tr style=\"text-align: right;\">\n",
       "      <th></th>\n",
       "      <th>e_patid</th>\n",
       "      <th>eventdate</th>\n",
       "    </tr>\n",
       "  </thead>\n",
       "  <tbody>\n",
       "    <tr>\n",
       "      <th>0</th>\n",
       "      <td>10010191</td>\n",
       "      <td>2000-01-24</td>\n",
       "    </tr>\n",
       "    <tr>\n",
       "      <th>1</th>\n",
       "      <td>100349220</td>\n",
       "      <td>1995-11-28</td>\n",
       "    </tr>\n",
       "    <tr>\n",
       "      <th>2</th>\n",
       "      <td>100421191</td>\n",
       "      <td>2018-09-04</td>\n",
       "    </tr>\n",
       "    <tr>\n",
       "      <th>3</th>\n",
       "      <td>101392191</td>\n",
       "      <td>2018-04-23</td>\n",
       "    </tr>\n",
       "    <tr>\n",
       "      <th>4</th>\n",
       "      <td>101764191</td>\n",
       "      <td>2019-05-22</td>\n",
       "    </tr>\n",
       "  </tbody>\n",
       "</table>\n",
       "</div>"
      ],
      "text/plain": [
       "     e_patid  eventdate\n",
       "0   10010191 2000-01-24\n",
       "1  100349220 1995-11-28\n",
       "2  100421191 2018-09-04\n",
       "3  101392191 2018-04-23\n",
       "4  101764191 2019-05-22"
      ]
     },
     "execution_count": 19,
     "metadata": {},
     "output_type": "execute_result"
    }
   ],
   "source": [
    "df_first_dates.head()"
   ]
  },
  {
   "cell_type": "code",
   "execution_count": 20,
   "metadata": {},
   "outputs": [],
   "source": [
    "# merge first date of diagnosis for each e_patid to get first diagnosis files\n",
    "first_dementia_records_pc = df_first_dates.merge(\n",
    "    right = dementia_patients_primary_care, on = ['e_patid', 'eventdate'], how = 'inner')"
   ]
  },
  {
   "cell_type": "code",
   "execution_count": 21,
   "metadata": {},
   "outputs": [
    {
     "data": {
      "text/plain": [
       "62555"
      ]
     },
     "execution_count": 21,
     "metadata": {},
     "output_type": "execute_result"
    }
   ],
   "source": [
    "first_dementia_records_pc.shape[0]"
   ]
  },
  {
   "cell_type": "code",
   "execution_count": 22,
   "metadata": {},
   "outputs": [
    {
     "data": {
      "text/plain": [
       "98506"
      ]
     },
     "execution_count": 22,
     "metadata": {},
     "output_type": "execute_result"
    }
   ],
   "source": [
    "dementia_patients_primary_care.shape[0]"
   ]
  },
  {
   "cell_type": "code",
   "execution_count": 23,
   "metadata": {},
   "outputs": [],
   "source": [
    "# save as parquet file\n",
    "first_dementia_records_pc.to_parquet(os.getcwd() + '/first_dementia_records_in_primary_care.parquet')"
   ]
  },
  {
   "cell_type": "code",
   "execution_count": 24,
   "metadata": {},
   "outputs": [
    {
     "data": {
      "text/html": [
       "<div>\n",
       "<style scoped>\n",
       "    .dataframe tbody tr th:only-of-type {\n",
       "        vertical-align: middle;\n",
       "    }\n",
       "\n",
       "    .dataframe tbody tr th {\n",
       "        vertical-align: top;\n",
       "    }\n",
       "\n",
       "    .dataframe thead th {\n",
       "        text-align: right;\n",
       "    }\n",
       "</style>\n",
       "<table border=\"1\" class=\"dataframe\">\n",
       "  <thead>\n",
       "    <tr style=\"text-align: right;\">\n",
       "      <th></th>\n",
       "      <th>e_patid</th>\n",
       "      <th>eventdate</th>\n",
       "      <th>sysdate</th>\n",
       "      <th>constype</th>\n",
       "      <th>consid</th>\n",
       "      <th>medcode</th>\n",
       "      <th>episode</th>\n",
       "      <th>enttype</th>\n",
       "      <th>adid</th>\n",
       "    </tr>\n",
       "  </thead>\n",
       "  <tbody>\n",
       "    <tr>\n",
       "      <th>0</th>\n",
       "      <td>10010191</td>\n",
       "      <td>2000-01-24</td>\n",
       "      <td>2004-02-10</td>\n",
       "      <td>3</td>\n",
       "      <td>136438</td>\n",
       "      <td>4500</td>\n",
       "      <td>4</td>\n",
       "      <td>2</td>\n",
       "      <td>0</td>\n",
       "    </tr>\n",
       "    <tr>\n",
       "      <th>1</th>\n",
       "      <td>100349220</td>\n",
       "      <td>1995-11-28</td>\n",
       "      <td>2016-04-04</td>\n",
       "      <td>3</td>\n",
       "      <td>1483382</td>\n",
       "      <td>1916</td>\n",
       "      <td>4</td>\n",
       "      <td>2</td>\n",
       "      <td>0</td>\n",
       "    </tr>\n",
       "    <tr>\n",
       "      <th>2</th>\n",
       "      <td>100421191</td>\n",
       "      <td>2018-09-04</td>\n",
       "      <td>2018-09-11</td>\n",
       "      <td>3</td>\n",
       "      <td>75662</td>\n",
       "      <td>1917</td>\n",
       "      <td>4</td>\n",
       "      <td>2</td>\n",
       "      <td>0</td>\n",
       "    </tr>\n",
       "    <tr>\n",
       "      <th>3</th>\n",
       "      <td>101392191</td>\n",
       "      <td>2018-04-23</td>\n",
       "      <td>2018-07-20</td>\n",
       "      <td>3</td>\n",
       "      <td>2814489</td>\n",
       "      <td>38678</td>\n",
       "      <td>4</td>\n",
       "      <td>2</td>\n",
       "      <td>0</td>\n",
       "    </tr>\n",
       "    <tr>\n",
       "      <th>4</th>\n",
       "      <td>101764191</td>\n",
       "      <td>2019-05-22</td>\n",
       "      <td>2019-06-13</td>\n",
       "      <td>3</td>\n",
       "      <td>2548083</td>\n",
       "      <td>1917</td>\n",
       "      <td>4</td>\n",
       "      <td>2</td>\n",
       "      <td>0</td>\n",
       "    </tr>\n",
       "  </tbody>\n",
       "</table>\n",
       "</div>"
      ],
      "text/plain": [
       "     e_patid  eventdate    sysdate  constype   consid  medcode  episode  \\\n",
       "0   10010191 2000-01-24 2004-02-10         3   136438     4500        4   \n",
       "1  100349220 1995-11-28 2016-04-04         3  1483382     1916        4   \n",
       "2  100421191 2018-09-04 2018-09-11         3    75662     1917        4   \n",
       "3  101392191 2018-04-23 2018-07-20         3  2814489    38678        4   \n",
       "4  101764191 2019-05-22 2019-06-13         3  2548083     1917        4   \n",
       "\n",
       "   enttype  adid  \n",
       "0        2     0  \n",
       "1        2     0  \n",
       "2        2     0  \n",
       "3        2     0  \n",
       "4        2     0  "
      ]
     },
     "execution_count": 24,
     "metadata": {},
     "output_type": "execute_result"
    }
   ],
   "source": [
    "first_dementia_records_pc.head()"
   ]
  },
  {
   "cell_type": "code",
   "execution_count": null,
   "metadata": {},
   "outputs": [],
   "source": []
  }
 ],
 "metadata": {
  "kernelspec": {
   "display_name": "Python 3",
   "language": "python",
   "name": "python3"
  },
  "language_info": {
   "codemirror_mode": {
    "name": "ipython",
    "version": 3
   },
   "file_extension": ".py",
   "mimetype": "text/x-python",
   "name": "python",
   "nbconvert_exporter": "python",
   "pygments_lexer": "ipython3",
   "version": "3.7.6"
  }
 },
 "nbformat": 4,
 "nbformat_minor": 4
}
