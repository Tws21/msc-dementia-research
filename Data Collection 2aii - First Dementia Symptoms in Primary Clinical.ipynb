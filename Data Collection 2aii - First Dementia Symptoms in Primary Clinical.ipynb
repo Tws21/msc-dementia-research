{
 "cells": [
  {
   "cell_type": "code",
   "execution_count": 1,
   "metadata": {},
   "outputs": [],
   "source": [
    "# imports\n",
    "import sys\n",
    "import os\n",
    "import socket\n",
    "import pandas as pd\n",
    "import glob\n",
    "from datetime import datetime"
   ]
  },
  {
   "cell_type": "code",
   "execution_count": 2,
   "metadata": {},
   "outputs": [],
   "source": [
    "# read in symptoms file\n",
    "dementia_symptoms_primary_care = pd.read_parquet(os.getcwd() + '/dementia_symptoms_data.parquet')"
   ]
  },
  {
   "cell_type": "code",
   "execution_count": 3,
   "metadata": {},
   "outputs": [
    {
     "data": {
      "text/html": [
       "<div>\n",
       "<style scoped>\n",
       "    .dataframe tbody tr th:only-of-type {\n",
       "        vertical-align: middle;\n",
       "    }\n",
       "\n",
       "    .dataframe tbody tr th {\n",
       "        vertical-align: top;\n",
       "    }\n",
       "\n",
       "    .dataframe thead th {\n",
       "        text-align: right;\n",
       "    }\n",
       "</style>\n",
       "<table border=\"1\" class=\"dataframe\">\n",
       "  <thead>\n",
       "    <tr style=\"text-align: right;\">\n",
       "      <th></th>\n",
       "      <th>e_patid</th>\n",
       "      <th>eventdate</th>\n",
       "      <th>sysdate</th>\n",
       "      <th>constype</th>\n",
       "      <th>consid</th>\n",
       "      <th>medcode</th>\n",
       "      <th>episode</th>\n",
       "      <th>enttype</th>\n",
       "      <th>adid</th>\n",
       "    </tr>\n",
       "  </thead>\n",
       "  <tbody>\n",
       "    <tr>\n",
       "      <th>438</th>\n",
       "      <td>10010191</td>\n",
       "      <td>2000-01-18</td>\n",
       "      <td>2000-01-20</td>\n",
       "      <td>1</td>\n",
       "      <td>136437</td>\n",
       "      <td>5777</td>\n",
       "      <td>4</td>\n",
       "      <td>2</td>\n",
       "      <td>0</td>\n",
       "    </tr>\n",
       "    <tr>\n",
       "      <th>1532</th>\n",
       "      <td>100169191</td>\n",
       "      <td>2018-04-11</td>\n",
       "      <td>2018-04-11</td>\n",
       "      <td>3</td>\n",
       "      <td>1104899</td>\n",
       "      <td>106446</td>\n",
       "      <td>4</td>\n",
       "      <td>2</td>\n",
       "      <td>0</td>\n",
       "    </tr>\n",
       "    <tr>\n",
       "      <th>4667</th>\n",
       "      <td>100305191</td>\n",
       "      <td>2018-09-26</td>\n",
       "      <td>2018-09-26</td>\n",
       "      <td>3</td>\n",
       "      <td>476769</td>\n",
       "      <td>106446</td>\n",
       "      <td>4</td>\n",
       "      <td>2</td>\n",
       "      <td>0</td>\n",
       "    </tr>\n",
       "    <tr>\n",
       "      <th>4785</th>\n",
       "      <td>10032016</td>\n",
       "      <td>2019-07-17</td>\n",
       "      <td>2019-07-17</td>\n",
       "      <td>1</td>\n",
       "      <td>2873930</td>\n",
       "      <td>2908</td>\n",
       "      <td>4</td>\n",
       "      <td>2</td>\n",
       "      <td>0</td>\n",
       "    </tr>\n",
       "    <tr>\n",
       "      <th>5792</th>\n",
       "      <td>100330213</td>\n",
       "      <td>2015-06-24</td>\n",
       "      <td>2015-06-24</td>\n",
       "      <td>3</td>\n",
       "      <td>1898002</td>\n",
       "      <td>106446</td>\n",
       "      <td>4</td>\n",
       "      <td>2</td>\n",
       "      <td>0</td>\n",
       "    </tr>\n",
       "  </tbody>\n",
       "</table>\n",
       "</div>"
      ],
      "text/plain": [
       "        e_patid  eventdate    sysdate  constype   consid  medcode  episode  \\\n",
       "438    10010191 2000-01-18 2000-01-20         1   136437     5777        4   \n",
       "1532  100169191 2018-04-11 2018-04-11         3  1104899   106446        4   \n",
       "4667  100305191 2018-09-26 2018-09-26         3   476769   106446        4   \n",
       "4785   10032016 2019-07-17 2019-07-17         1  2873930     2908        4   \n",
       "5792  100330213 2015-06-24 2015-06-24         3  1898002   106446        4   \n",
       "\n",
       "      enttype  adid  \n",
       "438         2     0  \n",
       "1532        2     0  \n",
       "4667        2     0  \n",
       "4785        2     0  \n",
       "5792        2     0  "
      ]
     },
     "execution_count": 3,
     "metadata": {},
     "output_type": "execute_result"
    }
   ],
   "source": [
    "dementia_symptoms_primary_care.head()"
   ]
  },
  {
   "cell_type": "code",
   "execution_count": 4,
   "metadata": {},
   "outputs": [],
   "source": [
    "# get unique e_patids\n",
    "e_patids = dementia_symptoms_primary_care['e_patid'].unique()"
   ]
  },
  {
   "cell_type": "code",
   "execution_count": 5,
   "metadata": {},
   "outputs": [],
   "source": [
    "# get first symptom date for each e_patid\n",
    "first_dementia_code_dates = []\n",
    "for i in e_patids:\n",
    "    first_dementia_code_dates += [min(\n",
    "        dementia_symptoms_primary_care[dementia_symptoms_primary_care['e_patid'] == i]['eventdate'])]"
   ]
  },
  {
   "cell_type": "code",
   "execution_count": 6,
   "metadata": {},
   "outputs": [],
   "source": [
    "df_first_dates = pd.DataFrame({\"e_patid\": e_patids, \"eventdate\": first_dementia_code_dates})"
   ]
  },
  {
   "cell_type": "code",
   "execution_count": 7,
   "metadata": {},
   "outputs": [
    {
     "data": {
      "text/html": [
       "<div>\n",
       "<style scoped>\n",
       "    .dataframe tbody tr th:only-of-type {\n",
       "        vertical-align: middle;\n",
       "    }\n",
       "\n",
       "    .dataframe tbody tr th {\n",
       "        vertical-align: top;\n",
       "    }\n",
       "\n",
       "    .dataframe thead th {\n",
       "        text-align: right;\n",
       "    }\n",
       "</style>\n",
       "<table border=\"1\" class=\"dataframe\">\n",
       "  <thead>\n",
       "    <tr style=\"text-align: right;\">\n",
       "      <th></th>\n",
       "      <th>e_patid</th>\n",
       "      <th>eventdate</th>\n",
       "    </tr>\n",
       "  </thead>\n",
       "  <tbody>\n",
       "    <tr>\n",
       "      <th>0</th>\n",
       "      <td>10010191</td>\n",
       "      <td>2000-01-18</td>\n",
       "    </tr>\n",
       "    <tr>\n",
       "      <th>1</th>\n",
       "      <td>100169191</td>\n",
       "      <td>2018-04-11</td>\n",
       "    </tr>\n",
       "    <tr>\n",
       "      <th>2</th>\n",
       "      <td>100305191</td>\n",
       "      <td>2018-09-26</td>\n",
       "    </tr>\n",
       "    <tr>\n",
       "      <th>3</th>\n",
       "      <td>10032016</td>\n",
       "      <td>2019-07-17</td>\n",
       "    </tr>\n",
       "    <tr>\n",
       "      <th>4</th>\n",
       "      <td>100330213</td>\n",
       "      <td>2015-06-24</td>\n",
       "    </tr>\n",
       "  </tbody>\n",
       "</table>\n",
       "</div>"
      ],
      "text/plain": [
       "     e_patid  eventdate\n",
       "0   10010191 2000-01-18\n",
       "1  100169191 2018-04-11\n",
       "2  100305191 2018-09-26\n",
       "3   10032016 2019-07-17\n",
       "4  100330213 2015-06-24"
      ]
     },
     "execution_count": 7,
     "metadata": {},
     "output_type": "execute_result"
    }
   ],
   "source": [
    "df_first_dates.head()"
   ]
  },
  {
   "cell_type": "code",
   "execution_count": 8,
   "metadata": {},
   "outputs": [],
   "source": [
    "# merged with symptom file to get the row for each symptom\n",
    "first_dementia_symptoms_pc = df_first_dates.merge(\n",
    "    right = dementia_symptoms_primary_care, on = ['e_patid', 'eventdate'], how = 'inner')"
   ]
  },
  {
   "cell_type": "code",
   "execution_count": 9,
   "metadata": {},
   "outputs": [
    {
     "data": {
      "text/plain": [
       "221735"
      ]
     },
     "execution_count": 9,
     "metadata": {},
     "output_type": "execute_result"
    }
   ],
   "source": [
    "first_dementia_symptoms_pc.shape[0]"
   ]
  },
  {
   "cell_type": "code",
   "execution_count": 10,
   "metadata": {},
   "outputs": [
    {
     "data": {
      "text/plain": [
       "546986"
      ]
     },
     "execution_count": 10,
     "metadata": {},
     "output_type": "execute_result"
    }
   ],
   "source": [
    "dementia_symptoms_primary_care.shape[0]"
   ]
  },
  {
   "cell_type": "code",
   "execution_count": 11,
   "metadata": {},
   "outputs": [],
   "source": [
    "# save to parquet\n",
    "first_dementia_symptoms_pc.to_parquet(os.getcwd() + '/first_dementia_symptoms_in_primary_care.parquet')"
   ]
  },
  {
   "cell_type": "code",
   "execution_count": null,
   "metadata": {},
   "outputs": [],
   "source": []
  }
 ],
 "metadata": {
  "kernelspec": {
   "display_name": "Python 3",
   "language": "python",
   "name": "python3"
  },
  "language_info": {
   "codemirror_mode": {
    "name": "ipython",
    "version": 3
   },
   "file_extension": ".py",
   "mimetype": "text/x-python",
   "name": "python",
   "nbconvert_exporter": "python",
   "pygments_lexer": "ipython3",
   "version": "3.7.6"
  }
 },
 "nbformat": 4,
 "nbformat_minor": 4
}
