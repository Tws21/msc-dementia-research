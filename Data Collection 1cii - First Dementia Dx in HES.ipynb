{
 "cells": [
  {
   "cell_type": "code",
   "execution_count": 1,
   "metadata": {},
   "outputs": [],
   "source": [
    "# imports\n",
    "import sys\n",
    "import os\n",
    "import socket\n",
    "import pandas as pd\n",
    "import glob\n",
    "from datetime import datetime"
   ]
  },
  {
   "cell_type": "code",
   "execution_count": 2,
   "metadata": {},
   "outputs": [],
   "source": [
    "# read in hes dx file\n",
    "dementia_patients_hes = pd.read_parquet(os.getcwd() + '/dementia_hes_diag_data.parquet')"
   ]
  },
  {
   "cell_type": "code",
   "execution_count": 3,
   "metadata": {},
   "outputs": [
    {
     "data": {
      "text/html": [
       "<div>\n",
       "<style scoped>\n",
       "    .dataframe tbody tr th:only-of-type {\n",
       "        vertical-align: middle;\n",
       "    }\n",
       "\n",
       "    .dataframe tbody tr th {\n",
       "        vertical-align: top;\n",
       "    }\n",
       "\n",
       "    .dataframe thead th {\n",
       "        text-align: right;\n",
       "    }\n",
       "</style>\n",
       "<table border=\"1\" class=\"dataframe\">\n",
       "  <thead>\n",
       "    <tr style=\"text-align: right;\">\n",
       "      <th></th>\n",
       "      <th>e_patid</th>\n",
       "      <th>icd</th>\n",
       "      <th>epistart</th>\n",
       "      <th>epiend</th>\n",
       "      <th>is_op</th>\n",
       "    </tr>\n",
       "  </thead>\n",
       "  <tbody>\n",
       "    <tr>\n",
       "      <th>178</th>\n",
       "      <td>100007617</td>\n",
       "      <td>F00.9</td>\n",
       "      <td>2010-10-20</td>\n",
       "      <td>2010-10-21</td>\n",
       "      <td>0.0</td>\n",
       "    </tr>\n",
       "    <tr>\n",
       "      <th>186</th>\n",
       "      <td>100007617</td>\n",
       "      <td>F00.9</td>\n",
       "      <td>2011-06-19</td>\n",
       "      <td>2011-06-19</td>\n",
       "      <td>0.0</td>\n",
       "    </tr>\n",
       "    <tr>\n",
       "      <th>189</th>\n",
       "      <td>100007617</td>\n",
       "      <td>G30.9</td>\n",
       "      <td>2010-10-20</td>\n",
       "      <td>2010-10-21</td>\n",
       "      <td>0.0</td>\n",
       "    </tr>\n",
       "    <tr>\n",
       "      <th>207</th>\n",
       "      <td>100007617</td>\n",
       "      <td>G30.9</td>\n",
       "      <td>2011-06-19</td>\n",
       "      <td>2011-06-19</td>\n",
       "      <td>0.0</td>\n",
       "    </tr>\n",
       "    <tr>\n",
       "      <th>222</th>\n",
       "      <td>100007617</td>\n",
       "      <td>F01.9</td>\n",
       "      <td>2014-03-27</td>\n",
       "      <td>2014-04-07</td>\n",
       "      <td>0.0</td>\n",
       "    </tr>\n",
       "  </tbody>\n",
       "</table>\n",
       "</div>"
      ],
      "text/plain": [
       "       e_patid    icd   epistart     epiend  is_op\n",
       "178  100007617  F00.9 2010-10-20 2010-10-21    0.0\n",
       "186  100007617  F00.9 2011-06-19 2011-06-19    0.0\n",
       "189  100007617  G30.9 2010-10-20 2010-10-21    0.0\n",
       "207  100007617  G30.9 2011-06-19 2011-06-19    0.0\n",
       "222  100007617  F01.9 2014-03-27 2014-04-07    0.0"
      ]
     },
     "execution_count": 3,
     "metadata": {},
     "output_type": "execute_result"
    }
   ],
   "source": [
    "dementia_patients_hes.head()"
   ]
  },
  {
   "cell_type": "code",
   "execution_count": 4,
   "metadata": {},
   "outputs": [],
   "source": [
    "# get unique e_patids\n",
    "e_patids = dementia_patients_hes['e_patid'].unique()"
   ]
  },
  {
   "cell_type": "code",
   "execution_count": 5,
   "metadata": {},
   "outputs": [
    {
     "data": {
      "text/plain": [
       "388633"
      ]
     },
     "execution_count": 5,
     "metadata": {},
     "output_type": "execute_result"
    }
   ],
   "source": [
    "dementia_patients_hes['epistart'].isna().sum()"
   ]
  },
  {
   "cell_type": "code",
   "execution_count": 6,
   "metadata": {},
   "outputs": [
    {
     "data": {
      "text/plain": [
       "388646"
      ]
     },
     "execution_count": 6,
     "metadata": {},
     "output_type": "execute_result"
    }
   ],
   "source": [
    "dementia_patients_hes['epiend'].isna().sum()"
   ]
  },
  {
   "cell_type": "code",
   "execution_count": 7,
   "metadata": {},
   "outputs": [],
   "source": [
    "# Drop NaNs\n",
    "dementia_patients_hes = dementia_patients_hes.dropna()"
   ]
  },
  {
   "cell_type": "code",
   "execution_count": 8,
   "metadata": {},
   "outputs": [
    {
     "data": {
      "text/plain": [
       "0"
      ]
     },
     "execution_count": 8,
     "metadata": {},
     "output_type": "execute_result"
    }
   ],
   "source": [
    "dementia_patients_hes['epistart'].isna().sum()"
   ]
  },
  {
   "cell_type": "code",
   "execution_count": 9,
   "metadata": {},
   "outputs": [],
   "source": [
    "# get first dx date for each e_patid\n",
    "first_dementia_code_dates = []\n",
    "for i in e_patids:\n",
    "    first_dementia_code_dates += [min(dementia_patients_hes[dementia_patients_hes['e_patid'] == i]['epistart'])]"
   ]
  },
  {
   "cell_type": "code",
   "execution_count": 10,
   "metadata": {},
   "outputs": [],
   "source": [
    "# make df\n",
    "df_first_dates = pd.DataFrame({\"e_patid\": e_patids, \"epistart\": first_dementia_code_dates})"
   ]
  },
  {
   "cell_type": "code",
   "execution_count": 11,
   "metadata": {},
   "outputs": [
    {
     "data": {
      "text/html": [
       "<div>\n",
       "<style scoped>\n",
       "    .dataframe tbody tr th:only-of-type {\n",
       "        vertical-align: middle;\n",
       "    }\n",
       "\n",
       "    .dataframe tbody tr th {\n",
       "        vertical-align: top;\n",
       "    }\n",
       "\n",
       "    .dataframe thead th {\n",
       "        text-align: right;\n",
       "    }\n",
       "</style>\n",
       "<table border=\"1\" class=\"dataframe\">\n",
       "  <thead>\n",
       "    <tr style=\"text-align: right;\">\n",
       "      <th></th>\n",
       "      <th>e_patid</th>\n",
       "      <th>epistart</th>\n",
       "    </tr>\n",
       "  </thead>\n",
       "  <tbody>\n",
       "    <tr>\n",
       "      <th>0</th>\n",
       "      <td>100007617</td>\n",
       "      <td>2010-07-29</td>\n",
       "    </tr>\n",
       "    <tr>\n",
       "      <th>1</th>\n",
       "      <td>100012174</td>\n",
       "      <td>2015-01-09</td>\n",
       "    </tr>\n",
       "    <tr>\n",
       "      <th>2</th>\n",
       "      <td>100013188</td>\n",
       "      <td>2011-11-18</td>\n",
       "    </tr>\n",
       "    <tr>\n",
       "      <th>3</th>\n",
       "      <td>100016729</td>\n",
       "      <td>2000-08-08</td>\n",
       "    </tr>\n",
       "    <tr>\n",
       "      <th>4</th>\n",
       "      <td>100024652</td>\n",
       "      <td>2010-12-31</td>\n",
       "    </tr>\n",
       "  </tbody>\n",
       "</table>\n",
       "</div>"
      ],
      "text/plain": [
       "     e_patid   epistart\n",
       "0  100007617 2010-07-29\n",
       "1  100012174 2015-01-09\n",
       "2  100013188 2011-11-18\n",
       "3  100016729 2000-08-08\n",
       "4  100024652 2010-12-31"
      ]
     },
     "execution_count": 11,
     "metadata": {},
     "output_type": "execute_result"
    }
   ],
   "source": [
    "df_first_dates.head()"
   ]
  },
  {
   "cell_type": "code",
   "execution_count": 12,
   "metadata": {},
   "outputs": [],
   "source": [
    "# get first dx row for each e_patid by merging\n",
    "first_dementia_records_hes = df_first_dates.merge(\n",
    "    right = dementia_patients_hes, on = ['e_patid', 'epistart'], how = 'inner')"
   ]
  },
  {
   "cell_type": "code",
   "execution_count": 13,
   "metadata": {},
   "outputs": [
    {
     "data": {
      "text/plain": [
       "232926"
      ]
     },
     "execution_count": 13,
     "metadata": {},
     "output_type": "execute_result"
    }
   ],
   "source": [
    "first_dementia_records_hes.shape[0]"
   ]
  },
  {
   "cell_type": "code",
   "execution_count": 14,
   "metadata": {},
   "outputs": [],
   "source": [
    "# save as parquet\n",
    "first_dementia_records_hes.to_parquet(os.getcwd() + '/first_dementia_records_in_hes.parquet')"
   ]
  },
  {
   "cell_type": "code",
   "execution_count": 15,
   "metadata": {},
   "outputs": [
    {
     "data": {
      "text/html": [
       "<div>\n",
       "<style scoped>\n",
       "    .dataframe tbody tr th:only-of-type {\n",
       "        vertical-align: middle;\n",
       "    }\n",
       "\n",
       "    .dataframe tbody tr th {\n",
       "        vertical-align: top;\n",
       "    }\n",
       "\n",
       "    .dataframe thead th {\n",
       "        text-align: right;\n",
       "    }\n",
       "</style>\n",
       "<table border=\"1\" class=\"dataframe\">\n",
       "  <thead>\n",
       "    <tr style=\"text-align: right;\">\n",
       "      <th></th>\n",
       "      <th>e_patid</th>\n",
       "      <th>epistart</th>\n",
       "      <th>icd</th>\n",
       "      <th>epiend</th>\n",
       "      <th>is_op</th>\n",
       "    </tr>\n",
       "  </thead>\n",
       "  <tbody>\n",
       "    <tr>\n",
       "      <th>0</th>\n",
       "      <td>100007617</td>\n",
       "      <td>2010-07-29</td>\n",
       "      <td>F00.9</td>\n",
       "      <td>2010-07-29</td>\n",
       "      <td>0.0</td>\n",
       "    </tr>\n",
       "    <tr>\n",
       "      <th>1</th>\n",
       "      <td>100007617</td>\n",
       "      <td>2010-07-29</td>\n",
       "      <td>G30.9</td>\n",
       "      <td>2010-07-29</td>\n",
       "      <td>0.0</td>\n",
       "    </tr>\n",
       "    <tr>\n",
       "      <th>2</th>\n",
       "      <td>100012174</td>\n",
       "      <td>2015-01-09</td>\n",
       "      <td>G30.8</td>\n",
       "      <td>2015-01-20</td>\n",
       "      <td>0.0</td>\n",
       "    </tr>\n",
       "    <tr>\n",
       "      <th>3</th>\n",
       "      <td>100012174</td>\n",
       "      <td>2015-01-09</td>\n",
       "      <td>F00.2</td>\n",
       "      <td>2015-01-20</td>\n",
       "      <td>0.0</td>\n",
       "    </tr>\n",
       "    <tr>\n",
       "      <th>4</th>\n",
       "      <td>100013188</td>\n",
       "      <td>2011-11-18</td>\n",
       "      <td>F03</td>\n",
       "      <td>2011-11-19</td>\n",
       "      <td>0.0</td>\n",
       "    </tr>\n",
       "  </tbody>\n",
       "</table>\n",
       "</div>"
      ],
      "text/plain": [
       "     e_patid   epistart    icd     epiend  is_op\n",
       "0  100007617 2010-07-29  F00.9 2010-07-29    0.0\n",
       "1  100007617 2010-07-29  G30.9 2010-07-29    0.0\n",
       "2  100012174 2015-01-09  G30.8 2015-01-20    0.0\n",
       "3  100012174 2015-01-09  F00.2 2015-01-20    0.0\n",
       "4  100013188 2011-11-18    F03 2011-11-19    0.0"
      ]
     },
     "execution_count": 15,
     "metadata": {},
     "output_type": "execute_result"
    }
   ],
   "source": [
    "first_dementia_records_hes.head()"
   ]
  },
  {
   "cell_type": "code",
   "execution_count": null,
   "metadata": {},
   "outputs": [],
   "source": []
  }
 ],
 "metadata": {
  "kernelspec": {
   "display_name": "Python 3",
   "language": "python",
   "name": "python3"
  },
  "language_info": {
   "codemirror_mode": {
    "name": "ipython",
    "version": 3
   },
   "file_extension": ".py",
   "mimetype": "text/x-python",
   "name": "python",
   "nbconvert_exporter": "python",
   "pygments_lexer": "ipython3",
   "version": "3.7.6"
  }
 },
 "nbformat": 4,
 "nbformat_minor": 4
}
