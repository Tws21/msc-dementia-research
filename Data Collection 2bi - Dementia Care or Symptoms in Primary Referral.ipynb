{
 "cells": [
  {
   "cell_type": "code",
   "execution_count": 1,
   "metadata": {},
   "outputs": [],
   "source": [
    "# imports\n",
    "import sys\n",
    "import os\n",
    "import socket\n",
    "import pandas as pd\n",
    "import glob\n",
    "from datetime import datetime"
   ]
  },
  {
   "cell_type": "code",
   "execution_count": 2,
   "metadata": {},
   "outputs": [],
   "source": [
    "# function to format dates\n",
    "def formatdate(data):\n",
    "    data['sysdate'] = data['sysdate'].str.replace('/', '')\n",
    "    data['sysdate']= pd.to_datetime(data['sysdate'], format='%d%m%Y')\n",
    "    data['eventdate']= data['eventdate'].str.replace('/', '')\n",
    "    data['eventdate'] = pd.to_datetime(data['eventdate'], format='%d%m%Y')\n",
    "    data['eventdate'].fillna(data['sysdate'], inplace = True)\n",
    "    return data"
   ]
  },
  {
   "cell_type": "code",
   "execution_count": 3,
   "metadata": {},
   "outputs": [
    {
     "data": {
      "text/plain": [
       "'/mnt/maths/tws21'"
      ]
     },
     "execution_count": 3,
     "metadata": {},
     "output_type": "execute_result"
    }
   ],
   "source": [
    "os.getcwd()"
   ]
  },
  {
   "cell_type": "code",
   "execution_count": 4,
   "metadata": {},
   "outputs": [
    {
     "data": {
      "text/plain": [
       "('/mnt/maths/tws21/Dementia Symptoms Codes',\n",
       " [],\n",
       " ['violent or agressive behaviour.csv',\n",
       "  'repetition.xlsx',\n",
       "  'referral psych neuro or geri.csv',\n",
       "  'Referral for dementia diagnosis.xlsx',\n",
       "  'personality change.csv',\n",
       "  'MMSE.csv',\n",
       "  'memory loss codes.csv',\n",
       "  'family history of dementia.csv',\n",
       "  'does not take medication.csv',\n",
       "  'disorientation wandering.csv',\n",
       "  'depressive symptoms.csv',\n",
       "  'cognitive decline codelist.csv',\n",
       "  'behaviour change.csv',\n",
       "  'cognitive screening tests.csv'])"
      ]
     },
     "execution_count": 4,
     "metadata": {},
     "output_type": "execute_result"
    }
   ],
   "source": [
    "next(os.walk('/mnt/maths/tws21/Dementia Symptoms Codes'))"
   ]
  },
  {
   "cell_type": "code",
   "execution_count": 5,
   "metadata": {},
   "outputs": [],
   "source": [
    "# read in symptom files for dementia\n",
    "behaviour_change = pd.read_csv('/mnt/maths/tws21/Dementia Symptoms Codes/behaviour change.csv', sep = '\\t')\n",
    "cognitive_tests = pd.read_csv('/mnt/maths/tws21/Dementia Symptoms Codes/cognitive screening tests.csv', sep = '\\t')\n",
    "cognitive_decline = pd.read_csv('/mnt/maths/tws21/Dementia Symptoms Codes/cognitive decline codelist.csv',\n",
    "                                sep = '\\t')\n",
    "depressive_symptoms = pd.read_csv('/mnt/maths/tws21/Dementia Symptoms Codes/depressive symptoms.csv', sep = '\\t')\n",
    "disorientation = pd.read_csv('/mnt/maths/tws21/Dementia Symptoms Codes/disorientation wandering.csv', sep = '\\t')\n",
    "family_history = pd.read_csv('/mnt/maths/tws21/Dementia Symptoms Codes/family history of dementia.csv', sep = '\\t')\n",
    "memory_loss = pd.read_csv('/mnt/maths/tws21/Dementia Symptoms Codes/memory loss codes.csv', sep = '\\t')\n",
    "mmse = pd.read_csv('/mnt/maths/tws21/Dementia Symptoms Codes/MMSE.csv', sep = '\\t')\n",
    "personality = pd.read_csv('/mnt/maths/tws21/Dementia Symptoms Codes/personality change.csv', sep = '\\t')\n",
    "referral_psych = pd.read_csv('/mnt/maths/tws21/Dementia Symptoms Codes/referral psych neuro or geri.csv', sep = '\\t')\n",
    "skip_meds = pd.read_csv('/mnt/maths/tws21/Dementia Symptoms Codes/does not take medication.csv', sep = '\\t')\n",
    "violent = pd.read_csv('/mnt/maths/tws21/Dementia Symptoms Codes/violent or agressive behaviour.csv', sep = '\\t')"
   ]
  },
  {
   "cell_type": "code",
   "execution_count": 6,
   "metadata": {},
   "outputs": [
    {
     "data": {
      "text/html": [
       "<div>\n",
       "<style scoped>\n",
       "    .dataframe tbody tr th:only-of-type {\n",
       "        vertical-align: middle;\n",
       "    }\n",
       "\n",
       "    .dataframe tbody tr th {\n",
       "        vertical-align: top;\n",
       "    }\n",
       "\n",
       "    .dataframe thead th {\n",
       "        text-align: right;\n",
       "    }\n",
       "</style>\n",
       "<table border=\"1\" class=\"dataframe\">\n",
       "  <thead>\n",
       "    <tr style=\"text-align: right;\">\n",
       "      <th></th>\n",
       "      <th>medcode</th>\n",
       "      <th>clinicalevents</th>\n",
       "      <th>referralevents</th>\n",
       "      <th>testevents</th>\n",
       "      <th>immunisationevents</th>\n",
       "      <th>readcode</th>\n",
       "      <th>readterm</th>\n",
       "      <th>databasebuild</th>\n",
       "    </tr>\n",
       "  </thead>\n",
       "  <tbody>\n",
       "    <tr>\n",
       "      <th>0</th>\n",
       "      <td>3566</td>\n",
       "      <td>26676</td>\n",
       "      <td>3948</td>\n",
       "      <td>0</td>\n",
       "      <td>0</td>\n",
       "      <td>1469.00</td>\n",
       "      <td>H/O: behaviour problem</td>\n",
       "      <td>February 2009</td>\n",
       "    </tr>\n",
       "    <tr>\n",
       "      <th>1</th>\n",
       "      <td>11054</td>\n",
       "      <td>42690</td>\n",
       "      <td>3339</td>\n",
       "      <td>0</td>\n",
       "      <td>0</td>\n",
       "      <td>1B1X.00</td>\n",
       "      <td>Behavioural problem</td>\n",
       "      <td>February 2009</td>\n",
       "    </tr>\n",
       "    <tr>\n",
       "      <th>2</th>\n",
       "      <td>18893</td>\n",
       "      <td>1247</td>\n",
       "      <td>86</td>\n",
       "      <td>0</td>\n",
       "      <td>0</td>\n",
       "      <td>1P...00</td>\n",
       "      <td>Behaviours and observations relating to behaviour</td>\n",
       "      <td>February 2009</td>\n",
       "    </tr>\n",
       "    <tr>\n",
       "      <th>3</th>\n",
       "      <td>47903</td>\n",
       "      <td>79</td>\n",
       "      <td>6</td>\n",
       "      <td>0</td>\n",
       "      <td>0</td>\n",
       "      <td>1P0..00</td>\n",
       "      <td>Motor function behaviour</td>\n",
       "      <td>February 2009</td>\n",
       "    </tr>\n",
       "    <tr>\n",
       "      <th>4</th>\n",
       "      <td>10918</td>\n",
       "      <td>6340</td>\n",
       "      <td>691</td>\n",
       "      <td>0</td>\n",
       "      <td>0</td>\n",
       "      <td>1P00.00</td>\n",
       "      <td>Hyperactive behaviour</td>\n",
       "      <td>February 2009</td>\n",
       "    </tr>\n",
       "  </tbody>\n",
       "</table>\n",
       "</div>"
      ],
      "text/plain": [
       "   medcode  clinicalevents  referralevents  testevents  immunisationevents  \\\n",
       "0     3566           26676            3948           0                   0   \n",
       "1    11054           42690            3339           0                   0   \n",
       "2    18893            1247              86           0                   0   \n",
       "3    47903              79               6           0                   0   \n",
       "4    10918            6340             691           0                   0   \n",
       "\n",
       "  readcode                                           readterm  databasebuild  \n",
       "0  1469.00                             H/O: behaviour problem  February 2009  \n",
       "1  1B1X.00                                Behavioural problem  February 2009  \n",
       "2  1P...00  Behaviours and observations relating to behaviour  February 2009  \n",
       "3  1P0..00                           Motor function behaviour  February 2009  \n",
       "4  1P00.00                              Hyperactive behaviour  February 2009  "
      ]
     },
     "execution_count": 6,
     "metadata": {},
     "output_type": "execute_result"
    }
   ],
   "source": [
    "# Merge all symptom files (note: only include the .csv files as the others are read code only i.e. HES)\n",
    "symptoms_merged = pd.concat([behaviour_change, cognitive_tests, cognitive_decline, depressive_symptoms,\n",
    "                             disorientation, family_history, memory_loss, mmse, personality, referral_psych,\n",
    "                             skip_meds, violent])\n",
    "symptoms_merged.head()"
   ]
  },
  {
   "cell_type": "code",
   "execution_count": 7,
   "metadata": {},
   "outputs": [],
   "source": [
    "# read in dementia codes\n",
    "dementia_codes = pd.read_excel('/mnt/maths/tws21/dementia_codes.xlsx')"
   ]
  },
  {
   "cell_type": "code",
   "execution_count": 8,
   "metadata": {},
   "outputs": [],
   "source": [
    "# select non diagnosis codes (admin, tests etc)\n",
    "dementia_med_codes = dementia_codes[dementia_codes['diagnosis'] != 1.0]['medcode']"
   ]
  },
  {
   "cell_type": "code",
   "execution_count": 9,
   "metadata": {},
   "outputs": [
    {
     "data": {
      "text/plain": [
       "34      9385\n",
       "35    107650\n",
       "62     10288\n",
       "66     26141\n",
       "67     26421\n",
       "Name: medcode, dtype: int64"
      ]
     },
     "execution_count": 9,
     "metadata": {},
     "output_type": "execute_result"
    }
   ],
   "source": [
    "dementia_med_codes.head()"
   ]
  },
  {
   "cell_type": "code",
   "execution_count": 10,
   "metadata": {},
   "outputs": [],
   "source": [
    "symptom_med_codes = symptoms_merged['medcode']"
   ]
  },
  {
   "cell_type": "code",
   "execution_count": 11,
   "metadata": {},
   "outputs": [
    {
     "data": {
      "text/html": [
       "<div>\n",
       "<style scoped>\n",
       "    .dataframe tbody tr th:only-of-type {\n",
       "        vertical-align: middle;\n",
       "    }\n",
       "\n",
       "    .dataframe tbody tr th {\n",
       "        vertical-align: top;\n",
       "    }\n",
       "\n",
       "    .dataframe thead th {\n",
       "        text-align: right;\n",
       "    }\n",
       "</style>\n",
       "<table border=\"1\" class=\"dataframe\">\n",
       "  <thead>\n",
       "    <tr style=\"text-align: right;\">\n",
       "      <th></th>\n",
       "      <th>e_patid</th>\n",
       "      <th>eventdate</th>\n",
       "      <th>sysdate</th>\n",
       "      <th>constype</th>\n",
       "      <th>consid</th>\n",
       "      <th>medcode</th>\n",
       "      <th>nhsspec</th>\n",
       "      <th>attendance</th>\n",
       "      <th>urgency</th>\n",
       "    </tr>\n",
       "  </thead>\n",
       "  <tbody>\n",
       "    <tr>\n",
       "      <th>11</th>\n",
       "      <td>10009416</td>\n",
       "      <td>2003-04-04</td>\n",
       "      <td>2009-02-20</td>\n",
       "      <td>4</td>\n",
       "      <td>1067550</td>\n",
       "      <td>2964</td>\n",
       "      <td>0</td>\n",
       "      <td>0</td>\n",
       "      <td>0</td>\n",
       "    </tr>\n",
       "    <tr>\n",
       "      <th>38</th>\n",
       "      <td>10010191</td>\n",
       "      <td>2000-01-18</td>\n",
       "      <td>2000-01-20</td>\n",
       "      <td>4</td>\n",
       "      <td>136437</td>\n",
       "      <td>5777</td>\n",
       "      <td>54</td>\n",
       "      <td>1</td>\n",
       "      <td>4</td>\n",
       "    </tr>\n",
       "    <tr>\n",
       "      <th>308</th>\n",
       "      <td>100305191</td>\n",
       "      <td>2004-07-01</td>\n",
       "      <td>2004-07-01</td>\n",
       "      <td>4</td>\n",
       "      <td>476673</td>\n",
       "      <td>10448</td>\n",
       "      <td>36</td>\n",
       "      <td>0</td>\n",
       "      <td>2</td>\n",
       "    </tr>\n",
       "    <tr>\n",
       "      <th>379</th>\n",
       "      <td>10036782</td>\n",
       "      <td>2011-03-16</td>\n",
       "      <td>2011-03-16</td>\n",
       "      <td>4</td>\n",
       "      <td>168769</td>\n",
       "      <td>1511</td>\n",
       "      <td>0</td>\n",
       "      <td>0</td>\n",
       "      <td>2</td>\n",
       "    </tr>\n",
       "    <tr>\n",
       "      <th>386</th>\n",
       "      <td>10036782</td>\n",
       "      <td>2013-03-04</td>\n",
       "      <td>2013-03-04</td>\n",
       "      <td>4</td>\n",
       "      <td>169048</td>\n",
       "      <td>2189</td>\n",
       "      <td>54</td>\n",
       "      <td>0</td>\n",
       "      <td>4</td>\n",
       "    </tr>\n",
       "  </tbody>\n",
       "</table>\n",
       "</div>"
      ],
      "text/plain": [
       "       e_patid  eventdate    sysdate  constype   consid  medcode  nhsspec  \\\n",
       "11    10009416 2003-04-04 2009-02-20         4  1067550     2964        0   \n",
       "38    10010191 2000-01-18 2000-01-20         4   136437     5777       54   \n",
       "308  100305191 2004-07-01 2004-07-01         4   476673    10448       36   \n",
       "379   10036782 2011-03-16 2011-03-16         4   168769     1511        0   \n",
       "386   10036782 2013-03-04 2013-03-04         4   169048     2189       54   \n",
       "\n",
       "     attendance  urgency  \n",
       "11            0        0  \n",
       "38            1        4  \n",
       "308           0        2  \n",
       "379           0        2  \n",
       "386           0        4  "
      ]
     },
     "execution_count": 11,
     "metadata": {},
     "output_type": "execute_result"
    }
   ],
   "source": [
    "#read in and merge the referral files and search for med codes\n",
    "path = '/mnt/lustre/users/maths/tws21/seb_tmp/bsms2730/bsms2730/Primary Care/CPRD GOLD/'\n",
    "\n",
    "referral_files = glob.glob(path + \"*referral*.txt\")\n",
    "\n",
    "referral_li = []\n",
    "for filename in referral_files:\n",
    "    df = pd.read_csv(filename, sep=\"\\t\")\n",
    "    df = df[df['medcode'].isin(list(dementia_med_codes) + list(symptom_med_codes))]\n",
    "    df = formatdate(df)\n",
    "    referral_li.append(df)\n",
    "\n",
    "referral_merged = pd.concat(referral_li, axis=0)\n",
    "referral_merged.head()"
   ]
  },
  {
   "cell_type": "code",
   "execution_count": 13,
   "metadata": {},
   "outputs": [],
   "source": [
    "# save to parquet\n",
    "referral_merged.to_parquet(os.getcwd() + '/dementia_symptoms_referral_data.parquet')"
   ]
  },
  {
   "cell_type": "code",
   "execution_count": 15,
   "metadata": {},
   "outputs": [
    {
     "data": {
      "text/plain": [
       "122785"
      ]
     },
     "execution_count": 15,
     "metadata": {},
     "output_type": "execute_result"
    }
   ],
   "source": [
    "referral_merged.shape[0]"
   ]
  },
  {
   "cell_type": "code",
   "execution_count": null,
   "metadata": {},
   "outputs": [],
   "source": []
  }
 ],
 "metadata": {
  "kernelspec": {
   "display_name": "Python 3",
   "language": "python",
   "name": "python3"
  },
  "language_info": {
   "codemirror_mode": {
    "name": "ipython",
    "version": 3
   },
   "file_extension": ".py",
   "mimetype": "text/x-python",
   "name": "python",
   "nbconvert_exporter": "python",
   "pygments_lexer": "ipython3",
   "version": "3.7.6"
  }
 },
 "nbformat": 4,
 "nbformat_minor": 4
}
