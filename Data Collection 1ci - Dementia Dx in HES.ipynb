{
 "cells": [
  {
   "cell_type": "code",
   "execution_count": 1,
   "metadata": {},
   "outputs": [],
   "source": [
    "# imports\n",
    "import sys\n",
    "import os\n",
    "import socket\n",
    "import pandas as pd\n",
    "import glob"
   ]
  },
  {
   "cell_type": "code",
   "execution_count": 2,
   "metadata": {},
   "outputs": [],
   "source": [
    "# this works for the hospital diagnosis files\n",
    "def formatdatehosp(data):\n",
    "    data['epiend']=data['epiend'].str.replace('/', '')\n",
    "    data['epiend']=pd.to_datetime(data['epiend'], format='%d%m%Y')\n",
    "    data['epistart']=data['epistart'].str.replace('/', '')\n",
    "    data['epistart']=pd.to_datetime(data['epistart'], format='%d%m%Y')\n",
    "    data['epistart'].fillna(data['epiend'], inplace = True)\n",
    "    return data"
   ]
  },
  {
   "cell_type": "code",
   "execution_count": 3,
   "metadata": {},
   "outputs": [
    {
     "data": {
      "text/html": [
       "<div>\n",
       "<style scoped>\n",
       "    .dataframe tbody tr th:only-of-type {\n",
       "        vertical-align: middle;\n",
       "    }\n",
       "\n",
       "    .dataframe tbody tr th {\n",
       "        vertical-align: top;\n",
       "    }\n",
       "\n",
       "    .dataframe thead th {\n",
       "        text-align: right;\n",
       "    }\n",
       "</style>\n",
       "<table border=\"1\" class=\"dataframe\">\n",
       "  <thead>\n",
       "    <tr style=\"text-align: right;\">\n",
       "      <th></th>\n",
       "      <th>icd</th>\n",
       "      <th>dx</th>\n",
       "    </tr>\n",
       "  </thead>\n",
       "  <tbody>\n",
       "    <tr>\n",
       "      <th>0</th>\n",
       "      <td>F00</td>\n",
       "      <td>Alzheimer's</td>\n",
       "    </tr>\n",
       "    <tr>\n",
       "      <th>1</th>\n",
       "      <td>F00.0</td>\n",
       "      <td>Alzheimer's</td>\n",
       "    </tr>\n",
       "    <tr>\n",
       "      <th>2</th>\n",
       "      <td>F00.1</td>\n",
       "      <td>Alzheimer's</td>\n",
       "    </tr>\n",
       "    <tr>\n",
       "      <th>3</th>\n",
       "      <td>F00.2</td>\n",
       "      <td>Alzheimer's</td>\n",
       "    </tr>\n",
       "    <tr>\n",
       "      <th>4</th>\n",
       "      <td>F00.9</td>\n",
       "      <td>Alzheimer's</td>\n",
       "    </tr>\n",
       "  </tbody>\n",
       "</table>\n",
       "</div>"
      ],
      "text/plain": [
       "     icd           dx\n",
       "0    F00  Alzheimer's\n",
       "1  F00.0  Alzheimer's\n",
       "2  F00.1  Alzheimer's\n",
       "3  F00.2  Alzheimer's\n",
       "4  F00.9  Alzheimer's"
      ]
     },
     "execution_count": 3,
     "metadata": {},
     "output_type": "execute_result"
    }
   ],
   "source": [
    "# read in HES dementia ICDs file\n",
    "dementia_codes = pd.read_excel('/mnt/maths/tws21/Dementia ICDs.xlsx')\n",
    "dementia_codes.head()"
   ]
  },
  {
   "cell_type": "code",
   "execution_count": 4,
   "metadata": {},
   "outputs": [],
   "source": [
    "# get ICD codes\n",
    "dementia_icds = list(dementia_codes['icd'])"
   ]
  },
  {
   "cell_type": "code",
   "execution_count": 7,
   "metadata": {},
   "outputs": [],
   "source": [
    "path = '/mnt/lustre/users/maths/tws21/seb_tmp/bsms2730/bsms2730/Linked Data/'"
   ]
  },
  {
   "cell_type": "code",
   "execution_count": 8,
   "metadata": {},
   "outputs": [],
   "source": [
    "#read in and merge all the diagnosis files\n",
    "\n",
    "diag_files = glob.glob(path + \"*diag*.txt\")\n",
    "\n",
    "diag_list = []\n",
    "for filename in diag_files:\n",
    "    df = pd.read_csv(filename, sep=\"\\t\")\n",
    "    if filename.find('hesop') != -1:\n",
    "        df['is_op'] = [1.0 for i in range(df.shape[0])]\n",
    "    else:\n",
    "        df['is_op'] = [0.0 for i in range(df.shape[0])]\n",
    "    diag_list.append(df)\n",
    "\n",
    "diag_merged = pd.concat(diag_list, axis=0)\n",
    "diag_merged = diag_merged[diag_merged['icd'].isin(dementia_icds)]\n",
    "diag_merged = formatdatehosp(diag_merged)"
   ]
  },
  {
   "cell_type": "code",
   "execution_count": 9,
   "metadata": {},
   "outputs": [
    {
     "data": {
      "text/html": [
       "<div>\n",
       "<style scoped>\n",
       "    .dataframe tbody tr th:only-of-type {\n",
       "        vertical-align: middle;\n",
       "    }\n",
       "\n",
       "    .dataframe tbody tr th {\n",
       "        vertical-align: top;\n",
       "    }\n",
       "\n",
       "    .dataframe thead th {\n",
       "        text-align: right;\n",
       "    }\n",
       "</style>\n",
       "<table border=\"1\" class=\"dataframe\">\n",
       "  <thead>\n",
       "    <tr style=\"text-align: right;\">\n",
       "      <th></th>\n",
       "      <th>e_patid</th>\n",
       "      <th>spno</th>\n",
       "      <th>epikey</th>\n",
       "      <th>epistart</th>\n",
       "      <th>epiend</th>\n",
       "      <th>icd</th>\n",
       "      <th>icdx</th>\n",
       "      <th>d_order</th>\n",
       "      <th>is_op</th>\n",
       "      <th>aekey</th>\n",
       "      <th>diag</th>\n",
       "      <th>diag2</th>\n",
       "      <th>diag3</th>\n",
       "      <th>diaga</th>\n",
       "      <th>diags</th>\n",
       "      <th>diag_order</th>\n",
       "      <th>admidate</th>\n",
       "      <th>discharged</th>\n",
       "      <th>icd_primary</th>\n",
       "    </tr>\n",
       "  </thead>\n",
       "  <tbody>\n",
       "    <tr>\n",
       "      <th>178</th>\n",
       "      <td>100007617</td>\n",
       "      <td>21656866.0</td>\n",
       "      <td>1.105147e+11</td>\n",
       "      <td>2010-10-20</td>\n",
       "      <td>2010-10-21</td>\n",
       "      <td>F00.9</td>\n",
       "      <td>-A</td>\n",
       "      <td>8.0</td>\n",
       "      <td>0.0</td>\n",
       "      <td>NaN</td>\n",
       "      <td>NaN</td>\n",
       "      <td>NaN</td>\n",
       "      <td>NaN</td>\n",
       "      <td>NaN</td>\n",
       "      <td>NaN</td>\n",
       "      <td>NaN</td>\n",
       "      <td>NaN</td>\n",
       "      <td>NaN</td>\n",
       "      <td>NaN</td>\n",
       "    </tr>\n",
       "    <tr>\n",
       "      <th>186</th>\n",
       "      <td>100007617</td>\n",
       "      <td>21656867.0</td>\n",
       "      <td>1.112481e+11</td>\n",
       "      <td>2011-06-19</td>\n",
       "      <td>2011-06-19</td>\n",
       "      <td>F00.9</td>\n",
       "      <td>-A</td>\n",
       "      <td>9.0</td>\n",
       "      <td>0.0</td>\n",
       "      <td>NaN</td>\n",
       "      <td>NaN</td>\n",
       "      <td>NaN</td>\n",
       "      <td>NaN</td>\n",
       "      <td>NaN</td>\n",
       "      <td>NaN</td>\n",
       "      <td>NaN</td>\n",
       "      <td>NaN</td>\n",
       "      <td>NaN</td>\n",
       "      <td>NaN</td>\n",
       "    </tr>\n",
       "    <tr>\n",
       "      <th>189</th>\n",
       "      <td>100007617</td>\n",
       "      <td>21656866.0</td>\n",
       "      <td>1.105147e+11</td>\n",
       "      <td>2010-10-20</td>\n",
       "      <td>2010-10-21</td>\n",
       "      <td>G30.9</td>\n",
       "      <td>-D</td>\n",
       "      <td>7.0</td>\n",
       "      <td>0.0</td>\n",
       "      <td>NaN</td>\n",
       "      <td>NaN</td>\n",
       "      <td>NaN</td>\n",
       "      <td>NaN</td>\n",
       "      <td>NaN</td>\n",
       "      <td>NaN</td>\n",
       "      <td>NaN</td>\n",
       "      <td>NaN</td>\n",
       "      <td>NaN</td>\n",
       "      <td>NaN</td>\n",
       "    </tr>\n",
       "    <tr>\n",
       "      <th>207</th>\n",
       "      <td>100007617</td>\n",
       "      <td>21656867.0</td>\n",
       "      <td>1.112481e+11</td>\n",
       "      <td>2011-06-19</td>\n",
       "      <td>2011-06-19</td>\n",
       "      <td>G30.9</td>\n",
       "      <td>-D</td>\n",
       "      <td>8.0</td>\n",
       "      <td>0.0</td>\n",
       "      <td>NaN</td>\n",
       "      <td>NaN</td>\n",
       "      <td>NaN</td>\n",
       "      <td>NaN</td>\n",
       "      <td>NaN</td>\n",
       "      <td>NaN</td>\n",
       "      <td>NaN</td>\n",
       "      <td>NaN</td>\n",
       "      <td>NaN</td>\n",
       "      <td>NaN</td>\n",
       "    </tr>\n",
       "    <tr>\n",
       "      <th>222</th>\n",
       "      <td>100007617</td>\n",
       "      <td>21656868.0</td>\n",
       "      <td>5.023907e+11</td>\n",
       "      <td>2014-03-27</td>\n",
       "      <td>2014-04-07</td>\n",
       "      <td>F01.9</td>\n",
       "      <td>-</td>\n",
       "      <td>4.0</td>\n",
       "      <td>0.0</td>\n",
       "      <td>NaN</td>\n",
       "      <td>NaN</td>\n",
       "      <td>NaN</td>\n",
       "      <td>NaN</td>\n",
       "      <td>NaN</td>\n",
       "      <td>NaN</td>\n",
       "      <td>NaN</td>\n",
       "      <td>NaN</td>\n",
       "      <td>NaN</td>\n",
       "      <td>NaN</td>\n",
       "    </tr>\n",
       "  </tbody>\n",
       "</table>\n",
       "</div>"
      ],
      "text/plain": [
       "       e_patid        spno        epikey   epistart     epiend    icd icdx  \\\n",
       "178  100007617  21656866.0  1.105147e+11 2010-10-20 2010-10-21  F00.9   -A   \n",
       "186  100007617  21656867.0  1.112481e+11 2011-06-19 2011-06-19  F00.9   -A   \n",
       "189  100007617  21656866.0  1.105147e+11 2010-10-20 2010-10-21  G30.9   -D   \n",
       "207  100007617  21656867.0  1.112481e+11 2011-06-19 2011-06-19  G30.9   -D   \n",
       "222  100007617  21656868.0  5.023907e+11 2014-03-27 2014-04-07  F01.9    -   \n",
       "\n",
       "     d_order  is_op  aekey diag diag2 diag3 diaga diags  diag_order admidate  \\\n",
       "178      8.0    0.0    NaN  NaN   NaN   NaN   NaN   NaN         NaN      NaN   \n",
       "186      9.0    0.0    NaN  NaN   NaN   NaN   NaN   NaN         NaN      NaN   \n",
       "189      7.0    0.0    NaN  NaN   NaN   NaN   NaN   NaN         NaN      NaN   \n",
       "207      8.0    0.0    NaN  NaN   NaN   NaN   NaN   NaN         NaN      NaN   \n",
       "222      4.0    0.0    NaN  NaN   NaN   NaN   NaN   NaN         NaN      NaN   \n",
       "\n",
       "    discharged icd_primary  \n",
       "178        NaN         NaN  \n",
       "186        NaN         NaN  \n",
       "189        NaN         NaN  \n",
       "207        NaN         NaN  \n",
       "222        NaN         NaN  "
      ]
     },
     "execution_count": 9,
     "metadata": {},
     "output_type": "execute_result"
    }
   ],
   "source": [
    "diag_merged.head()"
   ]
  },
  {
   "cell_type": "code",
   "execution_count": 10,
   "metadata": {},
   "outputs": [
    {
     "data": {
      "text/plain": [
       "1291481"
      ]
     },
     "execution_count": 10,
     "metadata": {},
     "output_type": "execute_result"
    }
   ],
   "source": [
    "diag_merged.shape[0]"
   ]
  },
  {
   "cell_type": "code",
   "execution_count": 11,
   "metadata": {},
   "outputs": [],
   "source": [
    "#get relevant columns\n",
    "dementia_diag_hes = diag_merged[['e_patid', 'icd', 'epistart', 'epiend', 'is_op']]"
   ]
  },
  {
   "cell_type": "code",
   "execution_count": 12,
   "metadata": {},
   "outputs": [
    {
     "data": {
      "text/plain": [
       "1291481"
      ]
     },
     "execution_count": 12,
     "metadata": {},
     "output_type": "execute_result"
    }
   ],
   "source": [
    "dementia_diag_hes.shape[0]"
   ]
  },
  {
   "cell_type": "code",
   "execution_count": 13,
   "metadata": {},
   "outputs": [
    {
     "data": {
      "text/html": [
       "<div>\n",
       "<style scoped>\n",
       "    .dataframe tbody tr th:only-of-type {\n",
       "        vertical-align: middle;\n",
       "    }\n",
       "\n",
       "    .dataframe tbody tr th {\n",
       "        vertical-align: top;\n",
       "    }\n",
       "\n",
       "    .dataframe thead th {\n",
       "        text-align: right;\n",
       "    }\n",
       "</style>\n",
       "<table border=\"1\" class=\"dataframe\">\n",
       "  <thead>\n",
       "    <tr style=\"text-align: right;\">\n",
       "      <th></th>\n",
       "      <th>e_patid</th>\n",
       "      <th>icd</th>\n",
       "      <th>epistart</th>\n",
       "      <th>epiend</th>\n",
       "      <th>is_op</th>\n",
       "    </tr>\n",
       "  </thead>\n",
       "  <tbody>\n",
       "    <tr>\n",
       "      <th>178</th>\n",
       "      <td>100007617</td>\n",
       "      <td>F00.9</td>\n",
       "      <td>2010-10-20</td>\n",
       "      <td>2010-10-21</td>\n",
       "      <td>0.0</td>\n",
       "    </tr>\n",
       "    <tr>\n",
       "      <th>186</th>\n",
       "      <td>100007617</td>\n",
       "      <td>F00.9</td>\n",
       "      <td>2011-06-19</td>\n",
       "      <td>2011-06-19</td>\n",
       "      <td>0.0</td>\n",
       "    </tr>\n",
       "    <tr>\n",
       "      <th>189</th>\n",
       "      <td>100007617</td>\n",
       "      <td>G30.9</td>\n",
       "      <td>2010-10-20</td>\n",
       "      <td>2010-10-21</td>\n",
       "      <td>0.0</td>\n",
       "    </tr>\n",
       "    <tr>\n",
       "      <th>207</th>\n",
       "      <td>100007617</td>\n",
       "      <td>G30.9</td>\n",
       "      <td>2011-06-19</td>\n",
       "      <td>2011-06-19</td>\n",
       "      <td>0.0</td>\n",
       "    </tr>\n",
       "    <tr>\n",
       "      <th>222</th>\n",
       "      <td>100007617</td>\n",
       "      <td>F01.9</td>\n",
       "      <td>2014-03-27</td>\n",
       "      <td>2014-04-07</td>\n",
       "      <td>0.0</td>\n",
       "    </tr>\n",
       "  </tbody>\n",
       "</table>\n",
       "</div>"
      ],
      "text/plain": [
       "       e_patid    icd   epistart     epiend  is_op\n",
       "178  100007617  F00.9 2010-10-20 2010-10-21    0.0\n",
       "186  100007617  F00.9 2011-06-19 2011-06-19    0.0\n",
       "189  100007617  G30.9 2010-10-20 2010-10-21    0.0\n",
       "207  100007617  G30.9 2011-06-19 2011-06-19    0.0\n",
       "222  100007617  F01.9 2014-03-27 2014-04-07    0.0"
      ]
     },
     "execution_count": 13,
     "metadata": {},
     "output_type": "execute_result"
    }
   ],
   "source": [
    "dementia_diag_hes.head()"
   ]
  },
  {
   "cell_type": "code",
   "execution_count": 14,
   "metadata": {},
   "outputs": [],
   "source": [
    "# output as parquet\n",
    "dementia_diag_hes.to_parquet(os.getcwd() + '/dementia_hes_diag_data.parquet')"
   ]
  },
  {
   "cell_type": "code",
   "execution_count": 15,
   "metadata": {},
   "outputs": [
    {
     "data": {
      "text/plain": [
       "0"
      ]
     },
     "execution_count": 15,
     "metadata": {},
     "output_type": "execute_result"
    }
   ],
   "source": [
    "# check no outpatient files\n",
    "dementia_diag_hes[dementia_diag_hes['is_op'] == 1.0].shape[0]"
   ]
  },
  {
   "cell_type": "code",
   "execution_count": null,
   "metadata": {},
   "outputs": [],
   "source": []
  }
 ],
 "metadata": {
  "kernelspec": {
   "display_name": "Python 3",
   "language": "python",
   "name": "python3"
  },
  "language_info": {
   "codemirror_mode": {
    "name": "ipython",
    "version": 3
   },
   "file_extension": ".py",
   "mimetype": "text/x-python",
   "name": "python",
   "nbconvert_exporter": "python",
   "pygments_lexer": "ipython3",
   "version": "3.7.6"
  }
 },
 "nbformat": 4,
 "nbformat_minor": 4
}
