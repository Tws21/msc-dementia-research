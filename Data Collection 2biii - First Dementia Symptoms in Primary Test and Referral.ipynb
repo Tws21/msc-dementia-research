{
 "cells": [
  {
   "cell_type": "code",
   "execution_count": 1,
   "metadata": {},
   "outputs": [],
   "source": [
    "# imports\n",
    "import sys\n",
    "import os\n",
    "import socket\n",
    "import pandas as pd\n",
    "import glob\n",
    "from datetime import datetime"
   ]
  },
  {
   "cell_type": "code",
   "execution_count": 2,
   "metadata": {},
   "outputs": [
    {
     "data": {
      "text/html": [
       "<div>\n",
       "<style scoped>\n",
       "    .dataframe tbody tr th:only-of-type {\n",
       "        vertical-align: middle;\n",
       "    }\n",
       "\n",
       "    .dataframe tbody tr th {\n",
       "        vertical-align: top;\n",
       "    }\n",
       "\n",
       "    .dataframe thead th {\n",
       "        text-align: right;\n",
       "    }\n",
       "</style>\n",
       "<table border=\"1\" class=\"dataframe\">\n",
       "  <thead>\n",
       "    <tr style=\"text-align: right;\">\n",
       "      <th></th>\n",
       "      <th>e_patid</th>\n",
       "      <th>eventdate</th>\n",
       "      <th>sysdate</th>\n",
       "      <th>constype</th>\n",
       "      <th>consid</th>\n",
       "      <th>medcode</th>\n",
       "      <th>enttype</th>\n",
       "      <th>data1</th>\n",
       "      <th>data2</th>\n",
       "      <th>data3</th>\n",
       "      <th>data4</th>\n",
       "      <th>data5</th>\n",
       "      <th>data6</th>\n",
       "      <th>data7</th>\n",
       "      <th>data8</th>\n",
       "    </tr>\n",
       "  </thead>\n",
       "  <tbody>\n",
       "    <tr>\n",
       "      <th>904214</th>\n",
       "      <td>206414246</td>\n",
       "      <td>2001-08-06</td>\n",
       "      <td>2002-02-07</td>\n",
       "      <td>2</td>\n",
       "      <td>944142</td>\n",
       "      <td>7742</td>\n",
       "      <td>288</td>\n",
       "      <td>0.0</td>\n",
       "      <td>NaN</td>\n",
       "      <td>0.0</td>\n",
       "      <td>0</td>\n",
       "      <td>NaN</td>\n",
       "      <td>NaN</td>\n",
       "      <td>0.0</td>\n",
       "      <td>None</td>\n",
       "    </tr>\n",
       "    <tr>\n",
       "      <th>904242</th>\n",
       "      <td>206414246</td>\n",
       "      <td>2001-08-06</td>\n",
       "      <td>2002-02-07</td>\n",
       "      <td>2</td>\n",
       "      <td>944142</td>\n",
       "      <td>7742</td>\n",
       "      <td>288</td>\n",
       "      <td>0.0</td>\n",
       "      <td>NaN</td>\n",
       "      <td>0.0</td>\n",
       "      <td>0</td>\n",
       "      <td>NaN</td>\n",
       "      <td>NaN</td>\n",
       "      <td>0.0</td>\n",
       "      <td>None</td>\n",
       "    </tr>\n",
       "    <tr>\n",
       "      <th>904268</th>\n",
       "      <td>206414246</td>\n",
       "      <td>2001-08-06</td>\n",
       "      <td>2002-02-07</td>\n",
       "      <td>2</td>\n",
       "      <td>944142</td>\n",
       "      <td>7742</td>\n",
       "      <td>288</td>\n",
       "      <td>0.0</td>\n",
       "      <td>NaN</td>\n",
       "      <td>0.0</td>\n",
       "      <td>0</td>\n",
       "      <td>NaN</td>\n",
       "      <td>NaN</td>\n",
       "      <td>0.0</td>\n",
       "      <td>None</td>\n",
       "    </tr>\n",
       "    <tr>\n",
       "      <th>4837330</th>\n",
       "      <td>678148246</td>\n",
       "      <td>1997-05-15</td>\n",
       "      <td>2002-02-07</td>\n",
       "      <td>2</td>\n",
       "      <td>369618</td>\n",
       "      <td>1993</td>\n",
       "      <td>288</td>\n",
       "      <td>0.0</td>\n",
       "      <td>NaN</td>\n",
       "      <td>0.0</td>\n",
       "      <td>0</td>\n",
       "      <td>NaN</td>\n",
       "      <td>NaN</td>\n",
       "      <td>0.0</td>\n",
       "      <td>None</td>\n",
       "    </tr>\n",
       "    <tr>\n",
       "      <th>4837354</th>\n",
       "      <td>678148246</td>\n",
       "      <td>1997-05-15</td>\n",
       "      <td>2002-02-07</td>\n",
       "      <td>2</td>\n",
       "      <td>369618</td>\n",
       "      <td>1993</td>\n",
       "      <td>288</td>\n",
       "      <td>0.0</td>\n",
       "      <td>NaN</td>\n",
       "      <td>0.0</td>\n",
       "      <td>0</td>\n",
       "      <td>NaN</td>\n",
       "      <td>NaN</td>\n",
       "      <td>0.0</td>\n",
       "      <td>None</td>\n",
       "    </tr>\n",
       "  </tbody>\n",
       "</table>\n",
       "</div>"
      ],
      "text/plain": [
       "           e_patid  eventdate    sysdate  constype  consid  medcode  enttype  \\\n",
       "904214   206414246 2001-08-06 2002-02-07         2  944142     7742      288   \n",
       "904242   206414246 2001-08-06 2002-02-07         2  944142     7742      288   \n",
       "904268   206414246 2001-08-06 2002-02-07         2  944142     7742      288   \n",
       "4837330  678148246 1997-05-15 2002-02-07         2  369618     1993      288   \n",
       "4837354  678148246 1997-05-15 2002-02-07         2  369618     1993      288   \n",
       "\n",
       "         data1  data2  data3  data4  data5  data6  data7 data8  \n",
       "904214     0.0    NaN    0.0      0    NaN    NaN    0.0  None  \n",
       "904242     0.0    NaN    0.0      0    NaN    NaN    0.0  None  \n",
       "904268     0.0    NaN    0.0      0    NaN    NaN    0.0  None  \n",
       "4837330    0.0    NaN    0.0      0    NaN    NaN    0.0  None  \n",
       "4837354    0.0    NaN    0.0      0    NaN    NaN    0.0  None  "
      ]
     },
     "execution_count": 2,
     "metadata": {},
     "output_type": "execute_result"
    }
   ],
   "source": [
    "# read in test symptoms\n",
    "dementia_symptoms_test = pd.read_parquet(os.getcwd() + '/dementia_symptoms_test_data.parquet')\n",
    "dementia_symptoms_test.head()"
   ]
  },
  {
   "cell_type": "code",
   "execution_count": 3,
   "metadata": {},
   "outputs": [
    {
     "data": {
      "text/html": [
       "<div>\n",
       "<style scoped>\n",
       "    .dataframe tbody tr th:only-of-type {\n",
       "        vertical-align: middle;\n",
       "    }\n",
       "\n",
       "    .dataframe tbody tr th {\n",
       "        vertical-align: top;\n",
       "    }\n",
       "\n",
       "    .dataframe thead th {\n",
       "        text-align: right;\n",
       "    }\n",
       "</style>\n",
       "<table border=\"1\" class=\"dataframe\">\n",
       "  <thead>\n",
       "    <tr style=\"text-align: right;\">\n",
       "      <th></th>\n",
       "      <th>e_patid</th>\n",
       "      <th>eventdate</th>\n",
       "      <th>sysdate</th>\n",
       "      <th>constype</th>\n",
       "      <th>consid</th>\n",
       "      <th>medcode</th>\n",
       "      <th>nhsspec</th>\n",
       "      <th>attendance</th>\n",
       "      <th>urgency</th>\n",
       "    </tr>\n",
       "  </thead>\n",
       "  <tbody>\n",
       "    <tr>\n",
       "      <th>11</th>\n",
       "      <td>10009416</td>\n",
       "      <td>2003-04-04</td>\n",
       "      <td>2009-02-20</td>\n",
       "      <td>4</td>\n",
       "      <td>1067550</td>\n",
       "      <td>2964</td>\n",
       "      <td>0</td>\n",
       "      <td>0</td>\n",
       "      <td>0</td>\n",
       "    </tr>\n",
       "    <tr>\n",
       "      <th>38</th>\n",
       "      <td>10010191</td>\n",
       "      <td>2000-01-18</td>\n",
       "      <td>2000-01-20</td>\n",
       "      <td>4</td>\n",
       "      <td>136437</td>\n",
       "      <td>5777</td>\n",
       "      <td>54</td>\n",
       "      <td>1</td>\n",
       "      <td>4</td>\n",
       "    </tr>\n",
       "    <tr>\n",
       "      <th>308</th>\n",
       "      <td>100305191</td>\n",
       "      <td>2004-07-01</td>\n",
       "      <td>2004-07-01</td>\n",
       "      <td>4</td>\n",
       "      <td>476673</td>\n",
       "      <td>10448</td>\n",
       "      <td>36</td>\n",
       "      <td>0</td>\n",
       "      <td>2</td>\n",
       "    </tr>\n",
       "    <tr>\n",
       "      <th>379</th>\n",
       "      <td>10036782</td>\n",
       "      <td>2011-03-16</td>\n",
       "      <td>2011-03-16</td>\n",
       "      <td>4</td>\n",
       "      <td>168769</td>\n",
       "      <td>1511</td>\n",
       "      <td>0</td>\n",
       "      <td>0</td>\n",
       "      <td>2</td>\n",
       "    </tr>\n",
       "    <tr>\n",
       "      <th>386</th>\n",
       "      <td>10036782</td>\n",
       "      <td>2013-03-04</td>\n",
       "      <td>2013-03-04</td>\n",
       "      <td>4</td>\n",
       "      <td>169048</td>\n",
       "      <td>2189</td>\n",
       "      <td>54</td>\n",
       "      <td>0</td>\n",
       "      <td>4</td>\n",
       "    </tr>\n",
       "  </tbody>\n",
       "</table>\n",
       "</div>"
      ],
      "text/plain": [
       "       e_patid  eventdate    sysdate  constype   consid  medcode  nhsspec  \\\n",
       "11    10009416 2003-04-04 2009-02-20         4  1067550     2964        0   \n",
       "38    10010191 2000-01-18 2000-01-20         4   136437     5777       54   \n",
       "308  100305191 2004-07-01 2004-07-01         4   476673    10448       36   \n",
       "379   10036782 2011-03-16 2011-03-16         4   168769     1511        0   \n",
       "386   10036782 2013-03-04 2013-03-04         4   169048     2189       54   \n",
       "\n",
       "     attendance  urgency  \n",
       "11            0        0  \n",
       "38            1        4  \n",
       "308           0        2  \n",
       "379           0        2  \n",
       "386           0        4  "
      ]
     },
     "execution_count": 3,
     "metadata": {},
     "output_type": "execute_result"
    }
   ],
   "source": [
    "# read in referral symptoms\n",
    "dementia_symptoms_referral = pd.read_parquet(os.getcwd() + '/dementia_symptoms_referral_data.parquet')\n",
    "dementia_symptoms_referral.head()"
   ]
  },
  {
   "cell_type": "code",
   "execution_count": 4,
   "metadata": {},
   "outputs": [],
   "source": [
    "# get unique e_patids for both\n",
    "e_patids_test = dementia_symptoms_test['e_patid'].unique()\n",
    "e_patids_referral = dementia_symptoms_referral['e_patid'].unique()"
   ]
  },
  {
   "cell_type": "code",
   "execution_count": 5,
   "metadata": {},
   "outputs": [],
   "source": [
    "# Replace nan eventdates with sysdates and make date object\n",
    "dementia_symptoms_test['eventdate'].fillna(dementia_symptoms_test['sysdate'], inplace = True)\n",
    "dementia_symptoms_referral['eventdate'].fillna(dementia_symptoms_referral['sysdate'], inplace = True)"
   ]
  },
  {
   "cell_type": "code",
   "execution_count": 6,
   "metadata": {},
   "outputs": [],
   "source": [
    "# get first symptom in test file\n",
    "first_dementia_code_dates_test = []\n",
    "for i in e_patids_test:\n",
    "    first_dementia_code_dates_test += [min(\n",
    "        dementia_symptoms_test[dementia_symptoms_test['e_patid'] == i]['eventdate'])]"
   ]
  },
  {
   "cell_type": "code",
   "execution_count": 7,
   "metadata": {},
   "outputs": [],
   "source": [
    "# make df\n",
    "df_first_dates_test = pd.DataFrame({\"e_patid\": e_patids_test, \"eventdate\": first_dementia_code_dates_test})"
   ]
  },
  {
   "cell_type": "code",
   "execution_count": 8,
   "metadata": {},
   "outputs": [
    {
     "data": {
      "text/html": [
       "<div>\n",
       "<style scoped>\n",
       "    .dataframe tbody tr th:only-of-type {\n",
       "        vertical-align: middle;\n",
       "    }\n",
       "\n",
       "    .dataframe tbody tr th {\n",
       "        vertical-align: top;\n",
       "    }\n",
       "\n",
       "    .dataframe thead th {\n",
       "        text-align: right;\n",
       "    }\n",
       "</style>\n",
       "<table border=\"1\" class=\"dataframe\">\n",
       "  <thead>\n",
       "    <tr style=\"text-align: right;\">\n",
       "      <th></th>\n",
       "      <th>e_patid</th>\n",
       "      <th>eventdate</th>\n",
       "    </tr>\n",
       "  </thead>\n",
       "  <tbody>\n",
       "    <tr>\n",
       "      <th>0</th>\n",
       "      <td>206414246</td>\n",
       "      <td>2001-08-06</td>\n",
       "    </tr>\n",
       "    <tr>\n",
       "      <th>1</th>\n",
       "      <td>678148246</td>\n",
       "      <td>1997-05-15</td>\n",
       "    </tr>\n",
       "    <tr>\n",
       "      <th>2</th>\n",
       "      <td>633529235</td>\n",
       "      <td>1990-11-27</td>\n",
       "    </tr>\n",
       "    <tr>\n",
       "      <th>3</th>\n",
       "      <td>641118235</td>\n",
       "      <td>1993-08-06</td>\n",
       "    </tr>\n",
       "  </tbody>\n",
       "</table>\n",
       "</div>"
      ],
      "text/plain": [
       "     e_patid  eventdate\n",
       "0  206414246 2001-08-06\n",
       "1  678148246 1997-05-15\n",
       "2  633529235 1990-11-27\n",
       "3  641118235 1993-08-06"
      ]
     },
     "execution_count": 8,
     "metadata": {},
     "output_type": "execute_result"
    }
   ],
   "source": [
    "df_first_dates_test.head()"
   ]
  },
  {
   "cell_type": "code",
   "execution_count": 9,
   "metadata": {},
   "outputs": [],
   "source": [
    "# merge with test file to get first symptom row\n",
    "first_dementia_symptoms_test = df_first_dates_test.merge(\n",
    "    right = dementia_symptoms_test, on = ['e_patid', 'eventdate'], how = 'inner')"
   ]
  },
  {
   "cell_type": "code",
   "execution_count": 10,
   "metadata": {},
   "outputs": [
    {
     "data": {
      "text/plain": [
       "10"
      ]
     },
     "execution_count": 10,
     "metadata": {},
     "output_type": "execute_result"
    }
   ],
   "source": [
    "first_dementia_symptoms_test.shape[0]"
   ]
  },
  {
   "cell_type": "code",
   "execution_count": 11,
   "metadata": {},
   "outputs": [
    {
     "data": {
      "text/plain": [
       "10"
      ]
     },
     "execution_count": 11,
     "metadata": {},
     "output_type": "execute_result"
    }
   ],
   "source": [
    "dementia_symptoms_test.shape[0]"
   ]
  },
  {
   "cell_type": "code",
   "execution_count": 12,
   "metadata": {},
   "outputs": [],
   "source": [
    "# save to parquet\n",
    "first_dementia_symptoms_test.to_parquet(os.getcwd() + '/first_dementia_symptoms_in_primary_test.parquet')"
   ]
  },
  {
   "cell_type": "code",
   "execution_count": 13,
   "metadata": {},
   "outputs": [],
   "source": [
    "# get first symptom in referral file\n",
    "first_dementia_code_dates_referral = []\n",
    "for i in e_patids_referral:\n",
    "    first_dementia_code_dates_referral += [min(\n",
    "        dementia_symptoms_referral[dementia_symptoms_referral['e_patid'] == i]['eventdate'])]"
   ]
  },
  {
   "cell_type": "code",
   "execution_count": 14,
   "metadata": {},
   "outputs": [],
   "source": [
    "# save to df\n",
    "df_first_dates_referral = pd.DataFrame({\"e_patid\": e_patids_referral, \"eventdate\": first_dementia_code_dates_referral})"
   ]
  },
  {
   "cell_type": "code",
   "execution_count": 15,
   "metadata": {},
   "outputs": [
    {
     "data": {
      "text/html": [
       "<div>\n",
       "<style scoped>\n",
       "    .dataframe tbody tr th:only-of-type {\n",
       "        vertical-align: middle;\n",
       "    }\n",
       "\n",
       "    .dataframe tbody tr th {\n",
       "        vertical-align: top;\n",
       "    }\n",
       "\n",
       "    .dataframe thead th {\n",
       "        text-align: right;\n",
       "    }\n",
       "</style>\n",
       "<table border=\"1\" class=\"dataframe\">\n",
       "  <thead>\n",
       "    <tr style=\"text-align: right;\">\n",
       "      <th></th>\n",
       "      <th>e_patid</th>\n",
       "      <th>eventdate</th>\n",
       "    </tr>\n",
       "  </thead>\n",
       "  <tbody>\n",
       "    <tr>\n",
       "      <th>0</th>\n",
       "      <td>10009416</td>\n",
       "      <td>2003-04-04</td>\n",
       "    </tr>\n",
       "    <tr>\n",
       "      <th>1</th>\n",
       "      <td>10010191</td>\n",
       "      <td>2000-01-18</td>\n",
       "    </tr>\n",
       "    <tr>\n",
       "      <th>2</th>\n",
       "      <td>100305191</td>\n",
       "      <td>2004-07-01</td>\n",
       "    </tr>\n",
       "    <tr>\n",
       "      <th>3</th>\n",
       "      <td>10036782</td>\n",
       "      <td>2007-06-19</td>\n",
       "    </tr>\n",
       "    <tr>\n",
       "      <th>4</th>\n",
       "      <td>10040816</td>\n",
       "      <td>2018-02-27</td>\n",
       "    </tr>\n",
       "  </tbody>\n",
       "</table>\n",
       "</div>"
      ],
      "text/plain": [
       "     e_patid  eventdate\n",
       "0   10009416 2003-04-04\n",
       "1   10010191 2000-01-18\n",
       "2  100305191 2004-07-01\n",
       "3   10036782 2007-06-19\n",
       "4   10040816 2018-02-27"
      ]
     },
     "execution_count": 15,
     "metadata": {},
     "output_type": "execute_result"
    }
   ],
   "source": [
    "df_first_dates_referral.head()"
   ]
  },
  {
   "cell_type": "code",
   "execution_count": 16,
   "metadata": {},
   "outputs": [],
   "source": [
    "# merge as above with referral file file\n",
    "first_dementia_symptoms_referral = df_first_dates_referral.merge(\n",
    "    right = dementia_symptoms_referral, on = ['e_patid', 'eventdate'], how = 'inner')"
   ]
  },
  {
   "cell_type": "code",
   "execution_count": 17,
   "metadata": {},
   "outputs": [
    {
     "data": {
      "text/plain": [
       "88753"
      ]
     },
     "execution_count": 17,
     "metadata": {},
     "output_type": "execute_result"
    }
   ],
   "source": [
    "first_dementia_symptoms_referral.shape[0]"
   ]
  },
  {
   "cell_type": "code",
   "execution_count": 18,
   "metadata": {},
   "outputs": [
    {
     "data": {
      "text/plain": [
       "122785"
      ]
     },
     "execution_count": 18,
     "metadata": {},
     "output_type": "execute_result"
    }
   ],
   "source": [
    "dementia_symptoms_referral.shape[0]"
   ]
  },
  {
   "cell_type": "code",
   "execution_count": 19,
   "metadata": {},
   "outputs": [],
   "source": [
    "# save to parquet file\n",
    "first_dementia_symptoms_referral.to_parquet(os.getcwd() + '/first_dementia_symptoms_in_primary_referral.parquet')"
   ]
  },
  {
   "cell_type": "code",
   "execution_count": null,
   "metadata": {},
   "outputs": [],
   "source": []
  }
 ],
 "metadata": {
  "kernelspec": {
   "display_name": "Python 3",
   "language": "python",
   "name": "python3"
  },
  "language_info": {
   "codemirror_mode": {
    "name": "ipython",
    "version": 3
   },
   "file_extension": ".py",
   "mimetype": "text/x-python",
   "name": "python",
   "nbconvert_exporter": "python",
   "pygments_lexer": "ipython3",
   "version": "3.7.6"
  }
 },
 "nbformat": 4,
 "nbformat_minor": 4
}
