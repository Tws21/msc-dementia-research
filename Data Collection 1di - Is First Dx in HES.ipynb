{
 "cells": [
  {
   "cell_type": "code",
   "execution_count": 12,
   "metadata": {},
   "outputs": [],
   "source": [
    "# imports\n",
    "import sys\n",
    "import os\n",
    "import socket\n",
    "import pandas as pd\n",
    "import glob\n",
    "import datetime"
   ]
  },
  {
   "cell_type": "code",
   "execution_count": 13,
   "metadata": {},
   "outputs": [],
   "source": [
    "# read in hes dx file\n",
    "dementia_dx_hes = pd.read_parquet(os.getcwd() + '/first_dementia_records_in_hes.parquet')"
   ]
  },
  {
   "cell_type": "code",
   "execution_count": 14,
   "metadata": {},
   "outputs": [],
   "source": [
    "# read in primary dx files\n",
    "dementia_dx_primary_clin = pd.read_parquet(os.getcwd() + '/first_dementia_records_in_primary_care.parquet')\n",
    "dementia_dx_primary_test = pd.read_parquet(os.getcwd() + '/first_dementia_dx_in_primary_test.parquet')\n",
    "dementia_dx_primary_ref = pd.read_parquet(os.getcwd() + '/first_dementia_dx_in_primary_referral.parquet')"
   ]
  },
  {
   "cell_type": "code",
   "execution_count": 15,
   "metadata": {},
   "outputs": [],
   "source": [
    "# get e_patids from files\n",
    "e_patids_hes = dementia_dx_hes['e_patid'].unique()\n",
    "e_patids_clin = dementia_dx_primary_clin['e_patid'].unique()\n",
    "e_patids_test = dementia_dx_primary_test['e_patid'].unique()\n",
    "e_patids_ref = dementia_dx_primary_ref['e_patid'].unique()"
   ]
  },
  {
   "cell_type": "code",
   "execution_count": 16,
   "metadata": {},
   "outputs": [],
   "source": [
    "# combine primary e_patids\n",
    "e_patids_primary = list(set(e_patids_clin).union(set(e_patids_test)).union(set(e_patids_ref)))"
   ]
  },
  {
   "cell_type": "code",
   "execution_count": 17,
   "metadata": {},
   "outputs": [],
   "source": [
    "# get first dx in any primary file for primary dx e_patids\n",
    "first_dementia_code_dates_primary = []\n",
    "for i in e_patids_primary:\n",
    "    dates = []\n",
    "    if i in e_patids_clin:\n",
    "        dates.append(min(dementia_dx_primary_clin[dementia_dx_primary_clin['e_patid'] == i]['eventdate']))\n",
    "    if i in e_patids_test:\n",
    "        dates.append(min(dementia_dx_primary_test[dementia_dx_primary_test['e_patid'] == i]['eventdate']))\n",
    "    if i in e_patids_ref:\n",
    "        dates.append(min(dementia_dx_primary_ref[dementia_dx_primary_ref['e_patid'] == i]['eventdate']))\n",
    "    first_dementia_code_dates_primary.append(min(dates))"
   ]
  },
  {
   "cell_type": "code",
   "execution_count": 18,
   "metadata": {},
   "outputs": [],
   "source": [
    "# make df\n",
    "first_dx_dates_primary = pd.DataFrame({\"e_patid\": e_patids_primary, \"eventdate\": first_dementia_code_dates_primary})"
   ]
  },
  {
   "cell_type": "code",
   "execution_count": 19,
   "metadata": {},
   "outputs": [],
   "source": [
    "# get first hes dx\n",
    "first_dementia_code_dates_hes = []\n",
    "for i in e_patids_hes:\n",
    "    first_dementia_code_dates_hes += [min(dementia_dx_hes[dementia_dx_hes['e_patid'] == i]['epistart'])]"
   ]
  },
  {
   "cell_type": "code",
   "execution_count": 20,
   "metadata": {},
   "outputs": [],
   "source": [
    "# make df\n",
    "first_dx_dates_hes = pd.DataFrame({\"e_patid\": e_patids_hes, \"epistart\": first_dementia_code_dates_hes})"
   ]
  },
  {
   "cell_type": "code",
   "execution_count": 21,
   "metadata": {},
   "outputs": [],
   "source": [
    "# combine all dementia dx e_patids in hes and primary files\n",
    "e_patids_all = list(set(e_patids_primary).union(set(e_patids_hes)))"
   ]
  },
  {
   "cell_type": "code",
   "execution_count": 22,
   "metadata": {},
   "outputs": [],
   "source": [
    "# get first dx date in all files and whether it was in primary care\n",
    "first_dx_dates_all = []\n",
    "is_dx_in_primary = []\n",
    "for i in e_patids_all:\n",
    "    date_primary = None\n",
    "    date_hes = None\n",
    "    \n",
    "    if i in e_patids_primary:\n",
    "        dates = list(first_dx_dates_primary[first_dx_dates_primary['e_patid'] == i]['eventdate'])\n",
    "        date_primary = dates[0]\n",
    "    else:\n",
    "        date_primary = pd.Timestamp(datetime.date.today())\n",
    "        \n",
    "    if i in e_patids_hes:\n",
    "        dates = list(first_dx_dates_hes[first_dx_dates_hes['e_patid'] == i]['epistart'])\n",
    "        date_hes = dates[0]\n",
    "    else:\n",
    "        date_hes = pd.Timestamp(datetime.date.today())\n",
    "        \n",
    "    first_dx_dates_all.append(min([date_primary, date_hes]))\n",
    "    \n",
    "    if date_primary < date_hes:\n",
    "        is_dx_in_primary.append(1.0)\n",
    "    else:\n",
    "        is_dx_in_primary.append(0.0)"
   ]
  },
  {
   "cell_type": "code",
   "execution_count": 23,
   "metadata": {},
   "outputs": [],
   "source": [
    "# make df\n",
    "first_dx_all_df = pd.DataFrame({'e_patid': e_patids_all, 'first_diagnosis_date': first_dx_dates_all,\n",
    "                                'first_diagnosed_in_primary_care': is_dx_in_primary})"
   ]
  },
  {
   "cell_type": "code",
   "execution_count": 24,
   "metadata": {},
   "outputs": [
    {
     "data": {
      "text/html": [
       "<div>\n",
       "<style scoped>\n",
       "    .dataframe tbody tr th:only-of-type {\n",
       "        vertical-align: middle;\n",
       "    }\n",
       "\n",
       "    .dataframe tbody tr th {\n",
       "        vertical-align: top;\n",
       "    }\n",
       "\n",
       "    .dataframe thead th {\n",
       "        text-align: right;\n",
       "    }\n",
       "</style>\n",
       "<table border=\"1\" class=\"dataframe\">\n",
       "  <thead>\n",
       "    <tr style=\"text-align: right;\">\n",
       "      <th></th>\n",
       "      <th>e_patid</th>\n",
       "      <th>first_diagnosis_date</th>\n",
       "      <th>first_diagnosed_in_primary_care</th>\n",
       "    </tr>\n",
       "  </thead>\n",
       "  <tbody>\n",
       "    <tr>\n",
       "      <th>0</th>\n",
       "      <td>792199168</td>\n",
       "      <td>2010-11-25</td>\n",
       "      <td>1.0</td>\n",
       "    </tr>\n",
       "    <tr>\n",
       "      <th>1</th>\n",
       "      <td>24117254</td>\n",
       "      <td>2005-10-04</td>\n",
       "      <td>1.0</td>\n",
       "    </tr>\n",
       "    <tr>\n",
       "      <th>2</th>\n",
       "      <td>519045131</td>\n",
       "      <td>2004-02-11</td>\n",
       "      <td>0.0</td>\n",
       "    </tr>\n",
       "    <tr>\n",
       "      <th>3</th>\n",
       "      <td>63438860</td>\n",
       "      <td>1996-09-26</td>\n",
       "      <td>1.0</td>\n",
       "    </tr>\n",
       "    <tr>\n",
       "      <th>4</th>\n",
       "      <td>734003216</td>\n",
       "      <td>2009-08-26</td>\n",
       "      <td>1.0</td>\n",
       "    </tr>\n",
       "  </tbody>\n",
       "</table>\n",
       "</div>"
      ],
      "text/plain": [
       "     e_patid first_diagnosis_date  first_diagnosed_in_primary_care\n",
       "0  792199168           2010-11-25                              1.0\n",
       "1   24117254           2005-10-04                              1.0\n",
       "2  519045131           2004-02-11                              0.0\n",
       "3   63438860           1996-09-26                              1.0\n",
       "4  734003216           2009-08-26                              1.0"
      ]
     },
     "execution_count": 24,
     "metadata": {},
     "output_type": "execute_result"
    }
   ],
   "source": [
    "first_dx_all_df.head()"
   ]
  },
  {
   "cell_type": "code",
   "execution_count": 25,
   "metadata": {},
   "outputs": [
    {
     "data": {
      "text/html": [
       "<div>\n",
       "<style scoped>\n",
       "    .dataframe tbody tr th:only-of-type {\n",
       "        vertical-align: middle;\n",
       "    }\n",
       "\n",
       "    .dataframe tbody tr th {\n",
       "        vertical-align: top;\n",
       "    }\n",
       "\n",
       "    .dataframe thead th {\n",
       "        text-align: right;\n",
       "    }\n",
       "</style>\n",
       "<table border=\"1\" class=\"dataframe\">\n",
       "  <thead>\n",
       "    <tr style=\"text-align: right;\">\n",
       "      <th></th>\n",
       "      <th>e_patid</th>\n",
       "      <th>first_diagnosed_in_primary_care</th>\n",
       "    </tr>\n",
       "  </thead>\n",
       "  <tbody>\n",
       "    <tr>\n",
       "      <th>count</th>\n",
       "      <td>2.067530e+05</td>\n",
       "      <td>206753.000000</td>\n",
       "    </tr>\n",
       "    <tr>\n",
       "      <th>mean</th>\n",
       "      <td>3.109121e+08</td>\n",
       "      <td>0.247551</td>\n",
       "    </tr>\n",
       "    <tr>\n",
       "      <th>std</th>\n",
       "      <td>2.549607e+08</td>\n",
       "      <td>0.431591</td>\n",
       "    </tr>\n",
       "    <tr>\n",
       "      <th>min</th>\n",
       "      <td>1.732000e+03</td>\n",
       "      <td>0.000000</td>\n",
       "    </tr>\n",
       "    <tr>\n",
       "      <th>25%</th>\n",
       "      <td>6.067319e+07</td>\n",
       "      <td>0.000000</td>\n",
       "    </tr>\n",
       "    <tr>\n",
       "      <th>50%</th>\n",
       "      <td>2.706725e+08</td>\n",
       "      <td>0.000000</td>\n",
       "    </tr>\n",
       "    <tr>\n",
       "      <th>75%</th>\n",
       "      <td>5.352963e+08</td>\n",
       "      <td>0.000000</td>\n",
       "    </tr>\n",
       "    <tr>\n",
       "      <th>max</th>\n",
       "      <td>8.000031e+08</td>\n",
       "      <td>1.000000</td>\n",
       "    </tr>\n",
       "  </tbody>\n",
       "</table>\n",
       "</div>"
      ],
      "text/plain": [
       "            e_patid  first_diagnosed_in_primary_care\n",
       "count  2.067530e+05                    206753.000000\n",
       "mean   3.109121e+08                         0.247551\n",
       "std    2.549607e+08                         0.431591\n",
       "min    1.732000e+03                         0.000000\n",
       "25%    6.067319e+07                         0.000000\n",
       "50%    2.706725e+08                         0.000000\n",
       "75%    5.352963e+08                         0.000000\n",
       "max    8.000031e+08                         1.000000"
      ]
     },
     "execution_count": 25,
     "metadata": {},
     "output_type": "execute_result"
    }
   ],
   "source": [
    "first_dx_all_df.describe()"
   ]
  },
  {
   "cell_type": "code",
   "execution_count": 26,
   "metadata": {},
   "outputs": [],
   "source": [
    "# save as parquet\n",
    "first_dx_all_df.to_parquet(os.getcwd() + '/first_dementia_dx_all.parquet')"
   ]
  },
  {
   "cell_type": "code",
   "execution_count": 27,
   "metadata": {},
   "outputs": [
    {
     "data": {
      "text/plain": [
       "206753"
      ]
     },
     "execution_count": 27,
     "metadata": {},
     "output_type": "execute_result"
    }
   ],
   "source": [
    "first_dx_all_df.shape[0]"
   ]
  },
  {
   "cell_type": "code",
   "execution_count": 28,
   "metadata": {},
   "outputs": [
    {
     "data": {
      "text/plain": [
       "51182"
      ]
     },
     "execution_count": 28,
     "metadata": {},
     "output_type": "execute_result"
    }
   ],
   "source": [
    "first_dx_all_df[first_dx_all_df['first_diagnosed_in_primary_care'] == 1.0].shape[0]"
   ]
  },
  {
   "cell_type": "code",
   "execution_count": 29,
   "metadata": {},
   "outputs": [
    {
     "data": {
      "text/plain": [
       "155571"
      ]
     },
     "execution_count": 29,
     "metadata": {},
     "output_type": "execute_result"
    }
   ],
   "source": [
    "first_dx_all_df[first_dx_all_df['first_diagnosed_in_primary_care'] != 1.0].shape[0]"
   ]
  },
  {
   "cell_type": "code",
   "execution_count": 30,
   "metadata": {},
   "outputs": [
    {
     "data": {
      "text/plain": [
       "Series([], Name: eventdate, dtype: datetime64[ns])"
      ]
     },
     "execution_count": 30,
     "metadata": {},
     "output_type": "execute_result"
    }
   ],
   "source": [
    "first_dx_dates_primary[first_dx_dates_primary['e_patid'] == 519045131]['eventdate']"
   ]
  },
  {
   "cell_type": "code",
   "execution_count": 31,
   "metadata": {},
   "outputs": [
    {
     "data": {
      "text/plain": [
       "148632   2004-02-11\n",
       "Name: epistart, dtype: datetime64[ns]"
      ]
     },
     "execution_count": 31,
     "metadata": {},
     "output_type": "execute_result"
    }
   ],
   "source": [
    "first_dx_dates_hes[first_dx_dates_hes['e_patid'] == 519045131]['epistart']"
   ]
  },
  {
   "cell_type": "code",
   "execution_count": 32,
   "metadata": {},
   "outputs": [
    {
     "data": {
      "text/plain": [
       "0   2010-11-25\n",
       "Name: eventdate, dtype: datetime64[ns]"
      ]
     },
     "execution_count": 32,
     "metadata": {},
     "output_type": "execute_result"
    }
   ],
   "source": [
    "first_dx_dates_primary[first_dx_dates_primary['e_patid'] == 792199168]['eventdate']"
   ]
  },
  {
   "cell_type": "code",
   "execution_count": 33,
   "metadata": {},
   "outputs": [
    {
     "data": {
      "text/plain": [
       "185262   2011-02-03\n",
       "Name: epistart, dtype: datetime64[ns]"
      ]
     },
     "execution_count": 33,
     "metadata": {},
     "output_type": "execute_result"
    }
   ],
   "source": [
    "first_dx_dates_hes[first_dx_dates_hes['e_patid'] == 792199168]['epistart']"
   ]
  },
  {
   "cell_type": "code",
   "execution_count": null,
   "metadata": {},
   "outputs": [],
   "source": []
  }
 ],
 "metadata": {
  "kernelspec": {
   "display_name": "Python 3",
   "language": "python",
   "name": "python3"
  },
  "language_info": {
   "codemirror_mode": {
    "name": "ipython",
    "version": 3
   },
   "file_extension": ".py",
   "mimetype": "text/x-python",
   "name": "python",
   "nbconvert_exporter": "python",
   "pygments_lexer": "ipython3",
   "version": "3.7.6"
  }
 },
 "nbformat": 4,
 "nbformat_minor": 4
}
