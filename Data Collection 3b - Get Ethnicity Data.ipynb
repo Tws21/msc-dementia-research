{
 "cells": [
  {
   "cell_type": "code",
   "execution_count": 53,
   "metadata": {},
   "outputs": [],
   "source": [
    "# imports\n",
    "import sys\n",
    "import os\n",
    "import socket\n",
    "import pandas as pd\n",
    "import glob\n",
    "import datetime as dt\n",
    "from datetime import timedelta, datetime"
   ]
  },
  {
   "cell_type": "code",
   "execution_count": 54,
   "metadata": {},
   "outputs": [],
   "source": [
    "# function to format dates\n",
    "def formatdate(data):\n",
    "    data['sysdate'] = data['sysdate'].str.replace('/', '')\n",
    "    data['sysdate']= pd.to_datetime(data['sysdate'], format='%d%m%Y')\n",
    "    data['eventdate']= data['eventdate'].str.replace('/', '')\n",
    "    data['eventdate'] = pd.to_datetime(data['eventdate'], format='%d%m%Y')\n",
    "    data['eventdate'].fillna(data['sysdate'], inplace = True)\n",
    "    return data\n",
    "\n",
    "# function to get latest record in a df of e_patids and dates\n",
    "def getlatest(data):\n",
    "    data = data[['e_patid', 'eventdate']].groupby(['e_patid']).max()\n",
    "    return data"
   ]
  },
  {
   "cell_type": "code",
   "execution_count": 55,
   "metadata": {},
   "outputs": [],
   "source": [
    "# read in cohort file\n",
    "cohort = pd.read_parquet(os.getcwd() + '/cleaned_cohort_file.parquet')"
   ]
  },
  {
   "cell_type": "code",
   "execution_count": 56,
   "metadata": {},
   "outputs": [],
   "source": [
    "path = \"/mnt/lustre/users/maths/tws21/seb_tmp/bsms2730/bsms2730/Linked Data/\""
   ]
  },
  {
   "cell_type": "code",
   "execution_count": 57,
   "metadata": {},
   "outputs": [],
   "source": [
    "# get unique e_patids\n",
    "cohort_e_patids = list(cohort.e_patid.unique())"
   ]
  },
  {
   "cell_type": "code",
   "execution_count": 58,
   "metadata": {},
   "outputs": [
    {
     "name": "stderr",
     "output_type": "stream",
     "text": [
      "/mnt/ebinstall/software/Anaconda3/2020.02/lib/python3.7/site-packages/IPython/core/interactiveshell.py:3331: DtypeWarning: Columns (7,23,24,25) have mixed types.Specify dtype option on import or set low_memory=False.\n",
      "  exec(code_obj, self.user_global_ns, self.user_ns)\n",
      "/mnt/ebinstall/software/Anaconda3/2020.02/lib/python3.7/site-packages/IPython/core/interactiveshell.py:3331: DtypeWarning: Columns (7,22,23,24,25) have mixed types.Specify dtype option on import or set low_memory=False.\n",
      "  exec(code_obj, self.user_global_ns, self.user_ns)\n"
     ]
    }
   ],
   "source": [
    "#read in and merge all the hes patient files and search by cohort e_patid\n",
    "\n",
    "hes_patient_files = glob.glob(path + \"*patient*.txt\")\n",
    "\n",
    "patient_list = []\n",
    "for filename in hes_patient_files:\n",
    "    df = pd.read_csv(filename, sep=\"\\t\")\n",
    "    df = df[df['e_patid'].isin(cohort_e_patids)]\n",
    "    patient_list.append(df)\n",
    "\n",
    "patient_merged = pd.concat(patient_list, axis=0)"
   ]
  },
  {
   "cell_type": "code",
   "execution_count": 59,
   "metadata": {},
   "outputs": [
    {
     "data": {
      "text/html": [
       "<div>\n",
       "<style scoped>\n",
       "    .dataframe tbody tr th:only-of-type {\n",
       "        vertical-align: middle;\n",
       "    }\n",
       "\n",
       "    .dataframe tbody tr th {\n",
       "        vertical-align: top;\n",
       "    }\n",
       "\n",
       "    .dataframe thead th {\n",
       "        text-align: right;\n",
       "    }\n",
       "</style>\n",
       "<table border=\"1\" class=\"dataframe\">\n",
       "  <thead>\n",
       "    <tr style=\"text-align: right;\">\n",
       "      <th></th>\n",
       "      <th>e_patid</th>\n",
       "      <th>e_pracid</th>\n",
       "      <th>e_gen_hesid</th>\n",
       "      <th>n_patid_hes</th>\n",
       "      <th>gen_ethnicity</th>\n",
       "      <th>match_rank</th>\n",
       "      <th>e_gen_mhds_id</th>\n",
       "      <th>n_patid_mh</th>\n",
       "      <th>pre_2011</th>\n",
       "      <th>post_2011</th>\n",
       "      <th>...</th>\n",
       "      <th>cause14</th>\n",
       "      <th>cause15</th>\n",
       "      <th>cause_neonatal1</th>\n",
       "      <th>cause_neonatal2</th>\n",
       "      <th>cause_neonatal3</th>\n",
       "      <th>cause_neonatal4</th>\n",
       "      <th>cause_neonatal5</th>\n",
       "      <th>cause_neonatal6</th>\n",
       "      <th>cause_neonatal7</th>\n",
       "      <th>cause_neonatal8</th>\n",
       "    </tr>\n",
       "  </thead>\n",
       "  <tbody>\n",
       "    <tr>\n",
       "      <th>19</th>\n",
       "      <td>10002112</td>\n",
       "      <td>112</td>\n",
       "      <td>54425.0</td>\n",
       "      <td>1.0</td>\n",
       "      <td>White</td>\n",
       "      <td>1</td>\n",
       "      <td>NaN</td>\n",
       "      <td>NaN</td>\n",
       "      <td>NaN</td>\n",
       "      <td>NaN</td>\n",
       "      <td>...</td>\n",
       "      <td>NaN</td>\n",
       "      <td>NaN</td>\n",
       "      <td>NaN</td>\n",
       "      <td>NaN</td>\n",
       "      <td>NaN</td>\n",
       "      <td>NaN</td>\n",
       "      <td>NaN</td>\n",
       "      <td>NaN</td>\n",
       "      <td>NaN</td>\n",
       "      <td>NaN</td>\n",
       "    </tr>\n",
       "    <tr>\n",
       "      <th>59</th>\n",
       "      <td>10007093</td>\n",
       "      <td>93</td>\n",
       "      <td>853202.0</td>\n",
       "      <td>1.0</td>\n",
       "      <td>Unknown</td>\n",
       "      <td>2</td>\n",
       "      <td>NaN</td>\n",
       "      <td>NaN</td>\n",
       "      <td>NaN</td>\n",
       "      <td>NaN</td>\n",
       "      <td>...</td>\n",
       "      <td>NaN</td>\n",
       "      <td>NaN</td>\n",
       "      <td>NaN</td>\n",
       "      <td>NaN</td>\n",
       "      <td>NaN</td>\n",
       "      <td>NaN</td>\n",
       "      <td>NaN</td>\n",
       "      <td>NaN</td>\n",
       "      <td>NaN</td>\n",
       "      <td>NaN</td>\n",
       "    </tr>\n",
       "    <tr>\n",
       "      <th>101</th>\n",
       "      <td>10011120</td>\n",
       "      <td>20</td>\n",
       "      <td>542707.0</td>\n",
       "      <td>1.0</td>\n",
       "      <td>White</td>\n",
       "      <td>1</td>\n",
       "      <td>NaN</td>\n",
       "      <td>NaN</td>\n",
       "      <td>NaN</td>\n",
       "      <td>NaN</td>\n",
       "      <td>...</td>\n",
       "      <td>NaN</td>\n",
       "      <td>NaN</td>\n",
       "      <td>NaN</td>\n",
       "      <td>NaN</td>\n",
       "      <td>NaN</td>\n",
       "      <td>NaN</td>\n",
       "      <td>NaN</td>\n",
       "      <td>NaN</td>\n",
       "      <td>NaN</td>\n",
       "      <td>NaN</td>\n",
       "    </tr>\n",
       "    <tr>\n",
       "      <th>154</th>\n",
       "      <td>100163204</td>\n",
       "      <td>204</td>\n",
       "      <td>1054818.0</td>\n",
       "      <td>1.0</td>\n",
       "      <td>White</td>\n",
       "      <td>1</td>\n",
       "      <td>NaN</td>\n",
       "      <td>NaN</td>\n",
       "      <td>NaN</td>\n",
       "      <td>NaN</td>\n",
       "      <td>...</td>\n",
       "      <td>NaN</td>\n",
       "      <td>NaN</td>\n",
       "      <td>NaN</td>\n",
       "      <td>NaN</td>\n",
       "      <td>NaN</td>\n",
       "      <td>NaN</td>\n",
       "      <td>NaN</td>\n",
       "      <td>NaN</td>\n",
       "      <td>NaN</td>\n",
       "      <td>NaN</td>\n",
       "    </tr>\n",
       "    <tr>\n",
       "      <th>164</th>\n",
       "      <td>10017321</td>\n",
       "      <td>21</td>\n",
       "      <td>1332192.0</td>\n",
       "      <td>1.0</td>\n",
       "      <td>White</td>\n",
       "      <td>1</td>\n",
       "      <td>NaN</td>\n",
       "      <td>NaN</td>\n",
       "      <td>NaN</td>\n",
       "      <td>NaN</td>\n",
       "      <td>...</td>\n",
       "      <td>NaN</td>\n",
       "      <td>NaN</td>\n",
       "      <td>NaN</td>\n",
       "      <td>NaN</td>\n",
       "      <td>NaN</td>\n",
       "      <td>NaN</td>\n",
       "      <td>NaN</td>\n",
       "      <td>NaN</td>\n",
       "      <td>NaN</td>\n",
       "      <td>NaN</td>\n",
       "    </tr>\n",
       "  </tbody>\n",
       "</table>\n",
       "<p>5 rows × 47 columns</p>\n",
       "</div>"
      ],
      "text/plain": [
       "       e_patid  e_pracid  e_gen_hesid  n_patid_hes gen_ethnicity  match_rank  \\\n",
       "19    10002112       112      54425.0          1.0         White           1   \n",
       "59    10007093        93     853202.0          1.0       Unknown           2   \n",
       "101   10011120        20     542707.0          1.0         White           1   \n",
       "154  100163204       204    1054818.0          1.0         White           1   \n",
       "164   10017321        21    1332192.0          1.0         White           1   \n",
       "\n",
       "     e_gen_mhds_id  n_patid_mh  pre_2011  post_2011  ...  cause14 cause15  \\\n",
       "19             NaN         NaN       NaN        NaN  ...      NaN     NaN   \n",
       "59             NaN         NaN       NaN        NaN  ...      NaN     NaN   \n",
       "101            NaN         NaN       NaN        NaN  ...      NaN     NaN   \n",
       "154            NaN         NaN       NaN        NaN  ...      NaN     NaN   \n",
       "164            NaN         NaN       NaN        NaN  ...      NaN     NaN   \n",
       "\n",
       "    cause_neonatal1 cause_neonatal2 cause_neonatal3 cause_neonatal4  \\\n",
       "19              NaN             NaN             NaN             NaN   \n",
       "59              NaN             NaN             NaN             NaN   \n",
       "101             NaN             NaN             NaN             NaN   \n",
       "154             NaN             NaN             NaN             NaN   \n",
       "164             NaN             NaN             NaN             NaN   \n",
       "\n",
       "     cause_neonatal5  cause_neonatal6 cause_neonatal7 cause_neonatal8  \n",
       "19               NaN              NaN             NaN             NaN  \n",
       "59               NaN              NaN             NaN             NaN  \n",
       "101              NaN              NaN             NaN             NaN  \n",
       "154              NaN              NaN             NaN             NaN  \n",
       "164              NaN              NaN             NaN             NaN  \n",
       "\n",
       "[5 rows x 47 columns]"
      ]
     },
     "execution_count": 59,
     "metadata": {},
     "output_type": "execute_result"
    }
   ],
   "source": [
    "patient_merged.head()"
   ]
  },
  {
   "cell_type": "code",
   "execution_count": 60,
   "metadata": {},
   "outputs": [
    {
     "data": {
      "text/plain": [
       "71879"
      ]
     },
     "execution_count": 60,
     "metadata": {},
     "output_type": "execute_result"
    }
   ],
   "source": [
    "patient_merged.shape[0]"
   ]
  },
  {
   "cell_type": "code",
   "execution_count": 61,
   "metadata": {},
   "outputs": [
    {
     "data": {
      "text/plain": [
       "25453"
      ]
     },
     "execution_count": 61,
     "metadata": {},
     "output_type": "execute_result"
    }
   ],
   "source": [
    "len(cohort_e_patids)"
   ]
  },
  {
   "cell_type": "code",
   "execution_count": 62,
   "metadata": {},
   "outputs": [],
   "source": [
    "# drop duplicates for patient ethnicity and any where ethnicity is unknown\n",
    "patient_ethnicities = patient_merged[['e_patid', 'gen_ethnicity']].drop_duplicates()\n",
    "patient_ethnicities = patient_ethnicities.dropna()\n",
    "patient_ethnicities = patient_ethnicities[patient_ethnicities.gen_ethnicity != 'Unknown']"
   ]
  },
  {
   "cell_type": "code",
   "execution_count": 63,
   "metadata": {},
   "outputs": [
    {
     "data": {
      "text/plain": [
       "20595"
      ]
     },
     "execution_count": 63,
     "metadata": {},
     "output_type": "execute_result"
    }
   ],
   "source": [
    "len(patient_ethnicities.e_patid.unique())"
   ]
  },
  {
   "cell_type": "code",
   "execution_count": 64,
   "metadata": {},
   "outputs": [
    {
     "data": {
      "text/plain": [
       "20794"
      ]
     },
     "execution_count": 64,
     "metadata": {},
     "output_type": "execute_result"
    }
   ],
   "source": [
    "patient_ethnicities.shape[0]"
   ]
  },
  {
   "cell_type": "code",
   "execution_count": 65,
   "metadata": {},
   "outputs": [
    {
     "data": {
      "text/plain": [
       "28508165     2\n",
       "76832526     2\n",
       "49300987     2\n",
       "306962252    2\n",
       "269243149    2\n",
       "            ..\n",
       "347218226    1\n",
       "347172206    1\n",
       "347145102    1\n",
       "34714414     1\n",
       "95428100     1\n",
       "Name: e_patid, Length: 20595, dtype: int64"
      ]
     },
     "execution_count": 65,
     "metadata": {},
     "output_type": "execute_result"
    }
   ],
   "source": [
    "patient_ethnicities.e_patid.value_counts()"
   ]
  },
  {
   "cell_type": "code",
   "execution_count": 66,
   "metadata": {},
   "outputs": [
    {
     "data": {
      "text/html": [
       "<div>\n",
       "<style scoped>\n",
       "    .dataframe tbody tr th:only-of-type {\n",
       "        vertical-align: middle;\n",
       "    }\n",
       "\n",
       "    .dataframe tbody tr th {\n",
       "        vertical-align: top;\n",
       "    }\n",
       "\n",
       "    .dataframe thead th {\n",
       "        text-align: right;\n",
       "    }\n",
       "</style>\n",
       "<table border=\"1\" class=\"dataframe\">\n",
       "  <thead>\n",
       "    <tr style=\"text-align: right;\">\n",
       "      <th></th>\n",
       "      <th>e_patid</th>\n",
       "      <th>gen_ethnicity</th>\n",
       "    </tr>\n",
       "  </thead>\n",
       "  <tbody>\n",
       "    <tr>\n",
       "      <th>10122</th>\n",
       "      <td>11105980</td>\n",
       "      <td>Bl_Afric</td>\n",
       "    </tr>\n",
       "    <tr>\n",
       "      <th>399921</th>\n",
       "      <td>5368195</td>\n",
       "      <td>Indian</td>\n",
       "    </tr>\n",
       "    <tr>\n",
       "      <th>580054</th>\n",
       "      <td>734211177</td>\n",
       "      <td>White</td>\n",
       "    </tr>\n",
       "    <tr>\n",
       "      <th>299541</th>\n",
       "      <td>5368195</td>\n",
       "      <td>White</td>\n",
       "    </tr>\n",
       "    <tr>\n",
       "      <th>1453</th>\n",
       "      <td>11105980</td>\n",
       "      <td>White</td>\n",
       "    </tr>\n",
       "    <tr>\n",
       "      <th>86417</th>\n",
       "      <td>734211177</td>\n",
       "      <td>Other</td>\n",
       "    </tr>\n",
       "  </tbody>\n",
       "</table>\n",
       "</div>"
      ],
      "text/plain": [
       "          e_patid gen_ethnicity\n",
       "10122    11105980      Bl_Afric\n",
       "399921    5368195        Indian\n",
       "580054  734211177         White\n",
       "299541    5368195         White\n",
       "1453     11105980         White\n",
       "86417   734211177         Other"
      ]
     },
     "execution_count": 66,
     "metadata": {},
     "output_type": "execute_result"
    }
   ],
   "source": [
    "patient_ethnicities[patient_ethnicities.e_patid.isin([11105980, 734211177, 5368195])]"
   ]
  },
  {
   "cell_type": "code",
   "execution_count": 67,
   "metadata": {},
   "outputs": [
    {
     "data": {
      "text/plain": [
       "White         20189\n",
       "Other           173\n",
       "Bl_Carib        131\n",
       "Indian           91\n",
       "Oth_Asian        52\n",
       "Mixed            42\n",
       "Bl_Afric         33\n",
       "Pakistani        29\n",
       "Bl_Other         26\n",
       "Chinese          17\n",
       "Bangladesi       11\n",
       "Name: gen_ethnicity, dtype: int64"
      ]
     },
     "execution_count": 67,
     "metadata": {},
     "output_type": "execute_result"
    }
   ],
   "source": [
    "patient_ethnicities.gen_ethnicity.value_counts()"
   ]
  },
  {
   "cell_type": "code",
   "execution_count": 68,
   "metadata": {},
   "outputs": [
    {
     "data": {
      "text/html": [
       "<div>\n",
       "<style scoped>\n",
       "    .dataframe tbody tr th:only-of-type {\n",
       "        vertical-align: middle;\n",
       "    }\n",
       "\n",
       "    .dataframe tbody tr th {\n",
       "        vertical-align: top;\n",
       "    }\n",
       "\n",
       "    .dataframe thead th {\n",
       "        text-align: right;\n",
       "    }\n",
       "</style>\n",
       "<table border=\"1\" class=\"dataframe\">\n",
       "  <thead>\n",
       "    <tr style=\"text-align: right;\">\n",
       "      <th></th>\n",
       "      <th>e_patid</th>\n",
       "      <th>Ethnicity</th>\n",
       "    </tr>\n",
       "  </thead>\n",
       "  <tbody>\n",
       "    <tr>\n",
       "      <th>0</th>\n",
       "      <td>10002112</td>\n",
       "      <td>White</td>\n",
       "    </tr>\n",
       "    <tr>\n",
       "      <th>1</th>\n",
       "      <td>10011120</td>\n",
       "      <td>White</td>\n",
       "    </tr>\n",
       "    <tr>\n",
       "      <th>2</th>\n",
       "      <td>100163204</td>\n",
       "      <td>White</td>\n",
       "    </tr>\n",
       "    <tr>\n",
       "      <th>3</th>\n",
       "      <td>10017321</td>\n",
       "      <td>White</td>\n",
       "    </tr>\n",
       "    <tr>\n",
       "      <th>4</th>\n",
       "      <td>100175164</td>\n",
       "      <td>White</td>\n",
       "    </tr>\n",
       "  </tbody>\n",
       "</table>\n",
       "</div>"
      ],
      "text/plain": [
       "     e_patid Ethnicity\n",
       "0   10002112     White\n",
       "1   10011120     White\n",
       "2  100163204     White\n",
       "3   10017321     White\n",
       "4  100175164     White"
      ]
     },
     "execution_count": 68,
     "metadata": {},
     "output_type": "execute_result"
    }
   ],
   "source": [
    "# set any patient with two or more ethnicities to 'mixed' and shrink to less categories to match CPRD GOLD ones\n",
    "ethn_e_patids = list(patient_ethnicities.e_patid.unique())\n",
    "ethnicities_list = []\n",
    "for i in ethn_e_patids:\n",
    "    if patient_ethnicities[patient_ethnicities.e_patid == i].shape[0] > 1:\n",
    "        ethnicity_1 = list(patient_ethnicities[\n",
    "            patient_ethnicities.e_patid == i].gen_ethnicity)[0]\n",
    "        ethnicity_2 = list(patient_ethnicities[\n",
    "            patient_ethnicities.e_patid == i].gen_ethnicity)[1]\n",
    "        if ethnicity_1 in [\n",
    "            'Bl_Carib', 'Bl_Afric', 'Bl_Other'] and ethnicity_2 in [\n",
    "            'Bl_Carib', 'Bl_Afric', 'Bl_Other']:\n",
    "            ethnicities_list.append('Black')\n",
    "        elif ethnicity_1 in [\n",
    "            'Indian', 'Pakistani', 'Bangladesi'] and ethnicity_2 in [\n",
    "            'Indian', 'Pakistani', 'Bangladesi']:\n",
    "            ethnicities_list.append('S_Asian')\n",
    "        else:\n",
    "            ethnicities_list.append('Mixed')\n",
    "    else:\n",
    "        ethnicity = list(patient_ethnicities[\n",
    "            patient_ethnicities.e_patid == i].gen_ethnicity)[0]\n",
    "        if ethnicity in ['Bl_Carib', 'Bl_Afric', 'Bl_Other']:\n",
    "            ethnicities_list.append('Black')\n",
    "        elif ethnicity in ['Indian', 'Pakistani', 'Bangladesi']:\n",
    "            ethnicities_list.append('S_Asian')\n",
    "        elif ethnicity == 'Mixed':\n",
    "            ethnicities_list.append('Mixed')\n",
    "        elif ethnicity == 'White':\n",
    "            ethnicities_list.append('White')\n",
    "        else:\n",
    "            ethnicities_list.append('Other')\n",
    "        \n",
    "ethnicities_df_out = pd.DataFrame({'e_patid': ethn_e_patids, 'Ethnicity': ethnicities_list})\n",
    "ethnicities_df_out.head()"
   ]
  },
  {
   "cell_type": "code",
   "execution_count": 69,
   "metadata": {},
   "outputs": [
    {
     "data": {
      "text/plain": [
       "White      20046\n",
       "Mixed        192\n",
       "Black        139\n",
       "Other        120\n",
       "S_Asian       98\n",
       "Name: Ethnicity, dtype: int64"
      ]
     },
     "execution_count": 69,
     "metadata": {},
     "output_type": "execute_result"
    }
   ],
   "source": [
    "ethnicities_df_out.Ethnicity.value_counts()"
   ]
  },
  {
   "cell_type": "code",
   "execution_count": 70,
   "metadata": {},
   "outputs": [
    {
     "data": {
      "text/html": [
       "<div>\n",
       "<style scoped>\n",
       "    .dataframe tbody tr th:only-of-type {\n",
       "        vertical-align: middle;\n",
       "    }\n",
       "\n",
       "    .dataframe tbody tr th {\n",
       "        vertical-align: top;\n",
       "    }\n",
       "\n",
       "    .dataframe thead th {\n",
       "        text-align: right;\n",
       "    }\n",
       "</style>\n",
       "<table border=\"1\" class=\"dataframe\">\n",
       "  <thead>\n",
       "    <tr style=\"text-align: right;\">\n",
       "      <th></th>\n",
       "      <th>categoryname</th>\n",
       "      <th>category</th>\n",
       "      <th>readcode</th>\n",
       "      <th>readterm</th>\n",
       "      <th>medcode</th>\n",
       "    </tr>\n",
       "  </thead>\n",
       "  <tbody>\n",
       "    <tr>\n",
       "      <th>0</th>\n",
       "      <td>White British (1)</td>\n",
       "      <td>1</td>\n",
       "      <td>9S10.00</td>\n",
       "      <td>White British</td>\n",
       "      <td>12446</td>\n",
       "    </tr>\n",
       "    <tr>\n",
       "      <th>1</th>\n",
       "      <td>White British (1)</td>\n",
       "      <td>1</td>\n",
       "      <td>9S13.00</td>\n",
       "      <td>White Scottish</td>\n",
       "      <td>26467</td>\n",
       "    </tr>\n",
       "    <tr>\n",
       "      <th>2</th>\n",
       "      <td>White British (1)</td>\n",
       "      <td>1</td>\n",
       "      <td>9S14.00</td>\n",
       "      <td>Other white British ethnic group</td>\n",
       "      <td>26310</td>\n",
       "    </tr>\n",
       "    <tr>\n",
       "      <th>3</th>\n",
       "      <td>White British (1)</td>\n",
       "      <td>1</td>\n",
       "      <td>9i00.00</td>\n",
       "      <td>White British - ethnic category 2001 census</td>\n",
       "      <td>98111</td>\n",
       "    </tr>\n",
       "    <tr>\n",
       "      <th>4</th>\n",
       "      <td>White British (1)</td>\n",
       "      <td>1</td>\n",
       "      <td>9i20.00</td>\n",
       "      <td>English - ethnic category 2001 census</td>\n",
       "      <td>12352</td>\n",
       "    </tr>\n",
       "  </tbody>\n",
       "</table>\n",
       "</div>"
      ],
      "text/plain": [
       "        categoryname  category readcode  \\\n",
       "0  White British (1)         1  9S10.00   \n",
       "1  White British (1)         1  9S13.00   \n",
       "2  White British (1)         1  9S14.00   \n",
       "3  White British (1)         1  9i00.00   \n",
       "4  White British (1)         1  9i20.00   \n",
       "\n",
       "                                      readterm  medcode  \n",
       "0                                White British    12446  \n",
       "1                               White Scottish    26467  \n",
       "2             Other white British ethnic group    26310  \n",
       "3  White British - ethnic category 2001 census    98111  \n",
       "4        English - ethnic category 2001 census    12352  "
      ]
     },
     "execution_count": 70,
     "metadata": {},
     "output_type": "execute_result"
    }
   ],
   "source": [
    "# read in cprd ethnicity codes\n",
    "ethnicity_codes = pd.read_excel(os.getcwd() + '/Risk Factor Codes/ethnicity.dta.xls')\n",
    "ethnicity_codes.head()"
   ]
  },
  {
   "cell_type": "code",
   "execution_count": 71,
   "metadata": {},
   "outputs": [],
   "source": [
    "path2 = \"/mnt/lustre/users/maths/tws21/seb_tmp/bsms2730/bsms2730/Primary Care/CPRD GOLD/\""
   ]
  },
  {
   "cell_type": "code",
   "execution_count": 72,
   "metadata": {},
   "outputs": [],
   "source": [
    "# get all ethnicity med codes that aren't 'not specified'\n",
    "ethnicity_med_codes = ethnicity_codes[ethnicity_codes['categoryname'] != 'Ethnic group not specified (21)']['medcode']"
   ]
  },
  {
   "cell_type": "code",
   "execution_count": 73,
   "metadata": {},
   "outputs": [],
   "source": [
    "clinical_files = glob.glob(path2 + \"*clinical*.txt\") # list all files in the directory with \"clinical\" in filename\n",
    "\n",
    "#read  all the clinical files in and add to a list, format and search for cohort patients\n",
    "clinical_list = []\n",
    "for filename in clinical_files:    \n",
    "    df = pd.read_csv(filename, sep=\"\\t\")\n",
    "    df = df[df['e_patid'].isin(cohort_e_patids)]\n",
    "    df = formatdate(df)\n",
    "    df = df[df['medcode'].isin(ethnicity_med_codes)][['e_patid', 'eventdate', 'medcode']]\n",
    "    clinical_list.append(df)\n",
    "\n",
    "clinical_merged = pd.concat(clinical_list, axis=0) # merge all the clinical files together"
   ]
  },
  {
   "cell_type": "code",
   "execution_count": 74,
   "metadata": {},
   "outputs": [
    {
     "name": "stdout",
     "output_type": "stream",
     "text": [
      "5916\n",
      "4888\n"
     ]
    }
   ],
   "source": [
    "# get most recent CPRD primary care ethnicity date\n",
    "print(clinical_ethnicity_codes.shape[0])\n",
    "\n",
    "clin_ethn_e_patids = clinical_ethnicity_codes['e_patid'].unique()\n",
    "last_clin_ethn_code = []\n",
    "for i in clin_ethn_e_patids:\n",
    "    last_clin_ethn_code.append(max(clinical_ethnicity_codes[clinical_ethnicity_codes['e_patid'] == i]['eventdate']))\n",
    "    \n",
    "last_ethn_code_dates_df = pd.DataFrame({'e_patid': clin_ethn_e_patids, 'eventdate': last_clin_ethn_code})\n",
    "\n",
    "last_clinical_ethnicity_codes = last_ethn_code_dates_df.merge(\n",
    "    right = clinical_ethnicity_codes, on = ['e_patid', 'eventdate'], how = 'inner').drop_duplicates()\n",
    "\n",
    "print(last_clinical_ethnicity_codes.shape[0])"
   ]
  },
  {
   "cell_type": "code",
   "execution_count": 75,
   "metadata": {},
   "outputs": [],
   "source": [
    "# merge to get the most recent codes\n",
    "last_clinical_ethnicity_codes = last_clinical_ethnicity_codes.merge(\n",
    "    right = ethnicity_codes[['medcode', 'category']], \n",
    "    on = ['medcode'], how = 'inner')\n",
    "\n",
    "last_clinical_ethnicity_codes = last_clinical_ethnicity_codes.drop(columns = ['medcode']).drop_duplicates()"
   ]
  },
  {
   "cell_type": "code",
   "execution_count": 76,
   "metadata": {},
   "outputs": [
    {
     "data": {
      "text/plain": [
       "1    4643\n",
       "4      85\n",
       "3      68\n",
       "5      46\n",
       "2      17\n",
       "Name: category, dtype: int64"
      ]
     },
     "execution_count": 76,
     "metadata": {},
     "output_type": "execute_result"
    }
   ],
   "source": [
    "last_clinical_ethnicity_codes.category.value_counts()"
   ]
  },
  {
   "cell_type": "code",
   "execution_count": 77,
   "metadata": {},
   "outputs": [
    {
     "data": {
      "text/plain": [
       "765150233    2\n",
       "301172206    2\n",
       "11788156     2\n",
       "437834112    1\n",
       "47821539     1\n",
       "            ..\n",
       "784021199    1\n",
       "780786199    1\n",
       "77644156     1\n",
       "772983199    1\n",
       "55617483     1\n",
       "Name: e_patid, Length: 4856, dtype: int64"
      ]
     },
     "execution_count": 77,
     "metadata": {},
     "output_type": "execute_result"
    }
   ],
   "source": [
    "last_clinical_ethnicity_codes.e_patid.value_counts()"
   ]
  },
  {
   "cell_type": "code",
   "execution_count": 78,
   "metadata": {},
   "outputs": [],
   "source": [
    "# map to same categories as HES\n",
    "last_clinical_ethnicity_codes['Ethnicity'] = last_clinical_ethnicity_codes.category.map({1: 'White', 2: 'Mixed',\n",
    "                                                                                        3: 'S_Asian', 4: 'Black',\n",
    "                                                                                        5: 'Other'})\n",
    "last_clinical_ethnicity_codes = last_clinical_ethnicity_codes.drop(columns = ['category'])"
   ]
  },
  {
   "cell_type": "code",
   "execution_count": 80,
   "metadata": {},
   "outputs": [
    {
     "data": {
      "text/html": [
       "<div>\n",
       "<style scoped>\n",
       "    .dataframe tbody tr th:only-of-type {\n",
       "        vertical-align: middle;\n",
       "    }\n",
       "\n",
       "    .dataframe tbody tr th {\n",
       "        vertical-align: top;\n",
       "    }\n",
       "\n",
       "    .dataframe thead th {\n",
       "        text-align: right;\n",
       "    }\n",
       "</style>\n",
       "<table border=\"1\" class=\"dataframe\">\n",
       "  <thead>\n",
       "    <tr style=\"text-align: right;\">\n",
       "      <th></th>\n",
       "      <th>e_patid</th>\n",
       "      <th>eventdate</th>\n",
       "      <th>Ethnicity</th>\n",
       "    </tr>\n",
       "  </thead>\n",
       "  <tbody>\n",
       "    <tr>\n",
       "      <th>4616</th>\n",
       "      <td>765150233</td>\n",
       "      <td>2008-04-03</td>\n",
       "      <td>Black</td>\n",
       "    </tr>\n",
       "    <tr>\n",
       "      <th>4707</th>\n",
       "      <td>765150233</td>\n",
       "      <td>2008-04-03</td>\n",
       "      <td>Mixed</td>\n",
       "    </tr>\n",
       "    <tr>\n",
       "      <th>4840</th>\n",
       "      <td>301172206</td>\n",
       "      <td>2008-07-02</td>\n",
       "      <td>Other</td>\n",
       "    </tr>\n",
       "    <tr>\n",
       "      <th>4841</th>\n",
       "      <td>301172206</td>\n",
       "      <td>2008-07-02</td>\n",
       "      <td>Mixed</td>\n",
       "    </tr>\n",
       "    <tr>\n",
       "      <th>4867</th>\n",
       "      <td>11788156</td>\n",
       "      <td>2013-07-10</td>\n",
       "      <td>Black</td>\n",
       "    </tr>\n",
       "    <tr>\n",
       "      <th>4872</th>\n",
       "      <td>11788156</td>\n",
       "      <td>2013-07-10</td>\n",
       "      <td>Other</td>\n",
       "    </tr>\n",
       "  </tbody>\n",
       "</table>\n",
       "</div>"
      ],
      "text/plain": [
       "        e_patid  eventdate Ethnicity\n",
       "4616  765150233 2008-04-03     Black\n",
       "4707  765150233 2008-04-03     Mixed\n",
       "4840  301172206 2008-07-02     Other\n",
       "4841  301172206 2008-07-02     Mixed\n",
       "4867   11788156 2013-07-10     Black\n",
       "4872   11788156 2013-07-10     Other"
      ]
     },
     "execution_count": 80,
     "metadata": {},
     "output_type": "execute_result"
    }
   ],
   "source": [
    "last_clinical_ethnicity_codes[last_clinical_ethnicity_codes['e_patid'].isin([765150233, 301172206, 11788156])]"
   ]
  },
  {
   "cell_type": "code",
   "execution_count": 81,
   "metadata": {},
   "outputs": [],
   "source": [
    "# set patients with more than one ethnicity to mixed\n",
    "for i in clin_ethn_e_patids:\n",
    "    if last_clinical_ethnicity_codes[last_clinical_ethnicity_codes.e_patid == i].shape[0] > 1:\n",
    "        dfi = last_clinical_ethnicity_codes[last_clinical_ethnicity_codes.e_patid == i]\n",
    "        index = dfi.index\n",
    "        last_clinical_ethnicity_codes = last_clinical_ethnicity_codes.drop(index[1:])\n",
    "        last_clinical_ethnicity_codes.loc[index[0], 'Ethnicity'] = 'Mixed'"
   ]
  },
  {
   "cell_type": "code",
   "execution_count": 82,
   "metadata": {},
   "outputs": [
    {
     "data": {
      "text/plain": [
       "10515182     1\n",
       "508049131    1\n",
       "486541112    1\n",
       "47821539     1\n",
       "472044131    1\n",
       "            ..\n",
       "784021199    1\n",
       "780786199    1\n",
       "77644156     1\n",
       "772983199    1\n",
       "55617483     1\n",
       "Name: e_patid, Length: 4856, dtype: int64"
      ]
     },
     "execution_count": 82,
     "metadata": {},
     "output_type": "execute_result"
    }
   ],
   "source": [
    "last_clinical_ethnicity_codes.e_patid.value_counts()"
   ]
  },
  {
   "cell_type": "code",
   "execution_count": 83,
   "metadata": {},
   "outputs": [
    {
     "data": {
      "text/html": [
       "<div>\n",
       "<style scoped>\n",
       "    .dataframe tbody tr th:only-of-type {\n",
       "        vertical-align: middle;\n",
       "    }\n",
       "\n",
       "    .dataframe tbody tr th {\n",
       "        vertical-align: top;\n",
       "    }\n",
       "\n",
       "    .dataframe thead th {\n",
       "        text-align: right;\n",
       "    }\n",
       "</style>\n",
       "<table border=\"1\" class=\"dataframe\">\n",
       "  <thead>\n",
       "    <tr style=\"text-align: right;\">\n",
       "      <th></th>\n",
       "      <th>e_patid</th>\n",
       "      <th>Ethnicity</th>\n",
       "    </tr>\n",
       "  </thead>\n",
       "  <tbody>\n",
       "    <tr>\n",
       "      <th>0</th>\n",
       "      <td>24117254</td>\n",
       "      <td>White</td>\n",
       "    </tr>\n",
       "    <tr>\n",
       "      <th>1</th>\n",
       "      <td>519045131</td>\n",
       "      <td>White</td>\n",
       "    </tr>\n",
       "    <tr>\n",
       "      <th>2</th>\n",
       "      <td>734003216</td>\n",
       "      <td>White</td>\n",
       "    </tr>\n",
       "    <tr>\n",
       "      <th>3</th>\n",
       "      <td>10485798</td>\n",
       "      <td>White</td>\n",
       "    </tr>\n",
       "    <tr>\n",
       "      <th>4</th>\n",
       "      <td>630194220</td>\n",
       "      <td>White</td>\n",
       "    </tr>\n",
       "  </tbody>\n",
       "</table>\n",
       "</div>"
      ],
      "text/plain": [
       "     e_patid Ethnicity\n",
       "0   24117254     White\n",
       "1  519045131     White\n",
       "2  734003216     White\n",
       "3   10485798     White\n",
       "4  630194220     White"
      ]
     },
     "execution_count": 83,
     "metadata": {},
     "output_type": "execute_result"
    }
   ],
   "source": [
    "# merge CPRD and HES ethnicities taking CPRD where possible and HES where missing, any nans as unspecified\n",
    "merged_ethnicities = []\n",
    "for i in cohort_e_patids:\n",
    "    if i in clin_ethn_e_patids:\n",
    "        merged_ethnicities.append(\n",
    "            list(last_clinical_ethnicity_codes[last_clinical_ethnicity_codes.e_patid == i].Ethnicity)[0])\n",
    "    elif i in ethn_e_patids:\n",
    "        merged_ethnicities.append(list(ethnicities_df_out[ethnicities_df_out.e_patid == i].Ethnicity)[0])\n",
    "    else:\n",
    "        merged_ethnicities.append('Unspecified')\n",
    "        \n",
    "merged_ethnicities_df = pd.DataFrame({'e_patid': cohort_e_patids, 'Ethnicity': merged_ethnicities})\n",
    "merged_ethnicities_df.head()"
   ]
  },
  {
   "cell_type": "code",
   "execution_count": 86,
   "metadata": {},
   "outputs": [
    {
     "data": {
      "text/plain": [
       "White          20257\n",
       "Unspecified     4669\n",
       "Black            158\n",
       "Other            130\n",
       "Mixed            123\n",
       "S_Asian          116\n",
       "Name: Ethnicity, dtype: int64"
      ]
     },
     "execution_count": 86,
     "metadata": {},
     "output_type": "execute_result"
    }
   ],
   "source": [
    "merged_ethnicities_df.Ethnicity.value_counts()"
   ]
  },
  {
   "cell_type": "code",
   "execution_count": 87,
   "metadata": {},
   "outputs": [],
   "source": [
    "# Output to parquet\n",
    "merged_ethnicities_df.to_parquet(os.getcwd() + '/Merged_Ethnicities.parquet')"
   ]
  },
  {
   "cell_type": "code",
   "execution_count": null,
   "metadata": {},
   "outputs": [],
   "source": []
  }
 ],
 "metadata": {
  "kernelspec": {
   "display_name": "Python 3",
   "language": "python",
   "name": "python3"
  },
  "language_info": {
   "codemirror_mode": {
    "name": "ipython",
    "version": 3
   },
   "file_extension": ".py",
   "mimetype": "text/x-python",
   "name": "python",
   "nbconvert_exporter": "python",
   "pygments_lexer": "ipython3",
   "version": "3.7.6"
  }
 },
 "nbformat": 4,
 "nbformat_minor": 4
}
