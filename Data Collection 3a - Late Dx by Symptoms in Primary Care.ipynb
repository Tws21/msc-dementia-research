{
 "cells": [
  {
   "cell_type": "code",
   "execution_count": 1,
   "metadata": {},
   "outputs": [],
   "source": [
    "# imports\n",
    "import sys\n",
    "import os\n",
    "import socket\n",
    "import pandas as pd\n",
    "import glob\n",
    "import datetime"
   ]
  },
  {
   "cell_type": "code",
   "execution_count": 2,
   "metadata": {},
   "outputs": [],
   "source": [
    "# read in clean cohort file\n",
    "cohort = pd.read_parquet(os.getcwd() + '/cleaned_cohort_file.parquet')"
   ]
  },
  {
   "cell_type": "code",
   "execution_count": 3,
   "metadata": {},
   "outputs": [],
   "source": [
    "# read in symptoms files\n",
    "symptoms_clin = pd.read_parquet(os.getcwd() + '/first_dementia_symptoms_in_primary_care.parquet')\n",
    "symptoms_test = pd.read_parquet(os.getcwd() + '/first_dementia_symptoms_in_primary_test.parquet')\n",
    "symptoms_ref = pd.read_parquet(os.getcwd() + '/first_dementia_symptoms_in_primary_referral.parquet')"
   ]
  },
  {
   "cell_type": "code",
   "execution_count": 4,
   "metadata": {},
   "outputs": [
    {
     "data": {
      "text/html": [
       "<div>\n",
       "<style scoped>\n",
       "    .dataframe tbody tr th:only-of-type {\n",
       "        vertical-align: middle;\n",
       "    }\n",
       "\n",
       "    .dataframe tbody tr th {\n",
       "        vertical-align: top;\n",
       "    }\n",
       "\n",
       "    .dataframe thead th {\n",
       "        text-align: right;\n",
       "    }\n",
       "</style>\n",
       "<table border=\"1\" class=\"dataframe\">\n",
       "  <thead>\n",
       "    <tr style=\"text-align: right;\">\n",
       "      <th></th>\n",
       "      <th>e_patid</th>\n",
       "      <th>first_diagnosis_date</th>\n",
       "      <th>first_diagnosed_in_primary_care</th>\n",
       "      <th>gender</th>\n",
       "      <th>age_at_dx</th>\n",
       "      <th>e_pracid</th>\n",
       "      <th>region</th>\n",
       "      <th>uts</th>\n",
       "      <th>e2015_imd_5</th>\n",
       "      <th>dx_minus6m</th>\n",
       "      <th>dx_minus12m</th>\n",
       "      <th>dx_minus18m</th>\n",
       "      <th>dx_minus24m</th>\n",
       "      <th>dx_minus3y</th>\n",
       "      <th>dx_minus5y</th>\n",
       "    </tr>\n",
       "  </thead>\n",
       "  <tbody>\n",
       "    <tr>\n",
       "      <th>0</th>\n",
       "      <td>24117254</td>\n",
       "      <td>2005-10-04</td>\n",
       "      <td>1.0</td>\n",
       "      <td>1.0</td>\n",
       "      <td>70.0</td>\n",
       "      <td>54.0</td>\n",
       "      <td>10.0</td>\n",
       "      <td>2000-01-12</td>\n",
       "      <td>4.0</td>\n",
       "      <td>2005-04-04</td>\n",
       "      <td>2004-10-04</td>\n",
       "      <td>2004-04-04</td>\n",
       "      <td>2003-10-05</td>\n",
       "      <td>2002-10-05</td>\n",
       "      <td>2000-10-04</td>\n",
       "    </tr>\n",
       "    <tr>\n",
       "      <th>1</th>\n",
       "      <td>519045131</td>\n",
       "      <td>2004-02-11</td>\n",
       "      <td>0.0</td>\n",
       "      <td>1.0</td>\n",
       "      <td>74.0</td>\n",
       "      <td>131.0</td>\n",
       "      <td>2.0</td>\n",
       "      <td>1992-12-21</td>\n",
       "      <td>5.0</td>\n",
       "      <td>2003-08-12</td>\n",
       "      <td>2003-02-11</td>\n",
       "      <td>2002-08-12</td>\n",
       "      <td>2002-02-11</td>\n",
       "      <td>2001-02-11</td>\n",
       "      <td>1999-02-11</td>\n",
       "    </tr>\n",
       "    <tr>\n",
       "      <th>3</th>\n",
       "      <td>734003216</td>\n",
       "      <td>2009-08-26</td>\n",
       "      <td>1.0</td>\n",
       "      <td>2.0</td>\n",
       "      <td>93.0</td>\n",
       "      <td>216.0</td>\n",
       "      <td>10.0</td>\n",
       "      <td>2003-02-14</td>\n",
       "      <td>4.0</td>\n",
       "      <td>2009-02-24</td>\n",
       "      <td>2008-08-26</td>\n",
       "      <td>2008-02-25</td>\n",
       "      <td>2007-08-27</td>\n",
       "      <td>2006-08-27</td>\n",
       "      <td>2004-08-26</td>\n",
       "    </tr>\n",
       "    <tr>\n",
       "      <th>7</th>\n",
       "      <td>10485798</td>\n",
       "      <td>2014-01-02</td>\n",
       "      <td>0.0</td>\n",
       "      <td>1.0</td>\n",
       "      <td>89.0</td>\n",
       "      <td>98.0</td>\n",
       "      <td>6.0</td>\n",
       "      <td>1990-01-03</td>\n",
       "      <td>4.0</td>\n",
       "      <td>2013-07-03</td>\n",
       "      <td>2013-01-02</td>\n",
       "      <td>2012-07-03</td>\n",
       "      <td>2012-01-03</td>\n",
       "      <td>2011-01-03</td>\n",
       "      <td>2009-01-02</td>\n",
       "    </tr>\n",
       "    <tr>\n",
       "      <th>8</th>\n",
       "      <td>630194220</td>\n",
       "      <td>2003-05-15</td>\n",
       "      <td>0.0</td>\n",
       "      <td>2.0</td>\n",
       "      <td>74.0</td>\n",
       "      <td>220.0</td>\n",
       "      <td>7.0</td>\n",
       "      <td>1997-09-23</td>\n",
       "      <td>5.0</td>\n",
       "      <td>2002-11-13</td>\n",
       "      <td>2002-05-15</td>\n",
       "      <td>2001-11-13</td>\n",
       "      <td>2001-05-15</td>\n",
       "      <td>2000-05-15</td>\n",
       "      <td>1998-05-15</td>\n",
       "    </tr>\n",
       "  </tbody>\n",
       "</table>\n",
       "</div>"
      ],
      "text/plain": [
       "     e_patid first_diagnosis_date  first_diagnosed_in_primary_care  gender  \\\n",
       "0   24117254           2005-10-04                              1.0     1.0   \n",
       "1  519045131           2004-02-11                              0.0     1.0   \n",
       "3  734003216           2009-08-26                              1.0     2.0   \n",
       "7   10485798           2014-01-02                              0.0     1.0   \n",
       "8  630194220           2003-05-15                              0.0     2.0   \n",
       "\n",
       "   age_at_dx  e_pracid  region        uts  e2015_imd_5 dx_minus6m dx_minus12m  \\\n",
       "0       70.0      54.0    10.0 2000-01-12          4.0 2005-04-04  2004-10-04   \n",
       "1       74.0     131.0     2.0 1992-12-21          5.0 2003-08-12  2003-02-11   \n",
       "3       93.0     216.0    10.0 2003-02-14          4.0 2009-02-24  2008-08-26   \n",
       "7       89.0      98.0     6.0 1990-01-03          4.0 2013-07-03  2013-01-02   \n",
       "8       74.0     220.0     7.0 1997-09-23          5.0 2002-11-13  2002-05-15   \n",
       "\n",
       "  dx_minus18m dx_minus24m dx_minus3y dx_minus5y  \n",
       "0  2004-04-04  2003-10-05 2002-10-05 2000-10-04  \n",
       "1  2002-08-12  2002-02-11 2001-02-11 1999-02-11  \n",
       "3  2008-02-25  2007-08-27 2006-08-27 2004-08-26  \n",
       "7  2012-07-03  2012-01-03 2011-01-03 2009-01-02  \n",
       "8  2001-11-13  2001-05-15 2000-05-15 1998-05-15  "
      ]
     },
     "execution_count": 4,
     "metadata": {},
     "output_type": "execute_result"
    }
   ],
   "source": [
    "cohort.head()"
   ]
  },
  {
   "cell_type": "code",
   "execution_count": 5,
   "metadata": {},
   "outputs": [],
   "source": [
    "# limit to files where first dx was in primary care\n",
    "primary_dx = cohort[cohort['first_diagnosed_in_primary_care'] == 1.0]"
   ]
  },
  {
   "cell_type": "code",
   "execution_count": 6,
   "metadata": {},
   "outputs": [],
   "source": [
    "# get unique e_patids\n",
    "primary_e_patids = list(primary_dx['e_patid'])"
   ]
  },
  {
   "cell_type": "code",
   "execution_count": 7,
   "metadata": {},
   "outputs": [],
   "source": [
    "# limit symptom files to relevant e_patids\n",
    "prim_sym_clin = symptoms_clin[symptoms_clin['e_patid'].isin(primary_e_patids)]\n",
    "prim_sym_test = symptoms_test[symptoms_test['e_patid'].isin(primary_e_patids)]\n",
    "prim_sym_ref = symptoms_ref[symptoms_ref['e_patid'].isin(primary_e_patids)]"
   ]
  },
  {
   "cell_type": "code",
   "execution_count": 8,
   "metadata": {},
   "outputs": [
    {
     "data": {
      "text/plain": [
       "10474"
      ]
     },
     "execution_count": 8,
     "metadata": {},
     "output_type": "execute_result"
    }
   ],
   "source": [
    "prim_sym_clin.shape[0]"
   ]
  },
  {
   "cell_type": "code",
   "execution_count": 9,
   "metadata": {},
   "outputs": [
    {
     "data": {
      "text/plain": [
       "0"
      ]
     },
     "execution_count": 9,
     "metadata": {},
     "output_type": "execute_result"
    }
   ],
   "source": [
    "prim_sym_test.shape[0]"
   ]
  },
  {
   "cell_type": "code",
   "execution_count": 10,
   "metadata": {},
   "outputs": [
    {
     "data": {
      "text/plain": [
       "5488"
      ]
     },
     "execution_count": 10,
     "metadata": {},
     "output_type": "execute_result"
    }
   ],
   "source": [
    "prim_sym_ref.shape[0]"
   ]
  },
  {
   "cell_type": "code",
   "execution_count": 11,
   "metadata": {},
   "outputs": [
    {
     "data": {
      "text/plain": [
       "11966"
      ]
     },
     "execution_count": 11,
     "metadata": {},
     "output_type": "execute_result"
    }
   ],
   "source": [
    "primary_dx.shape[0]"
   ]
  },
  {
   "cell_type": "code",
   "execution_count": 12,
   "metadata": {},
   "outputs": [],
   "source": [
    "# get unique e_patids for each file\n",
    "e_patids_clin = prim_sym_clin['e_patid'].unique()\n",
    "e_patids_test = prim_sym_test['e_patid'].unique()\n",
    "e_patids_ref = prim_sym_ref['e_patid'].unique()"
   ]
  },
  {
   "cell_type": "code",
   "execution_count": 13,
   "metadata": {},
   "outputs": [],
   "source": [
    "# get first dementia symptom for each unique patient selected\n",
    "first_dementia_symptoms_primary = []\n",
    "for i in primary_e_patids:\n",
    "    dates = list(cohort[cohort['e_patid'] == i]['first_diagnosis_date'])\n",
    "    if i in e_patids_clin:\n",
    "        dates.append(min(prim_sym_clin[prim_sym_clin['e_patid'] == i]['eventdate']))\n",
    "    if i in e_patids_test:\n",
    "        dates.append(min(prim_sym_test[prim_sym_test['e_patid'] == i]['eventdate']))\n",
    "    if i in e_patids_ref:\n",
    "        dates.append(min(prim_sym_ref[prim_sym_ref['e_patid'] == i]['eventdate']))\n",
    "    first_dementia_symptoms_primary.append(min(dates))"
   ]
  },
  {
   "cell_type": "code",
   "execution_count": 14,
   "metadata": {},
   "outputs": [
    {
     "name": "stderr",
     "output_type": "stream",
     "text": [
      "/mnt/ebinstall/software/Anaconda3/2020.02/lib/python3.7/site-packages/ipykernel_launcher.py:2: SettingWithCopyWarning: \n",
      "A value is trying to be set on a copy of a slice from a DataFrame.\n",
      "Try using .loc[row_indexer,col_indexer] = value instead\n",
      "\n",
      "See the caveats in the documentation: https://pandas.pydata.org/pandas-docs/stable/user_guide/indexing.html#returning-a-view-versus-a-copy\n",
      "  \n"
     ]
    }
   ],
   "source": [
    "# create first symptom date column\n",
    "primary_dx['first_symptom_date'] = first_dementia_symptoms_primary"
   ]
  },
  {
   "cell_type": "code",
   "execution_count": 15,
   "metadata": {},
   "outputs": [
    {
     "data": {
      "text/html": [
       "<div>\n",
       "<style scoped>\n",
       "    .dataframe tbody tr th:only-of-type {\n",
       "        vertical-align: middle;\n",
       "    }\n",
       "\n",
       "    .dataframe tbody tr th {\n",
       "        vertical-align: top;\n",
       "    }\n",
       "\n",
       "    .dataframe thead th {\n",
       "        text-align: right;\n",
       "    }\n",
       "</style>\n",
       "<table border=\"1\" class=\"dataframe\">\n",
       "  <thead>\n",
       "    <tr style=\"text-align: right;\">\n",
       "      <th></th>\n",
       "      <th>e_patid</th>\n",
       "      <th>first_diagnosis_date</th>\n",
       "      <th>first_diagnosed_in_primary_care</th>\n",
       "      <th>gender</th>\n",
       "      <th>age_at_dx</th>\n",
       "      <th>e_pracid</th>\n",
       "      <th>region</th>\n",
       "      <th>uts</th>\n",
       "      <th>e2015_imd_5</th>\n",
       "      <th>dx_minus6m</th>\n",
       "      <th>dx_minus12m</th>\n",
       "      <th>dx_minus18m</th>\n",
       "      <th>dx_minus24m</th>\n",
       "      <th>dx_minus3y</th>\n",
       "      <th>dx_minus5y</th>\n",
       "      <th>first_symptom_date</th>\n",
       "    </tr>\n",
       "  </thead>\n",
       "  <tbody>\n",
       "    <tr>\n",
       "      <th>0</th>\n",
       "      <td>24117254</td>\n",
       "      <td>2005-10-04</td>\n",
       "      <td>1.0</td>\n",
       "      <td>1.0</td>\n",
       "      <td>70.0</td>\n",
       "      <td>54.0</td>\n",
       "      <td>10.0</td>\n",
       "      <td>2000-01-12</td>\n",
       "      <td>4.0</td>\n",
       "      <td>2005-04-04</td>\n",
       "      <td>2004-10-04</td>\n",
       "      <td>2004-04-04</td>\n",
       "      <td>2003-10-05</td>\n",
       "      <td>2002-10-05</td>\n",
       "      <td>2000-10-04</td>\n",
       "      <td>2005-08-08</td>\n",
       "    </tr>\n",
       "    <tr>\n",
       "      <th>3</th>\n",
       "      <td>734003216</td>\n",
       "      <td>2009-08-26</td>\n",
       "      <td>1.0</td>\n",
       "      <td>2.0</td>\n",
       "      <td>93.0</td>\n",
       "      <td>216.0</td>\n",
       "      <td>10.0</td>\n",
       "      <td>2003-02-14</td>\n",
       "      <td>4.0</td>\n",
       "      <td>2009-02-24</td>\n",
       "      <td>2008-08-26</td>\n",
       "      <td>2008-02-25</td>\n",
       "      <td>2007-08-27</td>\n",
       "      <td>2006-08-27</td>\n",
       "      <td>2004-08-26</td>\n",
       "      <td>2009-03-23</td>\n",
       "    </tr>\n",
       "    <tr>\n",
       "      <th>9</th>\n",
       "      <td>76546093</td>\n",
       "      <td>1994-12-15</td>\n",
       "      <td>1.0</td>\n",
       "      <td>1.0</td>\n",
       "      <td>66.0</td>\n",
       "      <td>93.0</td>\n",
       "      <td>3.0</td>\n",
       "      <td>1989-05-01</td>\n",
       "      <td>5.0</td>\n",
       "      <td>1994-06-15</td>\n",
       "      <td>1993-12-15</td>\n",
       "      <td>1993-06-15</td>\n",
       "      <td>1992-12-15</td>\n",
       "      <td>1991-12-16</td>\n",
       "      <td>1989-12-15</td>\n",
       "      <td>1994-12-15</td>\n",
       "    </tr>\n",
       "    <tr>\n",
       "      <th>11</th>\n",
       "      <td>395313206</td>\n",
       "      <td>2011-11-14</td>\n",
       "      <td>1.0</td>\n",
       "      <td>2.0</td>\n",
       "      <td>81.0</td>\n",
       "      <td>206.0</td>\n",
       "      <td>8.0</td>\n",
       "      <td>1998-12-22</td>\n",
       "      <td>3.0</td>\n",
       "      <td>2011-05-15</td>\n",
       "      <td>2010-11-14</td>\n",
       "      <td>2010-05-15</td>\n",
       "      <td>2009-11-14</td>\n",
       "      <td>2008-11-14</td>\n",
       "      <td>2006-11-14</td>\n",
       "      <td>2011-11-14</td>\n",
       "    </tr>\n",
       "    <tr>\n",
       "      <th>19</th>\n",
       "      <td>728236135</td>\n",
       "      <td>2002-03-02</td>\n",
       "      <td>1.0</td>\n",
       "      <td>1.0</td>\n",
       "      <td>67.0</td>\n",
       "      <td>135.0</td>\n",
       "      <td>8.0</td>\n",
       "      <td>1996-01-04</td>\n",
       "      <td>4.0</td>\n",
       "      <td>2001-08-31</td>\n",
       "      <td>2001-03-02</td>\n",
       "      <td>2000-08-31</td>\n",
       "      <td>2000-03-02</td>\n",
       "      <td>1999-03-03</td>\n",
       "      <td>1997-03-02</td>\n",
       "      <td>2002-01-08</td>\n",
       "    </tr>\n",
       "  </tbody>\n",
       "</table>\n",
       "</div>"
      ],
      "text/plain": [
       "      e_patid first_diagnosis_date  first_diagnosed_in_primary_care  gender  \\\n",
       "0    24117254           2005-10-04                              1.0     1.0   \n",
       "3   734003216           2009-08-26                              1.0     2.0   \n",
       "9    76546093           1994-12-15                              1.0     1.0   \n",
       "11  395313206           2011-11-14                              1.0     2.0   \n",
       "19  728236135           2002-03-02                              1.0     1.0   \n",
       "\n",
       "    age_at_dx  e_pracid  region        uts  e2015_imd_5 dx_minus6m  \\\n",
       "0        70.0      54.0    10.0 2000-01-12          4.0 2005-04-04   \n",
       "3        93.0     216.0    10.0 2003-02-14          4.0 2009-02-24   \n",
       "9        66.0      93.0     3.0 1989-05-01          5.0 1994-06-15   \n",
       "11       81.0     206.0     8.0 1998-12-22          3.0 2011-05-15   \n",
       "19       67.0     135.0     8.0 1996-01-04          4.0 2001-08-31   \n",
       "\n",
       "   dx_minus12m dx_minus18m dx_minus24m dx_minus3y dx_minus5y  \\\n",
       "0   2004-10-04  2004-04-04  2003-10-05 2002-10-05 2000-10-04   \n",
       "3   2008-08-26  2008-02-25  2007-08-27 2006-08-27 2004-08-26   \n",
       "9   1993-12-15  1993-06-15  1992-12-15 1991-12-16 1989-12-15   \n",
       "11  2010-11-14  2010-05-15  2009-11-14 2008-11-14 2006-11-14   \n",
       "19  2001-03-02  2000-08-31  2000-03-02 1999-03-03 1997-03-02   \n",
       "\n",
       "   first_symptom_date  \n",
       "0          2005-08-08  \n",
       "3          2009-03-23  \n",
       "9          1994-12-15  \n",
       "11         2011-11-14  \n",
       "19         2002-01-08  "
      ]
     },
     "execution_count": 15,
     "metadata": {},
     "output_type": "execute_result"
    }
   ],
   "source": [
    "primary_dx.head()"
   ]
  },
  {
   "cell_type": "code",
   "execution_count": 16,
   "metadata": {},
   "outputs": [
    {
     "name": "stderr",
     "output_type": "stream",
     "text": [
      "/mnt/ebinstall/software/Anaconda3/2020.02/lib/python3.7/site-packages/ipykernel_launcher.py:2: SettingWithCopyWarning: \n",
      "A value is trying to be set on a copy of a slice from a DataFrame.\n",
      "Try using .loc[row_indexer,col_indexer] = value instead\n",
      "\n",
      "See the caveats in the documentation: https://pandas.pydata.org/pandas-docs/stable/user_guide/indexing.html#returning-a-view-versus-a-copy\n",
      "  \n"
     ]
    }
   ],
   "source": [
    "# create time from symptom to diagnosis column\n",
    "primary_dx['time_from_first_symptom_to_dx'] = primary_dx['first_diagnosis_date'] - primary_dx['first_symptom_date']"
   ]
  },
  {
   "cell_type": "code",
   "execution_count": 17,
   "metadata": {},
   "outputs": [
    {
     "data": {
      "text/html": [
       "<div>\n",
       "<style scoped>\n",
       "    .dataframe tbody tr th:only-of-type {\n",
       "        vertical-align: middle;\n",
       "    }\n",
       "\n",
       "    .dataframe tbody tr th {\n",
       "        vertical-align: top;\n",
       "    }\n",
       "\n",
       "    .dataframe thead th {\n",
       "        text-align: right;\n",
       "    }\n",
       "</style>\n",
       "<table border=\"1\" class=\"dataframe\">\n",
       "  <thead>\n",
       "    <tr style=\"text-align: right;\">\n",
       "      <th></th>\n",
       "      <th>e_patid</th>\n",
       "      <th>first_diagnosis_date</th>\n",
       "      <th>first_diagnosed_in_primary_care</th>\n",
       "      <th>gender</th>\n",
       "      <th>age_at_dx</th>\n",
       "      <th>e_pracid</th>\n",
       "      <th>region</th>\n",
       "      <th>uts</th>\n",
       "      <th>e2015_imd_5</th>\n",
       "      <th>dx_minus6m</th>\n",
       "      <th>dx_minus12m</th>\n",
       "      <th>dx_minus18m</th>\n",
       "      <th>dx_minus24m</th>\n",
       "      <th>dx_minus3y</th>\n",
       "      <th>dx_minus5y</th>\n",
       "      <th>first_symptom_date</th>\n",
       "      <th>time_from_first_symptom_to_dx</th>\n",
       "    </tr>\n",
       "  </thead>\n",
       "  <tbody>\n",
       "    <tr>\n",
       "      <th>0</th>\n",
       "      <td>24117254</td>\n",
       "      <td>2005-10-04</td>\n",
       "      <td>1.0</td>\n",
       "      <td>1.0</td>\n",
       "      <td>70.0</td>\n",
       "      <td>54.0</td>\n",
       "      <td>10.0</td>\n",
       "      <td>2000-01-12</td>\n",
       "      <td>4.0</td>\n",
       "      <td>2005-04-04</td>\n",
       "      <td>2004-10-04</td>\n",
       "      <td>2004-04-04</td>\n",
       "      <td>2003-10-05</td>\n",
       "      <td>2002-10-05</td>\n",
       "      <td>2000-10-04</td>\n",
       "      <td>2005-08-08</td>\n",
       "      <td>57 days</td>\n",
       "    </tr>\n",
       "    <tr>\n",
       "      <th>3</th>\n",
       "      <td>734003216</td>\n",
       "      <td>2009-08-26</td>\n",
       "      <td>1.0</td>\n",
       "      <td>2.0</td>\n",
       "      <td>93.0</td>\n",
       "      <td>216.0</td>\n",
       "      <td>10.0</td>\n",
       "      <td>2003-02-14</td>\n",
       "      <td>4.0</td>\n",
       "      <td>2009-02-24</td>\n",
       "      <td>2008-08-26</td>\n",
       "      <td>2008-02-25</td>\n",
       "      <td>2007-08-27</td>\n",
       "      <td>2006-08-27</td>\n",
       "      <td>2004-08-26</td>\n",
       "      <td>2009-03-23</td>\n",
       "      <td>156 days</td>\n",
       "    </tr>\n",
       "    <tr>\n",
       "      <th>9</th>\n",
       "      <td>76546093</td>\n",
       "      <td>1994-12-15</td>\n",
       "      <td>1.0</td>\n",
       "      <td>1.0</td>\n",
       "      <td>66.0</td>\n",
       "      <td>93.0</td>\n",
       "      <td>3.0</td>\n",
       "      <td>1989-05-01</td>\n",
       "      <td>5.0</td>\n",
       "      <td>1994-06-15</td>\n",
       "      <td>1993-12-15</td>\n",
       "      <td>1993-06-15</td>\n",
       "      <td>1992-12-15</td>\n",
       "      <td>1991-12-16</td>\n",
       "      <td>1989-12-15</td>\n",
       "      <td>1994-12-15</td>\n",
       "      <td>0 days</td>\n",
       "    </tr>\n",
       "    <tr>\n",
       "      <th>11</th>\n",
       "      <td>395313206</td>\n",
       "      <td>2011-11-14</td>\n",
       "      <td>1.0</td>\n",
       "      <td>2.0</td>\n",
       "      <td>81.0</td>\n",
       "      <td>206.0</td>\n",
       "      <td>8.0</td>\n",
       "      <td>1998-12-22</td>\n",
       "      <td>3.0</td>\n",
       "      <td>2011-05-15</td>\n",
       "      <td>2010-11-14</td>\n",
       "      <td>2010-05-15</td>\n",
       "      <td>2009-11-14</td>\n",
       "      <td>2008-11-14</td>\n",
       "      <td>2006-11-14</td>\n",
       "      <td>2011-11-14</td>\n",
       "      <td>0 days</td>\n",
       "    </tr>\n",
       "    <tr>\n",
       "      <th>19</th>\n",
       "      <td>728236135</td>\n",
       "      <td>2002-03-02</td>\n",
       "      <td>1.0</td>\n",
       "      <td>1.0</td>\n",
       "      <td>67.0</td>\n",
       "      <td>135.0</td>\n",
       "      <td>8.0</td>\n",
       "      <td>1996-01-04</td>\n",
       "      <td>4.0</td>\n",
       "      <td>2001-08-31</td>\n",
       "      <td>2001-03-02</td>\n",
       "      <td>2000-08-31</td>\n",
       "      <td>2000-03-02</td>\n",
       "      <td>1999-03-03</td>\n",
       "      <td>1997-03-02</td>\n",
       "      <td>2002-01-08</td>\n",
       "      <td>53 days</td>\n",
       "    </tr>\n",
       "  </tbody>\n",
       "</table>\n",
       "</div>"
      ],
      "text/plain": [
       "      e_patid first_diagnosis_date  first_diagnosed_in_primary_care  gender  \\\n",
       "0    24117254           2005-10-04                              1.0     1.0   \n",
       "3   734003216           2009-08-26                              1.0     2.0   \n",
       "9    76546093           1994-12-15                              1.0     1.0   \n",
       "11  395313206           2011-11-14                              1.0     2.0   \n",
       "19  728236135           2002-03-02                              1.0     1.0   \n",
       "\n",
       "    age_at_dx  e_pracid  region        uts  e2015_imd_5 dx_minus6m  \\\n",
       "0        70.0      54.0    10.0 2000-01-12          4.0 2005-04-04   \n",
       "3        93.0     216.0    10.0 2003-02-14          4.0 2009-02-24   \n",
       "9        66.0      93.0     3.0 1989-05-01          5.0 1994-06-15   \n",
       "11       81.0     206.0     8.0 1998-12-22          3.0 2011-05-15   \n",
       "19       67.0     135.0     8.0 1996-01-04          4.0 2001-08-31   \n",
       "\n",
       "   dx_minus12m dx_minus18m dx_minus24m dx_minus3y dx_minus5y  \\\n",
       "0   2004-10-04  2004-04-04  2003-10-05 2002-10-05 2000-10-04   \n",
       "3   2008-08-26  2008-02-25  2007-08-27 2006-08-27 2004-08-26   \n",
       "9   1993-12-15  1993-06-15  1992-12-15 1991-12-16 1989-12-15   \n",
       "11  2010-11-14  2010-05-15  2009-11-14 2008-11-14 2006-11-14   \n",
       "19  2001-03-02  2000-08-31  2000-03-02 1999-03-03 1997-03-02   \n",
       "\n",
       "   first_symptom_date time_from_first_symptom_to_dx  \n",
       "0          2005-08-08                       57 days  \n",
       "3          2009-03-23                      156 days  \n",
       "9          1994-12-15                        0 days  \n",
       "11         2011-11-14                        0 days  \n",
       "19         2002-01-08                       53 days  "
      ]
     },
     "execution_count": 17,
     "metadata": {},
     "output_type": "execute_result"
    }
   ],
   "source": [
    "primary_dx.head()"
   ]
  },
  {
   "cell_type": "code",
   "execution_count": 18,
   "metadata": {},
   "outputs": [
    {
     "data": {
      "text/html": [
       "<div>\n",
       "<style scoped>\n",
       "    .dataframe tbody tr th:only-of-type {\n",
       "        vertical-align: middle;\n",
       "    }\n",
       "\n",
       "    .dataframe tbody tr th {\n",
       "        vertical-align: top;\n",
       "    }\n",
       "\n",
       "    .dataframe thead th {\n",
       "        text-align: right;\n",
       "    }\n",
       "</style>\n",
       "<table border=\"1\" class=\"dataframe\">\n",
       "  <thead>\n",
       "    <tr style=\"text-align: right;\">\n",
       "      <th></th>\n",
       "      <th>e_patid</th>\n",
       "      <th>first_diagnosed_in_primary_care</th>\n",
       "      <th>gender</th>\n",
       "      <th>age_at_dx</th>\n",
       "      <th>e_pracid</th>\n",
       "      <th>region</th>\n",
       "      <th>e2015_imd_5</th>\n",
       "      <th>time_from_first_symptom_to_dx</th>\n",
       "    </tr>\n",
       "  </thead>\n",
       "  <tbody>\n",
       "    <tr>\n",
       "      <th>count</th>\n",
       "      <td>1.196600e+04</td>\n",
       "      <td>11966.0</td>\n",
       "      <td>11966.000000</td>\n",
       "      <td>11966.000000</td>\n",
       "      <td>11966.000000</td>\n",
       "      <td>11966.000000</td>\n",
       "      <td>11693.000000</td>\n",
       "      <td>11966</td>\n",
       "    </tr>\n",
       "    <tr>\n",
       "      <th>mean</th>\n",
       "      <td>2.773524e+08</td>\n",
       "      <td>1.0</td>\n",
       "      <td>1.633211</td>\n",
       "      <td>78.418519</td>\n",
       "      <td>135.799682</td>\n",
       "      <td>6.336370</td>\n",
       "      <td>3.267168</td>\n",
       "      <td>506 days 16:15:29.032258064</td>\n",
       "    </tr>\n",
       "    <tr>\n",
       "      <th>std</th>\n",
       "      <td>2.555865e+08</td>\n",
       "      <td>0.0</td>\n",
       "      <td>0.481948</td>\n",
       "      <td>8.668188</td>\n",
       "      <td>75.160900</td>\n",
       "      <td>2.536472</td>\n",
       "      <td>1.384737</td>\n",
       "      <td>1250 days 02:39:41.099861328</td>\n",
       "    </tr>\n",
       "    <tr>\n",
       "      <th>min</th>\n",
       "      <td>8.370000e+03</td>\n",
       "      <td>1.0</td>\n",
       "      <td>1.000000</td>\n",
       "      <td>42.000000</td>\n",
       "      <td>1.000000</td>\n",
       "      <td>1.000000</td>\n",
       "      <td>1.000000</td>\n",
       "      <td>0 days 00:00:00</td>\n",
       "    </tr>\n",
       "    <tr>\n",
       "      <th>25%</th>\n",
       "      <td>4.741896e+07</td>\n",
       "      <td>1.0</td>\n",
       "      <td>1.000000</td>\n",
       "      <td>73.000000</td>\n",
       "      <td>69.000000</td>\n",
       "      <td>5.000000</td>\n",
       "      <td>2.000000</td>\n",
       "      <td>0 days 00:00:00</td>\n",
       "    </tr>\n",
       "    <tr>\n",
       "      <th>50%</th>\n",
       "      <td>1.916172e+08</td>\n",
       "      <td>1.0</td>\n",
       "      <td>2.000000</td>\n",
       "      <td>79.000000</td>\n",
       "      <td>138.000000</td>\n",
       "      <td>7.000000</td>\n",
       "      <td>3.000000</td>\n",
       "      <td>39 days 00:00:00</td>\n",
       "    </tr>\n",
       "    <tr>\n",
       "      <th>75%</th>\n",
       "      <td>5.002060e+08</td>\n",
       "      <td>1.0</td>\n",
       "      <td>2.000000</td>\n",
       "      <td>85.000000</td>\n",
       "      <td>206.000000</td>\n",
       "      <td>8.000000</td>\n",
       "      <td>4.000000</td>\n",
       "      <td>463 days 00:00:00</td>\n",
       "    </tr>\n",
       "    <tr>\n",
       "      <th>max</th>\n",
       "      <td>7.997672e+08</td>\n",
       "      <td>1.0</td>\n",
       "      <td>2.000000</td>\n",
       "      <td>108.000000</td>\n",
       "      <td>257.000000</td>\n",
       "      <td>10.000000</td>\n",
       "      <td>5.000000</td>\n",
       "      <td>29421 days 00:00:00</td>\n",
       "    </tr>\n",
       "  </tbody>\n",
       "</table>\n",
       "</div>"
      ],
      "text/plain": [
       "            e_patid  first_diagnosed_in_primary_care        gender  \\\n",
       "count  1.196600e+04                          11966.0  11966.000000   \n",
       "mean   2.773524e+08                              1.0      1.633211   \n",
       "std    2.555865e+08                              0.0      0.481948   \n",
       "min    8.370000e+03                              1.0      1.000000   \n",
       "25%    4.741896e+07                              1.0      1.000000   \n",
       "50%    1.916172e+08                              1.0      2.000000   \n",
       "75%    5.002060e+08                              1.0      2.000000   \n",
       "max    7.997672e+08                              1.0      2.000000   \n",
       "\n",
       "          age_at_dx      e_pracid        region   e2015_imd_5  \\\n",
       "count  11966.000000  11966.000000  11966.000000  11693.000000   \n",
       "mean      78.418519    135.799682      6.336370      3.267168   \n",
       "std        8.668188     75.160900      2.536472      1.384737   \n",
       "min       42.000000      1.000000      1.000000      1.000000   \n",
       "25%       73.000000     69.000000      5.000000      2.000000   \n",
       "50%       79.000000    138.000000      7.000000      3.000000   \n",
       "75%       85.000000    206.000000      8.000000      4.000000   \n",
       "max      108.000000    257.000000     10.000000      5.000000   \n",
       "\n",
       "      time_from_first_symptom_to_dx  \n",
       "count                         11966  \n",
       "mean    506 days 16:15:29.032258064  \n",
       "std    1250 days 02:39:41.099861328  \n",
       "min                 0 days 00:00:00  \n",
       "25%                 0 days 00:00:00  \n",
       "50%                39 days 00:00:00  \n",
       "75%               463 days 00:00:00  \n",
       "max             29421 days 00:00:00  "
      ]
     },
     "execution_count": 18,
     "metadata": {},
     "output_type": "execute_result"
    }
   ],
   "source": [
    "primary_dx.describe()"
   ]
  },
  {
   "cell_type": "code",
   "execution_count": 19,
   "metadata": {},
   "outputs": [
    {
     "data": {
      "text/plain": [
       "0.1       0 days\n",
       "0.2       0 days\n",
       "0.3       0 days\n",
       "0.4       0 days\n",
       "0.5      39 days\n",
       "0.6     124 days\n",
       "0.7     308 days\n",
       "0.8     672 days\n",
       "0.9    1450 days\n",
       "1.0   29421 days\n",
       "Name: time_from_first_symptom_to_dx, dtype: timedelta64[ns]"
      ]
     },
     "execution_count": 19,
     "metadata": {},
     "output_type": "execute_result"
    }
   ],
   "source": [
    "# check quantiles for time to diagnosis\n",
    "primary_dx['time_from_first_symptom_to_dx'].quantile(q = [0.1 * i for i in range(1,11)])"
   ]
  },
  {
   "cell_type": "code",
   "execution_count": 20,
   "metadata": {},
   "outputs": [
    {
     "data": {
      "text/plain": [
       "Timedelta('220 days 15:59:59.999999868')"
      ]
     },
     "execution_count": 20,
     "metadata": {},
     "output_type": "execute_result"
    }
   ],
   "source": [
    "primary_dx['time_from_first_symptom_to_dx'].quantile(q = 2/3)"
   ]
  },
  {
   "cell_type": "code",
   "execution_count": 21,
   "metadata": {},
   "outputs": [],
   "source": [
    "late_threshold = primary_dx['time_from_first_symptom_to_dx'].quantile(q = 2/3)"
   ]
  },
  {
   "cell_type": "code",
   "execution_count": 22,
   "metadata": {},
   "outputs": [
    {
     "data": {
      "text/plain": [
       "Timedelta('0 days 00:00:00')"
      ]
     },
     "execution_count": 22,
     "metadata": {},
     "output_type": "execute_result"
    }
   ],
   "source": [
    "timely_threshold = primary_dx['time_from_first_symptom_to_dx'].quantile(q = 1/3)\n",
    "timely_threshold"
   ]
  },
  {
   "cell_type": "code",
   "execution_count": 23,
   "metadata": {},
   "outputs": [],
   "source": [
    "# set late diagnosis by time after first symptom to in highest tertile\n",
    "late_by_symptoms = primary_dx[primary_dx['time_from_first_symptom_to_dx'] > late_threshold]"
   ]
  },
  {
   "cell_type": "code",
   "execution_count": 24,
   "metadata": {},
   "outputs": [],
   "source": [
    "late_e_patids = list(late_by_symptoms['e_patid'])"
   ]
  },
  {
   "cell_type": "code",
   "execution_count": 25,
   "metadata": {},
   "outputs": [
    {
     "data": {
      "text/plain": [
       "3989"
      ]
     },
     "execution_count": 25,
     "metadata": {},
     "output_type": "execute_result"
    }
   ],
   "source": [
    "late_by_symptoms.shape[0]"
   ]
  },
  {
   "cell_type": "code",
   "execution_count": 26,
   "metadata": {},
   "outputs": [],
   "source": [
    "cohort_e_patids = cohort['e_patid']"
   ]
  },
  {
   "cell_type": "code",
   "execution_count": 27,
   "metadata": {},
   "outputs": [],
   "source": [
    "# add late dx column including all patients specified as late above plus any first diagnosed in HES\n",
    "cohort_out = cohort.copy(deep = True)\n",
    "late_dx = []\n",
    "for i in cohort_e_patids:\n",
    "    if list(cohort[cohort['e_patid'] == i]['first_diagnosed_in_primary_care']) != [1.0]:\n",
    "        late_dx.append(1.0)\n",
    "    elif i in late_e_patids:\n",
    "        late_dx.append(1.0)\n",
    "    else:\n",
    "        late_dx.append(0.0)\n",
    "cohort_out['late_dx'] = late_dx"
   ]
  },
  {
   "cell_type": "code",
   "execution_count": 28,
   "metadata": {},
   "outputs": [
    {
     "data": {
      "text/html": [
       "<div>\n",
       "<style scoped>\n",
       "    .dataframe tbody tr th:only-of-type {\n",
       "        vertical-align: middle;\n",
       "    }\n",
       "\n",
       "    .dataframe tbody tr th {\n",
       "        vertical-align: top;\n",
       "    }\n",
       "\n",
       "    .dataframe thead th {\n",
       "        text-align: right;\n",
       "    }\n",
       "</style>\n",
       "<table border=\"1\" class=\"dataframe\">\n",
       "  <thead>\n",
       "    <tr style=\"text-align: right;\">\n",
       "      <th></th>\n",
       "      <th>e_patid</th>\n",
       "      <th>first_diagnosis_date</th>\n",
       "      <th>first_diagnosed_in_primary_care</th>\n",
       "      <th>gender</th>\n",
       "      <th>age_at_dx</th>\n",
       "      <th>e_pracid</th>\n",
       "      <th>region</th>\n",
       "      <th>uts</th>\n",
       "      <th>e2015_imd_5</th>\n",
       "      <th>dx_minus6m</th>\n",
       "      <th>dx_minus12m</th>\n",
       "      <th>dx_minus18m</th>\n",
       "      <th>dx_minus24m</th>\n",
       "      <th>dx_minus3y</th>\n",
       "      <th>dx_minus5y</th>\n",
       "      <th>late_dx</th>\n",
       "    </tr>\n",
       "  </thead>\n",
       "  <tbody>\n",
       "    <tr>\n",
       "      <th>0</th>\n",
       "      <td>24117254</td>\n",
       "      <td>2005-10-04</td>\n",
       "      <td>1.0</td>\n",
       "      <td>1.0</td>\n",
       "      <td>70.0</td>\n",
       "      <td>54.0</td>\n",
       "      <td>10.0</td>\n",
       "      <td>2000-01-12</td>\n",
       "      <td>4.0</td>\n",
       "      <td>2005-04-04</td>\n",
       "      <td>2004-10-04</td>\n",
       "      <td>2004-04-04</td>\n",
       "      <td>2003-10-05</td>\n",
       "      <td>2002-10-05</td>\n",
       "      <td>2000-10-04</td>\n",
       "      <td>0.0</td>\n",
       "    </tr>\n",
       "    <tr>\n",
       "      <th>1</th>\n",
       "      <td>519045131</td>\n",
       "      <td>2004-02-11</td>\n",
       "      <td>0.0</td>\n",
       "      <td>1.0</td>\n",
       "      <td>74.0</td>\n",
       "      <td>131.0</td>\n",
       "      <td>2.0</td>\n",
       "      <td>1992-12-21</td>\n",
       "      <td>5.0</td>\n",
       "      <td>2003-08-12</td>\n",
       "      <td>2003-02-11</td>\n",
       "      <td>2002-08-12</td>\n",
       "      <td>2002-02-11</td>\n",
       "      <td>2001-02-11</td>\n",
       "      <td>1999-02-11</td>\n",
       "      <td>1.0</td>\n",
       "    </tr>\n",
       "    <tr>\n",
       "      <th>3</th>\n",
       "      <td>734003216</td>\n",
       "      <td>2009-08-26</td>\n",
       "      <td>1.0</td>\n",
       "      <td>2.0</td>\n",
       "      <td>93.0</td>\n",
       "      <td>216.0</td>\n",
       "      <td>10.0</td>\n",
       "      <td>2003-02-14</td>\n",
       "      <td>4.0</td>\n",
       "      <td>2009-02-24</td>\n",
       "      <td>2008-08-26</td>\n",
       "      <td>2008-02-25</td>\n",
       "      <td>2007-08-27</td>\n",
       "      <td>2006-08-27</td>\n",
       "      <td>2004-08-26</td>\n",
       "      <td>0.0</td>\n",
       "    </tr>\n",
       "    <tr>\n",
       "      <th>7</th>\n",
       "      <td>10485798</td>\n",
       "      <td>2014-01-02</td>\n",
       "      <td>0.0</td>\n",
       "      <td>1.0</td>\n",
       "      <td>89.0</td>\n",
       "      <td>98.0</td>\n",
       "      <td>6.0</td>\n",
       "      <td>1990-01-03</td>\n",
       "      <td>4.0</td>\n",
       "      <td>2013-07-03</td>\n",
       "      <td>2013-01-02</td>\n",
       "      <td>2012-07-03</td>\n",
       "      <td>2012-01-03</td>\n",
       "      <td>2011-01-03</td>\n",
       "      <td>2009-01-02</td>\n",
       "      <td>1.0</td>\n",
       "    </tr>\n",
       "    <tr>\n",
       "      <th>8</th>\n",
       "      <td>630194220</td>\n",
       "      <td>2003-05-15</td>\n",
       "      <td>0.0</td>\n",
       "      <td>2.0</td>\n",
       "      <td>74.0</td>\n",
       "      <td>220.0</td>\n",
       "      <td>7.0</td>\n",
       "      <td>1997-09-23</td>\n",
       "      <td>5.0</td>\n",
       "      <td>2002-11-13</td>\n",
       "      <td>2002-05-15</td>\n",
       "      <td>2001-11-13</td>\n",
       "      <td>2001-05-15</td>\n",
       "      <td>2000-05-15</td>\n",
       "      <td>1998-05-15</td>\n",
       "      <td>1.0</td>\n",
       "    </tr>\n",
       "  </tbody>\n",
       "</table>\n",
       "</div>"
      ],
      "text/plain": [
       "     e_patid first_diagnosis_date  first_diagnosed_in_primary_care  gender  \\\n",
       "0   24117254           2005-10-04                              1.0     1.0   \n",
       "1  519045131           2004-02-11                              0.0     1.0   \n",
       "3  734003216           2009-08-26                              1.0     2.0   \n",
       "7   10485798           2014-01-02                              0.0     1.0   \n",
       "8  630194220           2003-05-15                              0.0     2.0   \n",
       "\n",
       "   age_at_dx  e_pracid  region        uts  e2015_imd_5 dx_minus6m dx_minus12m  \\\n",
       "0       70.0      54.0    10.0 2000-01-12          4.0 2005-04-04  2004-10-04   \n",
       "1       74.0     131.0     2.0 1992-12-21          5.0 2003-08-12  2003-02-11   \n",
       "3       93.0     216.0    10.0 2003-02-14          4.0 2009-02-24  2008-08-26   \n",
       "7       89.0      98.0     6.0 1990-01-03          4.0 2013-07-03  2013-01-02   \n",
       "8       74.0     220.0     7.0 1997-09-23          5.0 2002-11-13  2002-05-15   \n",
       "\n",
       "  dx_minus18m dx_minus24m dx_minus3y dx_minus5y  late_dx  \n",
       "0  2004-04-04  2003-10-05 2002-10-05 2000-10-04      0.0  \n",
       "1  2002-08-12  2002-02-11 2001-02-11 1999-02-11      1.0  \n",
       "3  2008-02-25  2007-08-27 2006-08-27 2004-08-26      0.0  \n",
       "7  2012-07-03  2012-01-03 2011-01-03 2009-01-02      1.0  \n",
       "8  2001-11-13  2001-05-15 2000-05-15 1998-05-15      1.0  "
      ]
     },
     "execution_count": 28,
     "metadata": {},
     "output_type": "execute_result"
    }
   ],
   "source": [
    "cohort_out.head()"
   ]
  },
  {
   "cell_type": "code",
   "execution_count": 29,
   "metadata": {},
   "outputs": [
    {
     "data": {
      "text/plain": [
       "count    11966.000000\n",
       "mean         0.333361\n",
       "std          0.471434\n",
       "min          0.000000\n",
       "25%          0.000000\n",
       "50%          0.000000\n",
       "75%          1.000000\n",
       "max          1.000000\n",
       "Name: late_dx, dtype: float64"
      ]
     },
     "execution_count": 29,
     "metadata": {},
     "output_type": "execute_result"
    }
   ],
   "source": [
    "cohort_out[cohort_out['first_diagnosed_in_primary_care'] == 1.0]['late_dx'].describe()"
   ]
  },
  {
   "cell_type": "code",
   "execution_count": 30,
   "metadata": {},
   "outputs": [],
   "source": [
    "# save to parquet\n",
    "cohort_out.to_parquet(os.getcwd() + '/late_by_symptom_date_cohort_file.parquet')"
   ]
  },
  {
   "cell_type": "code",
   "execution_count": null,
   "metadata": {},
   "outputs": [],
   "source": []
  }
 ],
 "metadata": {
  "kernelspec": {
   "display_name": "Python 3",
   "language": "python",
   "name": "python3"
  },
  "language_info": {
   "codemirror_mode": {
    "name": "ipython",
    "version": 3
   },
   "file_extension": ".py",
   "mimetype": "text/x-python",
   "name": "python",
   "nbconvert_exporter": "python",
   "pygments_lexer": "ipython3",
   "version": "3.7.6"
  }
 },
 "nbformat": 4,
 "nbformat_minor": 4
}
